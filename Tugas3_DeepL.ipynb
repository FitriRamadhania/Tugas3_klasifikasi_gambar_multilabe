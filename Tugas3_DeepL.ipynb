{
  "nbformat": 4,
  "nbformat_minor": 0,
  "metadata": {
    "colab": {
      "provenance": [],
      "gpuType": "T4",
      "include_colab_link": true
    },
    "kernelspec": {
      "name": "python3",
      "display_name": "Python 3"
    },
    "language_info": {
      "name": "python"
    },
    "accelerator": "GPU"
  },
  "cells": [
    {
      "cell_type": "markdown",
      "metadata": {
        "id": "view-in-github",
        "colab_type": "text"
      },
      "source": [
        "<a href=\"https://colab.research.google.com/github/FitriRamadhania/Tugas3_klasifikasi_gambar_multilabe/blob/main/Tugas3_DeepL.ipynb\" target=\"_parent\"><img src=\"https://colab.research.google.com/assets/colab-badge.svg\" alt=\"Open In Colab\"/></a>"
      ]
    },
    {
      "cell_type": "code",
      "source": [
        "!pip install -q kaggle"
      ],
      "metadata": {
        "id": "IaoK3CAAEMno"
      },
      "execution_count": 1,
      "outputs": []
    },
    {
      "cell_type": "code",
      "source": [
        "import keras\n",
        "from keras.models import Sequential\n",
        "from keras.layers import Dense, Dropout, Flatten\n",
        "from keras.layers import Conv2D, MaxPooling2D\n",
        "from keras.preprocessing import image\n",
        "import numpy as np\n",
        "import pandas as pd\n",
        "import matplotlib.pyplot as plt\n",
        "from sklearn.model_selection import train_test_split\n",
        "from tqdm import tqdm\n",
        "from keras.layers import BatchNormalization"
      ],
      "metadata": {
        "id": "WaXmWkAnCblq"
      },
      "execution_count": 2,
      "outputs": []
    },
    {
      "cell_type": "code",
      "source": [
        "#image_directory = 'DatasetMultilabe_Fitri Ramadhania_202255202021l/images/'\n",
        "\n",
        "#import kagglehub\n",
        "\n",
        "# Download latest version\n",
        "#path = kagglehub.dataset_download(\"fitriramadhania/dataset-sunscreen\")\n",
        "\n",
        "#print(\"Path to dataset files:\", path)"
      ],
      "metadata": {
        "id": "LHWCbsEWCejX"
      },
      "execution_count": 3,
      "outputs": []
    },
    {
      "cell_type": "code",
      "source": [
        "import os\n",
        "os.environ[\"KAGGLE_USERNAME\"] = \"fitriramadhania\" # Ganti dengan username Kaggle Anda\n",
        "os.environ[\"KAGGLE_KEY\"] = \"d1c74f5a85cd21bc1f8ababb8f7d8951\" # Ganti dengan key yang ada di kaggle.json"
      ],
      "metadata": {
        "id": "14E1CSbgEut7"
      },
      "execution_count": 4,
      "outputs": []
    },
    {
      "cell_type": "code",
      "source": [
        "!kaggle datasets download -d fitriramadhania/dataset-sunscreen"
      ],
      "metadata": {
        "colab": {
          "base_uri": "https://localhost:8080/"
        },
        "id": "cVyfs0LhFqu5",
        "outputId": "82bed9b1-3703-411b-965d-e487dbad21c8"
      },
      "execution_count": 5,
      "outputs": [
        {
          "output_type": "stream",
          "name": "stdout",
          "text": [
            "Dataset URL: https://www.kaggle.com/datasets/fitriramadhania/dataset-sunscreen\n",
            "License(s): other\n",
            "Downloading dataset-sunscreen.zip to /content\n",
            " 97% 648M/671M [00:05<00:00, 139MB/s]\n",
            "100% 671M/671M [00:05<00:00, 128MB/s]\n"
          ]
        }
      ]
    },
    {
      "cell_type": "code",
      "source": [
        "# prompt: unzip file dataset-sunscreen.zip\n",
        "\n",
        "!unzip dataset-sunscreen.zip\n"
      ],
      "metadata": {
        "colab": {
          "base_uri": "https://localhost:8080/"
        },
        "id": "PWNyqVEJGJ04",
        "outputId": "1144999e-e943-47ff-b8eb-e0d5aacee864"
      },
      "execution_count": 6,
      "outputs": [
        {
          "output_type": "stream",
          "name": "stdout",
          "text": [
            "Archive:  dataset-sunscreen.zip\n",
            "  inflating: DatasetMultilabe_Fitri Ramadhania_202255202021-20250607T051621Z-1-001/DatasetMultilabe_Fitri Ramadhania_202255202021/gambar01.jpg  \n",
            "  inflating: DatasetMultilabe_Fitri Ramadhania_202255202021-20250607T051621Z-1-001/DatasetMultilabe_Fitri Ramadhania_202255202021/gambar02.jpg  \n",
            "  inflating: DatasetMultilabe_Fitri Ramadhania_202255202021-20250607T051621Z-1-001/DatasetMultilabe_Fitri Ramadhania_202255202021/gambar03.jpg  \n",
            "  inflating: DatasetMultilabe_Fitri Ramadhania_202255202021-20250607T051621Z-1-001/DatasetMultilabe_Fitri Ramadhania_202255202021/gambar04.jpg  \n",
            "  inflating: DatasetMultilabe_Fitri Ramadhania_202255202021-20250607T051621Z-1-001/DatasetMultilabe_Fitri Ramadhania_202255202021/gambar05.jpg  \n",
            "  inflating: DatasetMultilabe_Fitri Ramadhania_202255202021-20250607T051621Z-1-001/DatasetMultilabe_Fitri Ramadhania_202255202021/gambar06.jpg  \n",
            "  inflating: DatasetMultilabe_Fitri Ramadhania_202255202021-20250607T051621Z-1-001/DatasetMultilabe_Fitri Ramadhania_202255202021/gambar07.jpg  \n",
            "  inflating: DatasetMultilabe_Fitri Ramadhania_202255202021-20250607T051621Z-1-001/DatasetMultilabe_Fitri Ramadhania_202255202021/gambar08.jpg  \n",
            "  inflating: DatasetMultilabe_Fitri Ramadhania_202255202021-20250607T051621Z-1-001/DatasetMultilabe_Fitri Ramadhania_202255202021/gambar09.jpg  \n",
            "  inflating: DatasetMultilabe_Fitri Ramadhania_202255202021-20250607T051621Z-1-001/DatasetMultilabe_Fitri Ramadhania_202255202021/gambar10.jpg  \n",
            "  inflating: DatasetMultilabe_Fitri Ramadhania_202255202021-20250607T051621Z-1-001/DatasetMultilabe_Fitri Ramadhania_202255202021/gambar100.jpg  \n",
            "  inflating: DatasetMultilabe_Fitri Ramadhania_202255202021-20250607T051621Z-1-001/DatasetMultilabe_Fitri Ramadhania_202255202021/gambar101.jpg  \n",
            "  inflating: DatasetMultilabe_Fitri Ramadhania_202255202021-20250607T051621Z-1-001/DatasetMultilabe_Fitri Ramadhania_202255202021/gambar102.jpg  \n",
            "  inflating: DatasetMultilabe_Fitri Ramadhania_202255202021-20250607T051621Z-1-001/DatasetMultilabe_Fitri Ramadhania_202255202021/gambar103.jpg  \n",
            "  inflating: DatasetMultilabe_Fitri Ramadhania_202255202021-20250607T051621Z-1-001/DatasetMultilabe_Fitri Ramadhania_202255202021/gambar104.jpg  \n",
            "  inflating: DatasetMultilabe_Fitri Ramadhania_202255202021-20250607T051621Z-1-001/DatasetMultilabe_Fitri Ramadhania_202255202021/gambar105.jpg  \n",
            "  inflating: DatasetMultilabe_Fitri Ramadhania_202255202021-20250607T051621Z-1-001/DatasetMultilabe_Fitri Ramadhania_202255202021/gambar106.jpg  \n",
            "  inflating: DatasetMultilabe_Fitri Ramadhania_202255202021-20250607T051621Z-1-001/DatasetMultilabe_Fitri Ramadhania_202255202021/gambar107.jpg  \n",
            "  inflating: DatasetMultilabe_Fitri Ramadhania_202255202021-20250607T051621Z-1-001/DatasetMultilabe_Fitri Ramadhania_202255202021/gambar108.jpg  \n",
            "  inflating: DatasetMultilabe_Fitri Ramadhania_202255202021-20250607T051621Z-1-001/DatasetMultilabe_Fitri Ramadhania_202255202021/gambar109.jpg  \n",
            "  inflating: DatasetMultilabe_Fitri Ramadhania_202255202021-20250607T051621Z-1-001/DatasetMultilabe_Fitri Ramadhania_202255202021/gambar11.jpg  \n",
            "  inflating: DatasetMultilabe_Fitri Ramadhania_202255202021-20250607T051621Z-1-001/DatasetMultilabe_Fitri Ramadhania_202255202021/gambar110.jpg  \n",
            "  inflating: DatasetMultilabe_Fitri Ramadhania_202255202021-20250607T051621Z-1-001/DatasetMultilabe_Fitri Ramadhania_202255202021/gambar111.jpg  \n",
            "  inflating: DatasetMultilabe_Fitri Ramadhania_202255202021-20250607T051621Z-1-001/DatasetMultilabe_Fitri Ramadhania_202255202021/gambar112.jpg  \n",
            "  inflating: DatasetMultilabe_Fitri Ramadhania_202255202021-20250607T051621Z-1-001/DatasetMultilabe_Fitri Ramadhania_202255202021/gambar113.jpg  \n",
            "  inflating: DatasetMultilabe_Fitri Ramadhania_202255202021-20250607T051621Z-1-001/DatasetMultilabe_Fitri Ramadhania_202255202021/gambar114.jpg  \n",
            "  inflating: DatasetMultilabe_Fitri Ramadhania_202255202021-20250607T051621Z-1-001/DatasetMultilabe_Fitri Ramadhania_202255202021/gambar115.jpg  \n",
            "  inflating: DatasetMultilabe_Fitri Ramadhania_202255202021-20250607T051621Z-1-001/DatasetMultilabe_Fitri Ramadhania_202255202021/gambar116.jpg  \n",
            "  inflating: DatasetMultilabe_Fitri Ramadhania_202255202021-20250607T051621Z-1-001/DatasetMultilabe_Fitri Ramadhania_202255202021/gambar117.jpg  \n",
            "  inflating: DatasetMultilabe_Fitri Ramadhania_202255202021-20250607T051621Z-1-001/DatasetMultilabe_Fitri Ramadhania_202255202021/gambar118.jpg  \n",
            "  inflating: DatasetMultilabe_Fitri Ramadhania_202255202021-20250607T051621Z-1-001/DatasetMultilabe_Fitri Ramadhania_202255202021/gambar119.jpg  \n",
            "  inflating: DatasetMultilabe_Fitri Ramadhania_202255202021-20250607T051621Z-1-001/DatasetMultilabe_Fitri Ramadhania_202255202021/gambar12.jpg  \n",
            "  inflating: DatasetMultilabe_Fitri Ramadhania_202255202021-20250607T051621Z-1-001/DatasetMultilabe_Fitri Ramadhania_202255202021/gambar120.jpg  \n",
            "  inflating: DatasetMultilabe_Fitri Ramadhania_202255202021-20250607T051621Z-1-001/DatasetMultilabe_Fitri Ramadhania_202255202021/gambar121.jpg  \n",
            "  inflating: DatasetMultilabe_Fitri Ramadhania_202255202021-20250607T051621Z-1-001/DatasetMultilabe_Fitri Ramadhania_202255202021/gambar122.jpg  \n",
            "  inflating: DatasetMultilabe_Fitri Ramadhania_202255202021-20250607T051621Z-1-001/DatasetMultilabe_Fitri Ramadhania_202255202021/gambar123.jpg  \n",
            "  inflating: DatasetMultilabe_Fitri Ramadhania_202255202021-20250607T051621Z-1-001/DatasetMultilabe_Fitri Ramadhania_202255202021/gambar124.jpg  \n",
            "  inflating: DatasetMultilabe_Fitri Ramadhania_202255202021-20250607T051621Z-1-001/DatasetMultilabe_Fitri Ramadhania_202255202021/gambar125.jpg  \n",
            "  inflating: DatasetMultilabe_Fitri Ramadhania_202255202021-20250607T051621Z-1-001/DatasetMultilabe_Fitri Ramadhania_202255202021/gambar126.jpg  \n",
            "  inflating: DatasetMultilabe_Fitri Ramadhania_202255202021-20250607T051621Z-1-001/DatasetMultilabe_Fitri Ramadhania_202255202021/gambar127.jpg  \n",
            "  inflating: DatasetMultilabe_Fitri Ramadhania_202255202021-20250607T051621Z-1-001/DatasetMultilabe_Fitri Ramadhania_202255202021/gambar128.jpg  \n",
            "  inflating: DatasetMultilabe_Fitri Ramadhania_202255202021-20250607T051621Z-1-001/DatasetMultilabe_Fitri Ramadhania_202255202021/gambar129.jpg  \n",
            "  inflating: DatasetMultilabe_Fitri Ramadhania_202255202021-20250607T051621Z-1-001/DatasetMultilabe_Fitri Ramadhania_202255202021/gambar13.jpg  \n",
            "  inflating: DatasetMultilabe_Fitri Ramadhania_202255202021-20250607T051621Z-1-001/DatasetMultilabe_Fitri Ramadhania_202255202021/gambar130.jpg  \n",
            "  inflating: DatasetMultilabe_Fitri Ramadhania_202255202021-20250607T051621Z-1-001/DatasetMultilabe_Fitri Ramadhania_202255202021/gambar131.jpg  \n",
            "  inflating: DatasetMultilabe_Fitri Ramadhania_202255202021-20250607T051621Z-1-001/DatasetMultilabe_Fitri Ramadhania_202255202021/gambar132.jpg  \n",
            "  inflating: DatasetMultilabe_Fitri Ramadhania_202255202021-20250607T051621Z-1-001/DatasetMultilabe_Fitri Ramadhania_202255202021/gambar133.jpg  \n",
            "  inflating: DatasetMultilabe_Fitri Ramadhania_202255202021-20250607T051621Z-1-001/DatasetMultilabe_Fitri Ramadhania_202255202021/gambar134.jpg  \n",
            "  inflating: DatasetMultilabe_Fitri Ramadhania_202255202021-20250607T051621Z-1-001/DatasetMultilabe_Fitri Ramadhania_202255202021/gambar135.jpg  \n",
            "  inflating: DatasetMultilabe_Fitri Ramadhania_202255202021-20250607T051621Z-1-001/DatasetMultilabe_Fitri Ramadhania_202255202021/gambar136.jpg  \n",
            "  inflating: DatasetMultilabe_Fitri Ramadhania_202255202021-20250607T051621Z-1-001/DatasetMultilabe_Fitri Ramadhania_202255202021/gambar137.jpg  \n",
            "  inflating: DatasetMultilabe_Fitri Ramadhania_202255202021-20250607T051621Z-1-001/DatasetMultilabe_Fitri Ramadhania_202255202021/gambar138.jpg  \n",
            "  inflating: DatasetMultilabe_Fitri Ramadhania_202255202021-20250607T051621Z-1-001/DatasetMultilabe_Fitri Ramadhania_202255202021/gambar139.jpg  \n",
            "  inflating: DatasetMultilabe_Fitri Ramadhania_202255202021-20250607T051621Z-1-001/DatasetMultilabe_Fitri Ramadhania_202255202021/gambar14.jpg  \n",
            "  inflating: DatasetMultilabe_Fitri Ramadhania_202255202021-20250607T051621Z-1-001/DatasetMultilabe_Fitri Ramadhania_202255202021/gambar140.jpg  \n",
            "  inflating: DatasetMultilabe_Fitri Ramadhania_202255202021-20250607T051621Z-1-001/DatasetMultilabe_Fitri Ramadhania_202255202021/gambar141.jpg  \n",
            "  inflating: DatasetMultilabe_Fitri Ramadhania_202255202021-20250607T051621Z-1-001/DatasetMultilabe_Fitri Ramadhania_202255202021/gambar142.jpg  \n",
            "  inflating: DatasetMultilabe_Fitri Ramadhania_202255202021-20250607T051621Z-1-001/DatasetMultilabe_Fitri Ramadhania_202255202021/gambar143.jpg  \n",
            "  inflating: DatasetMultilabe_Fitri Ramadhania_202255202021-20250607T051621Z-1-001/DatasetMultilabe_Fitri Ramadhania_202255202021/gambar144.jpg  \n",
            "  inflating: DatasetMultilabe_Fitri Ramadhania_202255202021-20250607T051621Z-1-001/DatasetMultilabe_Fitri Ramadhania_202255202021/gambar145.jpg  \n",
            "  inflating: DatasetMultilabe_Fitri Ramadhania_202255202021-20250607T051621Z-1-001/DatasetMultilabe_Fitri Ramadhania_202255202021/gambar146.jpg  \n",
            "  inflating: DatasetMultilabe_Fitri Ramadhania_202255202021-20250607T051621Z-1-001/DatasetMultilabe_Fitri Ramadhania_202255202021/gambar147.jpg  \n",
            "  inflating: DatasetMultilabe_Fitri Ramadhania_202255202021-20250607T051621Z-1-001/DatasetMultilabe_Fitri Ramadhania_202255202021/gambar148.jpg  \n",
            "  inflating: DatasetMultilabe_Fitri Ramadhania_202255202021-20250607T051621Z-1-001/DatasetMultilabe_Fitri Ramadhania_202255202021/gambar149.jpg  \n",
            "  inflating: DatasetMultilabe_Fitri Ramadhania_202255202021-20250607T051621Z-1-001/DatasetMultilabe_Fitri Ramadhania_202255202021/gambar15.jpg  \n",
            "  inflating: DatasetMultilabe_Fitri Ramadhania_202255202021-20250607T051621Z-1-001/DatasetMultilabe_Fitri Ramadhania_202255202021/gambar150.jpg  \n",
            "  inflating: DatasetMultilabe_Fitri Ramadhania_202255202021-20250607T051621Z-1-001/DatasetMultilabe_Fitri Ramadhania_202255202021/gambar151.jpg  \n",
            "  inflating: DatasetMultilabe_Fitri Ramadhania_202255202021-20250607T051621Z-1-001/DatasetMultilabe_Fitri Ramadhania_202255202021/gambar152.jpg  \n",
            "  inflating: DatasetMultilabe_Fitri Ramadhania_202255202021-20250607T051621Z-1-001/DatasetMultilabe_Fitri Ramadhania_202255202021/gambar153.jpg  \n",
            "  inflating: DatasetMultilabe_Fitri Ramadhania_202255202021-20250607T051621Z-1-001/DatasetMultilabe_Fitri Ramadhania_202255202021/gambar154.jpg  \n",
            "  inflating: DatasetMultilabe_Fitri Ramadhania_202255202021-20250607T051621Z-1-001/DatasetMultilabe_Fitri Ramadhania_202255202021/gambar155.jpg  \n",
            "  inflating: DatasetMultilabe_Fitri Ramadhania_202255202021-20250607T051621Z-1-001/DatasetMultilabe_Fitri Ramadhania_202255202021/gambar156.jpg  \n",
            "  inflating: DatasetMultilabe_Fitri Ramadhania_202255202021-20250607T051621Z-1-001/DatasetMultilabe_Fitri Ramadhania_202255202021/gambar157.jpg  \n",
            "  inflating: DatasetMultilabe_Fitri Ramadhania_202255202021-20250607T051621Z-1-001/DatasetMultilabe_Fitri Ramadhania_202255202021/gambar158.jpg  \n",
            "  inflating: DatasetMultilabe_Fitri Ramadhania_202255202021-20250607T051621Z-1-001/DatasetMultilabe_Fitri Ramadhania_202255202021/gambar159.jpg  \n",
            "  inflating: DatasetMultilabe_Fitri Ramadhania_202255202021-20250607T051621Z-1-001/DatasetMultilabe_Fitri Ramadhania_202255202021/gambar16.jpg  \n",
            "  inflating: DatasetMultilabe_Fitri Ramadhania_202255202021-20250607T051621Z-1-001/DatasetMultilabe_Fitri Ramadhania_202255202021/gambar160.jpg  \n",
            "  inflating: DatasetMultilabe_Fitri Ramadhania_202255202021-20250607T051621Z-1-001/DatasetMultilabe_Fitri Ramadhania_202255202021/gambar161.jpg  \n",
            "  inflating: DatasetMultilabe_Fitri Ramadhania_202255202021-20250607T051621Z-1-001/DatasetMultilabe_Fitri Ramadhania_202255202021/gambar162.jpg  \n",
            "  inflating: DatasetMultilabe_Fitri Ramadhania_202255202021-20250607T051621Z-1-001/DatasetMultilabe_Fitri Ramadhania_202255202021/gambar163.jpg  \n",
            "  inflating: DatasetMultilabe_Fitri Ramadhania_202255202021-20250607T051621Z-1-001/DatasetMultilabe_Fitri Ramadhania_202255202021/gambar164.jpg  \n",
            "  inflating: DatasetMultilabe_Fitri Ramadhania_202255202021-20250607T051621Z-1-001/DatasetMultilabe_Fitri Ramadhania_202255202021/gambar165.jpg  \n",
            "  inflating: DatasetMultilabe_Fitri Ramadhania_202255202021-20250607T051621Z-1-001/DatasetMultilabe_Fitri Ramadhania_202255202021/gambar166.jpg  \n",
            "  inflating: DatasetMultilabe_Fitri Ramadhania_202255202021-20250607T051621Z-1-001/DatasetMultilabe_Fitri Ramadhania_202255202021/gambar167.jpg  \n",
            "  inflating: DatasetMultilabe_Fitri Ramadhania_202255202021-20250607T051621Z-1-001/DatasetMultilabe_Fitri Ramadhania_202255202021/gambar168.jpg  \n",
            "  inflating: DatasetMultilabe_Fitri Ramadhania_202255202021-20250607T051621Z-1-001/DatasetMultilabe_Fitri Ramadhania_202255202021/gambar169.jpg  \n",
            "  inflating: DatasetMultilabe_Fitri Ramadhania_202255202021-20250607T051621Z-1-001/DatasetMultilabe_Fitri Ramadhania_202255202021/gambar17.jpg  \n",
            "  inflating: DatasetMultilabe_Fitri Ramadhania_202255202021-20250607T051621Z-1-001/DatasetMultilabe_Fitri Ramadhania_202255202021/gambar170.jpg  \n",
            "  inflating: DatasetMultilabe_Fitri Ramadhania_202255202021-20250607T051621Z-1-001/DatasetMultilabe_Fitri Ramadhania_202255202021/gambar171.jpg  \n",
            "  inflating: DatasetMultilabe_Fitri Ramadhania_202255202021-20250607T051621Z-1-001/DatasetMultilabe_Fitri Ramadhania_202255202021/gambar172.jpg  \n",
            "  inflating: DatasetMultilabe_Fitri Ramadhania_202255202021-20250607T051621Z-1-001/DatasetMultilabe_Fitri Ramadhania_202255202021/gambar173.jpg  \n",
            "  inflating: DatasetMultilabe_Fitri Ramadhania_202255202021-20250607T051621Z-1-001/DatasetMultilabe_Fitri Ramadhania_202255202021/gambar174.jpg  \n",
            "  inflating: DatasetMultilabe_Fitri Ramadhania_202255202021-20250607T051621Z-1-001/DatasetMultilabe_Fitri Ramadhania_202255202021/gambar175.jpg  \n",
            "  inflating: DatasetMultilabe_Fitri Ramadhania_202255202021-20250607T051621Z-1-001/DatasetMultilabe_Fitri Ramadhania_202255202021/gambar176.jpg  \n",
            "  inflating: DatasetMultilabe_Fitri Ramadhania_202255202021-20250607T051621Z-1-001/DatasetMultilabe_Fitri Ramadhania_202255202021/gambar177.jpg  \n",
            "  inflating: DatasetMultilabe_Fitri Ramadhania_202255202021-20250607T051621Z-1-001/DatasetMultilabe_Fitri Ramadhania_202255202021/gambar178.jpg  \n",
            "  inflating: DatasetMultilabe_Fitri Ramadhania_202255202021-20250607T051621Z-1-001/DatasetMultilabe_Fitri Ramadhania_202255202021/gambar179.jpg  \n",
            "  inflating: DatasetMultilabe_Fitri Ramadhania_202255202021-20250607T051621Z-1-001/DatasetMultilabe_Fitri Ramadhania_202255202021/gambar18.jpg  \n",
            "  inflating: DatasetMultilabe_Fitri Ramadhania_202255202021-20250607T051621Z-1-001/DatasetMultilabe_Fitri Ramadhania_202255202021/gambar180.jpg  \n",
            "  inflating: DatasetMultilabe_Fitri Ramadhania_202255202021-20250607T051621Z-1-001/DatasetMultilabe_Fitri Ramadhania_202255202021/gambar181.jpg  \n",
            "  inflating: DatasetMultilabe_Fitri Ramadhania_202255202021-20250607T051621Z-1-001/DatasetMultilabe_Fitri Ramadhania_202255202021/gambar182.jpg  \n",
            "  inflating: DatasetMultilabe_Fitri Ramadhania_202255202021-20250607T051621Z-1-001/DatasetMultilabe_Fitri Ramadhania_202255202021/gambar183.jpg  \n",
            "  inflating: DatasetMultilabe_Fitri Ramadhania_202255202021-20250607T051621Z-1-001/DatasetMultilabe_Fitri Ramadhania_202255202021/gambar184.jpg  \n",
            "  inflating: DatasetMultilabe_Fitri Ramadhania_202255202021-20250607T051621Z-1-001/DatasetMultilabe_Fitri Ramadhania_202255202021/gambar185.jpg  \n",
            "  inflating: DatasetMultilabe_Fitri Ramadhania_202255202021-20250607T051621Z-1-001/DatasetMultilabe_Fitri Ramadhania_202255202021/gambar186.jpg  \n",
            "  inflating: DatasetMultilabe_Fitri Ramadhania_202255202021-20250607T051621Z-1-001/DatasetMultilabe_Fitri Ramadhania_202255202021/gambar187.jpg  \n",
            "  inflating: DatasetMultilabe_Fitri Ramadhania_202255202021-20250607T051621Z-1-001/DatasetMultilabe_Fitri Ramadhania_202255202021/gambar188.jpg  \n",
            "  inflating: DatasetMultilabe_Fitri Ramadhania_202255202021-20250607T051621Z-1-001/DatasetMultilabe_Fitri Ramadhania_202255202021/gambar189.jpg  \n",
            "  inflating: DatasetMultilabe_Fitri Ramadhania_202255202021-20250607T051621Z-1-001/DatasetMultilabe_Fitri Ramadhania_202255202021/gambar19.jpg  \n",
            "  inflating: DatasetMultilabe_Fitri Ramadhania_202255202021-20250607T051621Z-1-001/DatasetMultilabe_Fitri Ramadhania_202255202021/gambar190.jpg  \n",
            "  inflating: DatasetMultilabe_Fitri Ramadhania_202255202021-20250607T051621Z-1-001/DatasetMultilabe_Fitri Ramadhania_202255202021/gambar191.jpg  \n",
            "  inflating: DatasetMultilabe_Fitri Ramadhania_202255202021-20250607T051621Z-1-001/DatasetMultilabe_Fitri Ramadhania_202255202021/gambar192.jpg  \n",
            "  inflating: DatasetMultilabe_Fitri Ramadhania_202255202021-20250607T051621Z-1-001/DatasetMultilabe_Fitri Ramadhania_202255202021/gambar193.jpg  \n",
            "  inflating: DatasetMultilabe_Fitri Ramadhania_202255202021-20250607T051621Z-1-001/DatasetMultilabe_Fitri Ramadhania_202255202021/gambar194.jpg  \n",
            "  inflating: DatasetMultilabe_Fitri Ramadhania_202255202021-20250607T051621Z-1-001/DatasetMultilabe_Fitri Ramadhania_202255202021/gambar195.jpg  \n",
            "  inflating: DatasetMultilabe_Fitri Ramadhania_202255202021-20250607T051621Z-1-001/DatasetMultilabe_Fitri Ramadhania_202255202021/gambar196.jpg  \n",
            "  inflating: DatasetMultilabe_Fitri Ramadhania_202255202021-20250607T051621Z-1-001/DatasetMultilabe_Fitri Ramadhania_202255202021/gambar197.jpg  \n",
            "  inflating: DatasetMultilabe_Fitri Ramadhania_202255202021-20250607T051621Z-1-001/DatasetMultilabe_Fitri Ramadhania_202255202021/gambar198.jpg  \n",
            "  inflating: DatasetMultilabe_Fitri Ramadhania_202255202021-20250607T051621Z-1-001/DatasetMultilabe_Fitri Ramadhania_202255202021/gambar199.jpg  \n",
            "  inflating: DatasetMultilabe_Fitri Ramadhania_202255202021-20250607T051621Z-1-001/DatasetMultilabe_Fitri Ramadhania_202255202021/gambar20.jpg  \n",
            "  inflating: DatasetMultilabe_Fitri Ramadhania_202255202021-20250607T051621Z-1-001/DatasetMultilabe_Fitri Ramadhania_202255202021/gambar200.jpg  \n",
            "  inflating: DatasetMultilabe_Fitri Ramadhania_202255202021-20250607T051621Z-1-001/DatasetMultilabe_Fitri Ramadhania_202255202021/gambar201.jpg  \n",
            "  inflating: DatasetMultilabe_Fitri Ramadhania_202255202021-20250607T051621Z-1-001/DatasetMultilabe_Fitri Ramadhania_202255202021/gambar202.jpg  \n",
            "  inflating: DatasetMultilabe_Fitri Ramadhania_202255202021-20250607T051621Z-1-001/DatasetMultilabe_Fitri Ramadhania_202255202021/gambar203.jpg  \n",
            "  inflating: DatasetMultilabe_Fitri Ramadhania_202255202021-20250607T051621Z-1-001/DatasetMultilabe_Fitri Ramadhania_202255202021/gambar204.jpg  \n",
            "  inflating: DatasetMultilabe_Fitri Ramadhania_202255202021-20250607T051621Z-1-001/DatasetMultilabe_Fitri Ramadhania_202255202021/gambar205.jpg  \n",
            "  inflating: DatasetMultilabe_Fitri Ramadhania_202255202021-20250607T051621Z-1-001/DatasetMultilabe_Fitri Ramadhania_202255202021/gambar206.jpg  \n",
            "  inflating: DatasetMultilabe_Fitri Ramadhania_202255202021-20250607T051621Z-1-001/DatasetMultilabe_Fitri Ramadhania_202255202021/gambar207.jpg  \n",
            "  inflating: DatasetMultilabe_Fitri Ramadhania_202255202021-20250607T051621Z-1-001/DatasetMultilabe_Fitri Ramadhania_202255202021/gambar208.jpg  \n",
            "  inflating: DatasetMultilabe_Fitri Ramadhania_202255202021-20250607T051621Z-1-001/DatasetMultilabe_Fitri Ramadhania_202255202021/gambar209.jpg  \n",
            "  inflating: DatasetMultilabe_Fitri Ramadhania_202255202021-20250607T051621Z-1-001/DatasetMultilabe_Fitri Ramadhania_202255202021/gambar21.jpg  \n",
            "  inflating: DatasetMultilabe_Fitri Ramadhania_202255202021-20250607T051621Z-1-001/DatasetMultilabe_Fitri Ramadhania_202255202021/gambar210.jpg  \n",
            "  inflating: DatasetMultilabe_Fitri Ramadhania_202255202021-20250607T051621Z-1-001/DatasetMultilabe_Fitri Ramadhania_202255202021/gambar211.jpg  \n",
            "  inflating: DatasetMultilabe_Fitri Ramadhania_202255202021-20250607T051621Z-1-001/DatasetMultilabe_Fitri Ramadhania_202255202021/gambar212.jpg  \n",
            "  inflating: DatasetMultilabe_Fitri Ramadhania_202255202021-20250607T051621Z-1-001/DatasetMultilabe_Fitri Ramadhania_202255202021/gambar213.jpg  \n",
            "  inflating: DatasetMultilabe_Fitri Ramadhania_202255202021-20250607T051621Z-1-001/DatasetMultilabe_Fitri Ramadhania_202255202021/gambar214.jpg  \n",
            "  inflating: DatasetMultilabe_Fitri Ramadhania_202255202021-20250607T051621Z-1-001/DatasetMultilabe_Fitri Ramadhania_202255202021/gambar215.jpg  \n",
            "  inflating: DatasetMultilabe_Fitri Ramadhania_202255202021-20250607T051621Z-1-001/DatasetMultilabe_Fitri Ramadhania_202255202021/gambar216.jpg  \n",
            "  inflating: DatasetMultilabe_Fitri Ramadhania_202255202021-20250607T051621Z-1-001/DatasetMultilabe_Fitri Ramadhania_202255202021/gambar217.jpg  \n",
            "  inflating: DatasetMultilabe_Fitri Ramadhania_202255202021-20250607T051621Z-1-001/DatasetMultilabe_Fitri Ramadhania_202255202021/gambar218.jpg  \n",
            "  inflating: DatasetMultilabe_Fitri Ramadhania_202255202021-20250607T051621Z-1-001/DatasetMultilabe_Fitri Ramadhania_202255202021/gambar219.jpg  \n",
            "  inflating: DatasetMultilabe_Fitri Ramadhania_202255202021-20250607T051621Z-1-001/DatasetMultilabe_Fitri Ramadhania_202255202021/gambar22.jpg  \n",
            "  inflating: DatasetMultilabe_Fitri Ramadhania_202255202021-20250607T051621Z-1-001/DatasetMultilabe_Fitri Ramadhania_202255202021/gambar220.jpg  \n",
            "  inflating: DatasetMultilabe_Fitri Ramadhania_202255202021-20250607T051621Z-1-001/DatasetMultilabe_Fitri Ramadhania_202255202021/gambar221.jpg  \n",
            "  inflating: DatasetMultilabe_Fitri Ramadhania_202255202021-20250607T051621Z-1-001/DatasetMultilabe_Fitri Ramadhania_202255202021/gambar222.jpg  \n",
            "  inflating: DatasetMultilabe_Fitri Ramadhania_202255202021-20250607T051621Z-1-001/DatasetMultilabe_Fitri Ramadhania_202255202021/gambar223.jpg  \n",
            "  inflating: DatasetMultilabe_Fitri Ramadhania_202255202021-20250607T051621Z-1-001/DatasetMultilabe_Fitri Ramadhania_202255202021/gambar224.jpg  \n",
            "  inflating: DatasetMultilabe_Fitri Ramadhania_202255202021-20250607T051621Z-1-001/DatasetMultilabe_Fitri Ramadhania_202255202021/gambar225.jpg  \n",
            "  inflating: DatasetMultilabe_Fitri Ramadhania_202255202021-20250607T051621Z-1-001/DatasetMultilabe_Fitri Ramadhania_202255202021/gambar226.jpg  \n",
            "  inflating: DatasetMultilabe_Fitri Ramadhania_202255202021-20250607T051621Z-1-001/DatasetMultilabe_Fitri Ramadhania_202255202021/gambar227.jpg  \n",
            "  inflating: DatasetMultilabe_Fitri Ramadhania_202255202021-20250607T051621Z-1-001/DatasetMultilabe_Fitri Ramadhania_202255202021/gambar228.jpg  \n",
            "  inflating: DatasetMultilabe_Fitri Ramadhania_202255202021-20250607T051621Z-1-001/DatasetMultilabe_Fitri Ramadhania_202255202021/gambar229.jpg  \n",
            "  inflating: DatasetMultilabe_Fitri Ramadhania_202255202021-20250607T051621Z-1-001/DatasetMultilabe_Fitri Ramadhania_202255202021/gambar23.jpg  \n",
            "  inflating: DatasetMultilabe_Fitri Ramadhania_202255202021-20250607T051621Z-1-001/DatasetMultilabe_Fitri Ramadhania_202255202021/gambar230.jpg  \n",
            "  inflating: DatasetMultilabe_Fitri Ramadhania_202255202021-20250607T051621Z-1-001/DatasetMultilabe_Fitri Ramadhania_202255202021/gambar231.jpg  \n",
            "  inflating: DatasetMultilabe_Fitri Ramadhania_202255202021-20250607T051621Z-1-001/DatasetMultilabe_Fitri Ramadhania_202255202021/gambar232.jpg  \n",
            "  inflating: DatasetMultilabe_Fitri Ramadhania_202255202021-20250607T051621Z-1-001/DatasetMultilabe_Fitri Ramadhania_202255202021/gambar233.jpg  \n",
            "  inflating: DatasetMultilabe_Fitri Ramadhania_202255202021-20250607T051621Z-1-001/DatasetMultilabe_Fitri Ramadhania_202255202021/gambar234.jpg  \n",
            "  inflating: DatasetMultilabe_Fitri Ramadhania_202255202021-20250607T051621Z-1-001/DatasetMultilabe_Fitri Ramadhania_202255202021/gambar235.jpg  \n",
            "  inflating: DatasetMultilabe_Fitri Ramadhania_202255202021-20250607T051621Z-1-001/DatasetMultilabe_Fitri Ramadhania_202255202021/gambar236.jpg  \n",
            "  inflating: DatasetMultilabe_Fitri Ramadhania_202255202021-20250607T051621Z-1-001/DatasetMultilabe_Fitri Ramadhania_202255202021/gambar237.jpg  \n",
            "  inflating: DatasetMultilabe_Fitri Ramadhania_202255202021-20250607T051621Z-1-001/DatasetMultilabe_Fitri Ramadhania_202255202021/gambar238.jpg  \n",
            "  inflating: DatasetMultilabe_Fitri Ramadhania_202255202021-20250607T051621Z-1-001/DatasetMultilabe_Fitri Ramadhania_202255202021/gambar239.jpg  \n",
            "  inflating: DatasetMultilabe_Fitri Ramadhania_202255202021-20250607T051621Z-1-001/DatasetMultilabe_Fitri Ramadhania_202255202021/gambar24.jpg  \n",
            "  inflating: DatasetMultilabe_Fitri Ramadhania_202255202021-20250607T051621Z-1-001/DatasetMultilabe_Fitri Ramadhania_202255202021/gambar240.jpg  \n",
            "  inflating: DatasetMultilabe_Fitri Ramadhania_202255202021-20250607T051621Z-1-001/DatasetMultilabe_Fitri Ramadhania_202255202021/gambar241.jpg  \n",
            "  inflating: DatasetMultilabe_Fitri Ramadhania_202255202021-20250607T051621Z-1-001/DatasetMultilabe_Fitri Ramadhania_202255202021/gambar242.jpg  \n",
            "  inflating: DatasetMultilabe_Fitri Ramadhania_202255202021-20250607T051621Z-1-001/DatasetMultilabe_Fitri Ramadhania_202255202021/gambar243.jpg  \n",
            "  inflating: DatasetMultilabe_Fitri Ramadhania_202255202021-20250607T051621Z-1-001/DatasetMultilabe_Fitri Ramadhania_202255202021/gambar244.jpg  \n",
            "  inflating: DatasetMultilabe_Fitri Ramadhania_202255202021-20250607T051621Z-1-001/DatasetMultilabe_Fitri Ramadhania_202255202021/gambar245.jpg  \n",
            "  inflating: DatasetMultilabe_Fitri Ramadhania_202255202021-20250607T051621Z-1-001/DatasetMultilabe_Fitri Ramadhania_202255202021/gambar246.jpg  \n",
            "  inflating: DatasetMultilabe_Fitri Ramadhania_202255202021-20250607T051621Z-1-001/DatasetMultilabe_Fitri Ramadhania_202255202021/gambar247.jpg  \n",
            "  inflating: DatasetMultilabe_Fitri Ramadhania_202255202021-20250607T051621Z-1-001/DatasetMultilabe_Fitri Ramadhania_202255202021/gambar248.jpg  \n",
            "  inflating: DatasetMultilabe_Fitri Ramadhania_202255202021-20250607T051621Z-1-001/DatasetMultilabe_Fitri Ramadhania_202255202021/gambar249.jpg  \n",
            "  inflating: DatasetMultilabe_Fitri Ramadhania_202255202021-20250607T051621Z-1-001/DatasetMultilabe_Fitri Ramadhania_202255202021/gambar25.jpg  \n",
            "  inflating: DatasetMultilabe_Fitri Ramadhania_202255202021-20250607T051621Z-1-001/DatasetMultilabe_Fitri Ramadhania_202255202021/gambar250.jpg  \n",
            "  inflating: DatasetMultilabe_Fitri Ramadhania_202255202021-20250607T051621Z-1-001/DatasetMultilabe_Fitri Ramadhania_202255202021/gambar251.jpg  \n",
            "  inflating: DatasetMultilabe_Fitri Ramadhania_202255202021-20250607T051621Z-1-001/DatasetMultilabe_Fitri Ramadhania_202255202021/gambar252.jpg  \n",
            "  inflating: DatasetMultilabe_Fitri Ramadhania_202255202021-20250607T051621Z-1-001/DatasetMultilabe_Fitri Ramadhania_202255202021/gambar253.jpg  \n",
            "  inflating: DatasetMultilabe_Fitri Ramadhania_202255202021-20250607T051621Z-1-001/DatasetMultilabe_Fitri Ramadhania_202255202021/gambar254.jpg  \n",
            "  inflating: DatasetMultilabe_Fitri Ramadhania_202255202021-20250607T051621Z-1-001/DatasetMultilabe_Fitri Ramadhania_202255202021/gambar255.jpg  \n",
            "  inflating: DatasetMultilabe_Fitri Ramadhania_202255202021-20250607T051621Z-1-001/DatasetMultilabe_Fitri Ramadhania_202255202021/gambar256.jpg  \n",
            "  inflating: DatasetMultilabe_Fitri Ramadhania_202255202021-20250607T051621Z-1-001/DatasetMultilabe_Fitri Ramadhania_202255202021/gambar257.jpg  \n",
            "  inflating: DatasetMultilabe_Fitri Ramadhania_202255202021-20250607T051621Z-1-001/DatasetMultilabe_Fitri Ramadhania_202255202021/gambar258.jpg  \n",
            "  inflating: DatasetMultilabe_Fitri Ramadhania_202255202021-20250607T051621Z-1-001/DatasetMultilabe_Fitri Ramadhania_202255202021/gambar259.jpg  \n",
            "  inflating: DatasetMultilabe_Fitri Ramadhania_202255202021-20250607T051621Z-1-001/DatasetMultilabe_Fitri Ramadhania_202255202021/gambar26.jpg  \n",
            "  inflating: DatasetMultilabe_Fitri Ramadhania_202255202021-20250607T051621Z-1-001/DatasetMultilabe_Fitri Ramadhania_202255202021/gambar260.jpg  \n",
            "  inflating: DatasetMultilabe_Fitri Ramadhania_202255202021-20250607T051621Z-1-001/DatasetMultilabe_Fitri Ramadhania_202255202021/gambar261.jpg  \n",
            "  inflating: DatasetMultilabe_Fitri Ramadhania_202255202021-20250607T051621Z-1-001/DatasetMultilabe_Fitri Ramadhania_202255202021/gambar262.jpg  \n",
            "  inflating: DatasetMultilabe_Fitri Ramadhania_202255202021-20250607T051621Z-1-001/DatasetMultilabe_Fitri Ramadhania_202255202021/gambar263.jpg  \n",
            "  inflating: DatasetMultilabe_Fitri Ramadhania_202255202021-20250607T051621Z-1-001/DatasetMultilabe_Fitri Ramadhania_202255202021/gambar264.jpg  \n",
            "  inflating: DatasetMultilabe_Fitri Ramadhania_202255202021-20250607T051621Z-1-001/DatasetMultilabe_Fitri Ramadhania_202255202021/gambar265.jpg  \n",
            "  inflating: DatasetMultilabe_Fitri Ramadhania_202255202021-20250607T051621Z-1-001/DatasetMultilabe_Fitri Ramadhania_202255202021/gambar266.jpg  \n",
            "  inflating: DatasetMultilabe_Fitri Ramadhania_202255202021-20250607T051621Z-1-001/DatasetMultilabe_Fitri Ramadhania_202255202021/gambar267.jpg  \n",
            "  inflating: DatasetMultilabe_Fitri Ramadhania_202255202021-20250607T051621Z-1-001/DatasetMultilabe_Fitri Ramadhania_202255202021/gambar268.jpg  \n",
            "  inflating: DatasetMultilabe_Fitri Ramadhania_202255202021-20250607T051621Z-1-001/DatasetMultilabe_Fitri Ramadhania_202255202021/gambar269.jpg  \n",
            "  inflating: DatasetMultilabe_Fitri Ramadhania_202255202021-20250607T051621Z-1-001/DatasetMultilabe_Fitri Ramadhania_202255202021/gambar27.jpg  \n",
            "  inflating: DatasetMultilabe_Fitri Ramadhania_202255202021-20250607T051621Z-1-001/DatasetMultilabe_Fitri Ramadhania_202255202021/gambar270.jpg  \n",
            "  inflating: DatasetMultilabe_Fitri Ramadhania_202255202021-20250607T051621Z-1-001/DatasetMultilabe_Fitri Ramadhania_202255202021/gambar271.jpg  \n",
            "  inflating: DatasetMultilabe_Fitri Ramadhania_202255202021-20250607T051621Z-1-001/DatasetMultilabe_Fitri Ramadhania_202255202021/gambar272.jpg  \n",
            "  inflating: DatasetMultilabe_Fitri Ramadhania_202255202021-20250607T051621Z-1-001/DatasetMultilabe_Fitri Ramadhania_202255202021/gambar273.jpg  \n",
            "  inflating: DatasetMultilabe_Fitri Ramadhania_202255202021-20250607T051621Z-1-001/DatasetMultilabe_Fitri Ramadhania_202255202021/gambar274.jpg  \n",
            "  inflating: DatasetMultilabe_Fitri Ramadhania_202255202021-20250607T051621Z-1-001/DatasetMultilabe_Fitri Ramadhania_202255202021/gambar275.jpg  \n",
            "  inflating: DatasetMultilabe_Fitri Ramadhania_202255202021-20250607T051621Z-1-001/DatasetMultilabe_Fitri Ramadhania_202255202021/gambar276.jpg  \n",
            "  inflating: DatasetMultilabe_Fitri Ramadhania_202255202021-20250607T051621Z-1-001/DatasetMultilabe_Fitri Ramadhania_202255202021/gambar277.jpg  \n",
            "  inflating: DatasetMultilabe_Fitri Ramadhania_202255202021-20250607T051621Z-1-001/DatasetMultilabe_Fitri Ramadhania_202255202021/gambar278.jpg  \n",
            "  inflating: DatasetMultilabe_Fitri Ramadhania_202255202021-20250607T051621Z-1-001/DatasetMultilabe_Fitri Ramadhania_202255202021/gambar279.jpg  \n",
            "  inflating: DatasetMultilabe_Fitri Ramadhania_202255202021-20250607T051621Z-1-001/DatasetMultilabe_Fitri Ramadhania_202255202021/gambar28.jpg  \n",
            "  inflating: DatasetMultilabe_Fitri Ramadhania_202255202021-20250607T051621Z-1-001/DatasetMultilabe_Fitri Ramadhania_202255202021/gambar280.jpg  \n",
            "  inflating: DatasetMultilabe_Fitri Ramadhania_202255202021-20250607T051621Z-1-001/DatasetMultilabe_Fitri Ramadhania_202255202021/gambar281.jpg  \n",
            "  inflating: DatasetMultilabe_Fitri Ramadhania_202255202021-20250607T051621Z-1-001/DatasetMultilabe_Fitri Ramadhania_202255202021/gambar282.jpg  \n",
            "  inflating: DatasetMultilabe_Fitri Ramadhania_202255202021-20250607T051621Z-1-001/DatasetMultilabe_Fitri Ramadhania_202255202021/gambar283.jpg  \n",
            "  inflating: DatasetMultilabe_Fitri Ramadhania_202255202021-20250607T051621Z-1-001/DatasetMultilabe_Fitri Ramadhania_202255202021/gambar284.jpg  \n",
            "  inflating: DatasetMultilabe_Fitri Ramadhania_202255202021-20250607T051621Z-1-001/DatasetMultilabe_Fitri Ramadhania_202255202021/gambar285.jpg  \n",
            "  inflating: DatasetMultilabe_Fitri Ramadhania_202255202021-20250607T051621Z-1-001/DatasetMultilabe_Fitri Ramadhania_202255202021/gambar286.jpg  \n",
            "  inflating: DatasetMultilabe_Fitri Ramadhania_202255202021-20250607T051621Z-1-001/DatasetMultilabe_Fitri Ramadhania_202255202021/gambar287.jpg  \n",
            "  inflating: DatasetMultilabe_Fitri Ramadhania_202255202021-20250607T051621Z-1-001/DatasetMultilabe_Fitri Ramadhania_202255202021/gambar288.jpg  \n",
            "  inflating: DatasetMultilabe_Fitri Ramadhania_202255202021-20250607T051621Z-1-001/DatasetMultilabe_Fitri Ramadhania_202255202021/gambar289.jpg  \n",
            "  inflating: DatasetMultilabe_Fitri Ramadhania_202255202021-20250607T051621Z-1-001/DatasetMultilabe_Fitri Ramadhania_202255202021/gambar29.jpg  \n",
            "  inflating: DatasetMultilabe_Fitri Ramadhania_202255202021-20250607T051621Z-1-001/DatasetMultilabe_Fitri Ramadhania_202255202021/gambar290.jpg  \n",
            "  inflating: DatasetMultilabe_Fitri Ramadhania_202255202021-20250607T051621Z-1-001/DatasetMultilabe_Fitri Ramadhania_202255202021/gambar291.jpg  \n",
            "  inflating: DatasetMultilabe_Fitri Ramadhania_202255202021-20250607T051621Z-1-001/DatasetMultilabe_Fitri Ramadhania_202255202021/gambar292.jpg  \n",
            "  inflating: DatasetMultilabe_Fitri Ramadhania_202255202021-20250607T051621Z-1-001/DatasetMultilabe_Fitri Ramadhania_202255202021/gambar293.jpg  \n",
            "  inflating: DatasetMultilabe_Fitri Ramadhania_202255202021-20250607T051621Z-1-001/DatasetMultilabe_Fitri Ramadhania_202255202021/gambar294.jpg  \n",
            "  inflating: DatasetMultilabe_Fitri Ramadhania_202255202021-20250607T051621Z-1-001/DatasetMultilabe_Fitri Ramadhania_202255202021/gambar295.jpg  \n",
            "  inflating: DatasetMultilabe_Fitri Ramadhania_202255202021-20250607T051621Z-1-001/DatasetMultilabe_Fitri Ramadhania_202255202021/gambar296.jpg  \n",
            "  inflating: DatasetMultilabe_Fitri Ramadhania_202255202021-20250607T051621Z-1-001/DatasetMultilabe_Fitri Ramadhania_202255202021/gambar297.jpg  \n",
            "  inflating: DatasetMultilabe_Fitri Ramadhania_202255202021-20250607T051621Z-1-001/DatasetMultilabe_Fitri Ramadhania_202255202021/gambar298.jpg  \n",
            "  inflating: DatasetMultilabe_Fitri Ramadhania_202255202021-20250607T051621Z-1-001/DatasetMultilabe_Fitri Ramadhania_202255202021/gambar299.jpg  \n",
            "  inflating: DatasetMultilabe_Fitri Ramadhania_202255202021-20250607T051621Z-1-001/DatasetMultilabe_Fitri Ramadhania_202255202021/gambar30.jpg  \n",
            "  inflating: DatasetMultilabe_Fitri Ramadhania_202255202021-20250607T051621Z-1-001/DatasetMultilabe_Fitri Ramadhania_202255202021/gambar300.jpg  \n",
            "  inflating: DatasetMultilabe_Fitri Ramadhania_202255202021-20250607T051621Z-1-001/DatasetMultilabe_Fitri Ramadhania_202255202021/gambar31.jpg  \n",
            "  inflating: DatasetMultilabe_Fitri Ramadhania_202255202021-20250607T051621Z-1-001/DatasetMultilabe_Fitri Ramadhania_202255202021/gambar32.jpg  \n",
            "  inflating: DatasetMultilabe_Fitri Ramadhania_202255202021-20250607T051621Z-1-001/DatasetMultilabe_Fitri Ramadhania_202255202021/gambar33.jpg  \n",
            "  inflating: DatasetMultilabe_Fitri Ramadhania_202255202021-20250607T051621Z-1-001/DatasetMultilabe_Fitri Ramadhania_202255202021/gambar34.jpg  \n",
            "  inflating: DatasetMultilabe_Fitri Ramadhania_202255202021-20250607T051621Z-1-001/DatasetMultilabe_Fitri Ramadhania_202255202021/gambar35.jpg  \n",
            "  inflating: DatasetMultilabe_Fitri Ramadhania_202255202021-20250607T051621Z-1-001/DatasetMultilabe_Fitri Ramadhania_202255202021/gambar36.jpg  \n",
            "  inflating: DatasetMultilabe_Fitri Ramadhania_202255202021-20250607T051621Z-1-001/DatasetMultilabe_Fitri Ramadhania_202255202021/gambar37.jpg  \n",
            "  inflating: DatasetMultilabe_Fitri Ramadhania_202255202021-20250607T051621Z-1-001/DatasetMultilabe_Fitri Ramadhania_202255202021/gambar38.jpg  \n",
            "  inflating: DatasetMultilabe_Fitri Ramadhania_202255202021-20250607T051621Z-1-001/DatasetMultilabe_Fitri Ramadhania_202255202021/gambar39.jpg  \n",
            "  inflating: DatasetMultilabe_Fitri Ramadhania_202255202021-20250607T051621Z-1-001/DatasetMultilabe_Fitri Ramadhania_202255202021/gambar40.jpg  \n",
            "  inflating: DatasetMultilabe_Fitri Ramadhania_202255202021-20250607T051621Z-1-001/DatasetMultilabe_Fitri Ramadhania_202255202021/gambar41.jpg  \n",
            "  inflating: DatasetMultilabe_Fitri Ramadhania_202255202021-20250607T051621Z-1-001/DatasetMultilabe_Fitri Ramadhania_202255202021/gambar42.jpg  \n",
            "  inflating: DatasetMultilabe_Fitri Ramadhania_202255202021-20250607T051621Z-1-001/DatasetMultilabe_Fitri Ramadhania_202255202021/gambar43.jpg  \n",
            "  inflating: DatasetMultilabe_Fitri Ramadhania_202255202021-20250607T051621Z-1-001/DatasetMultilabe_Fitri Ramadhania_202255202021/gambar44.jpg  \n",
            "  inflating: DatasetMultilabe_Fitri Ramadhania_202255202021-20250607T051621Z-1-001/DatasetMultilabe_Fitri Ramadhania_202255202021/gambar45.jpg  \n",
            "  inflating: DatasetMultilabe_Fitri Ramadhania_202255202021-20250607T051621Z-1-001/DatasetMultilabe_Fitri Ramadhania_202255202021/gambar46.jpg  \n",
            "  inflating: DatasetMultilabe_Fitri Ramadhania_202255202021-20250607T051621Z-1-001/DatasetMultilabe_Fitri Ramadhania_202255202021/gambar47.jpg  \n",
            "  inflating: DatasetMultilabe_Fitri Ramadhania_202255202021-20250607T051621Z-1-001/DatasetMultilabe_Fitri Ramadhania_202255202021/gambar48.jpg  \n",
            "  inflating: DatasetMultilabe_Fitri Ramadhania_202255202021-20250607T051621Z-1-001/DatasetMultilabe_Fitri Ramadhania_202255202021/gambar49.jpg  \n",
            "  inflating: DatasetMultilabe_Fitri Ramadhania_202255202021-20250607T051621Z-1-001/DatasetMultilabe_Fitri Ramadhania_202255202021/gambar50.jpg  \n",
            "  inflating: DatasetMultilabe_Fitri Ramadhania_202255202021-20250607T051621Z-1-001/DatasetMultilabe_Fitri Ramadhania_202255202021/gambar51.jpg  \n",
            "  inflating: DatasetMultilabe_Fitri Ramadhania_202255202021-20250607T051621Z-1-001/DatasetMultilabe_Fitri Ramadhania_202255202021/gambar52.jpg  \n",
            "  inflating: DatasetMultilabe_Fitri Ramadhania_202255202021-20250607T051621Z-1-001/DatasetMultilabe_Fitri Ramadhania_202255202021/gambar53.jpg  \n",
            "  inflating: DatasetMultilabe_Fitri Ramadhania_202255202021-20250607T051621Z-1-001/DatasetMultilabe_Fitri Ramadhania_202255202021/gambar54.jpg  \n",
            "  inflating: DatasetMultilabe_Fitri Ramadhania_202255202021-20250607T051621Z-1-001/DatasetMultilabe_Fitri Ramadhania_202255202021/gambar55.jpg  \n",
            "  inflating: DatasetMultilabe_Fitri Ramadhania_202255202021-20250607T051621Z-1-001/DatasetMultilabe_Fitri Ramadhania_202255202021/gambar56.jpg  \n",
            "  inflating: DatasetMultilabe_Fitri Ramadhania_202255202021-20250607T051621Z-1-001/DatasetMultilabe_Fitri Ramadhania_202255202021/gambar57.jpg  \n",
            "  inflating: DatasetMultilabe_Fitri Ramadhania_202255202021-20250607T051621Z-1-001/DatasetMultilabe_Fitri Ramadhania_202255202021/gambar58.jpg  \n",
            "  inflating: DatasetMultilabe_Fitri Ramadhania_202255202021-20250607T051621Z-1-001/DatasetMultilabe_Fitri Ramadhania_202255202021/gambar59.jpg  \n",
            "  inflating: DatasetMultilabe_Fitri Ramadhania_202255202021-20250607T051621Z-1-001/DatasetMultilabe_Fitri Ramadhania_202255202021/gambar60.jpg  \n",
            "  inflating: DatasetMultilabe_Fitri Ramadhania_202255202021-20250607T051621Z-1-001/DatasetMultilabe_Fitri Ramadhania_202255202021/gambar61.jpg  \n",
            "  inflating: DatasetMultilabe_Fitri Ramadhania_202255202021-20250607T051621Z-1-001/DatasetMultilabe_Fitri Ramadhania_202255202021/gambar62.jpg  \n",
            "  inflating: DatasetMultilabe_Fitri Ramadhania_202255202021-20250607T051621Z-1-001/DatasetMultilabe_Fitri Ramadhania_202255202021/gambar63.jpg  \n",
            "  inflating: DatasetMultilabe_Fitri Ramadhania_202255202021-20250607T051621Z-1-001/DatasetMultilabe_Fitri Ramadhania_202255202021/gambar64.jpg  \n",
            "  inflating: DatasetMultilabe_Fitri Ramadhania_202255202021-20250607T051621Z-1-001/DatasetMultilabe_Fitri Ramadhania_202255202021/gambar65.jpg  \n",
            "  inflating: DatasetMultilabe_Fitri Ramadhania_202255202021-20250607T051621Z-1-001/DatasetMultilabe_Fitri Ramadhania_202255202021/gambar66.jpg  \n",
            "  inflating: DatasetMultilabe_Fitri Ramadhania_202255202021-20250607T051621Z-1-001/DatasetMultilabe_Fitri Ramadhania_202255202021/gambar67.jpg  \n",
            "  inflating: DatasetMultilabe_Fitri Ramadhania_202255202021-20250607T051621Z-1-001/DatasetMultilabe_Fitri Ramadhania_202255202021/gambar68.jpg  \n",
            "  inflating: DatasetMultilabe_Fitri Ramadhania_202255202021-20250607T051621Z-1-001/DatasetMultilabe_Fitri Ramadhania_202255202021/gambar69.jpg  \n",
            "  inflating: DatasetMultilabe_Fitri Ramadhania_202255202021-20250607T051621Z-1-001/DatasetMultilabe_Fitri Ramadhania_202255202021/gambar70.jpg  \n",
            "  inflating: DatasetMultilabe_Fitri Ramadhania_202255202021-20250607T051621Z-1-001/DatasetMultilabe_Fitri Ramadhania_202255202021/gambar71.jpg  \n",
            "  inflating: DatasetMultilabe_Fitri Ramadhania_202255202021-20250607T051621Z-1-001/DatasetMultilabe_Fitri Ramadhania_202255202021/gambar72.jpg  \n",
            "  inflating: DatasetMultilabe_Fitri Ramadhania_202255202021-20250607T051621Z-1-001/DatasetMultilabe_Fitri Ramadhania_202255202021/gambar73.jpg  \n",
            "  inflating: DatasetMultilabe_Fitri Ramadhania_202255202021-20250607T051621Z-1-001/DatasetMultilabe_Fitri Ramadhania_202255202021/gambar74.jpg  \n",
            "  inflating: DatasetMultilabe_Fitri Ramadhania_202255202021-20250607T051621Z-1-001/DatasetMultilabe_Fitri Ramadhania_202255202021/gambar75.jpg  \n",
            "  inflating: DatasetMultilabe_Fitri Ramadhania_202255202021-20250607T051621Z-1-001/DatasetMultilabe_Fitri Ramadhania_202255202021/gambar76.jpg  \n",
            "  inflating: DatasetMultilabe_Fitri Ramadhania_202255202021-20250607T051621Z-1-001/DatasetMultilabe_Fitri Ramadhania_202255202021/gambar77.jpg  \n",
            "  inflating: DatasetMultilabe_Fitri Ramadhania_202255202021-20250607T051621Z-1-001/DatasetMultilabe_Fitri Ramadhania_202255202021/gambar78.jpg  \n",
            "  inflating: DatasetMultilabe_Fitri Ramadhania_202255202021-20250607T051621Z-1-001/DatasetMultilabe_Fitri Ramadhania_202255202021/gambar79.jpg  \n",
            "  inflating: DatasetMultilabe_Fitri Ramadhania_202255202021-20250607T051621Z-1-001/DatasetMultilabe_Fitri Ramadhania_202255202021/gambar80.jpg  \n",
            "  inflating: DatasetMultilabe_Fitri Ramadhania_202255202021-20250607T051621Z-1-001/DatasetMultilabe_Fitri Ramadhania_202255202021/gambar81.jpg  \n",
            "  inflating: DatasetMultilabe_Fitri Ramadhania_202255202021-20250607T051621Z-1-001/DatasetMultilabe_Fitri Ramadhania_202255202021/gambar82.jpg  \n",
            "  inflating: DatasetMultilabe_Fitri Ramadhania_202255202021-20250607T051621Z-1-001/DatasetMultilabe_Fitri Ramadhania_202255202021/gambar83.jpg  \n",
            "  inflating: DatasetMultilabe_Fitri Ramadhania_202255202021-20250607T051621Z-1-001/DatasetMultilabe_Fitri Ramadhania_202255202021/gambar84.jpg  \n",
            "  inflating: DatasetMultilabe_Fitri Ramadhania_202255202021-20250607T051621Z-1-001/DatasetMultilabe_Fitri Ramadhania_202255202021/gambar85.jpg  \n",
            "  inflating: DatasetMultilabe_Fitri Ramadhania_202255202021-20250607T051621Z-1-001/DatasetMultilabe_Fitri Ramadhania_202255202021/gambar86.jpg  \n",
            "  inflating: DatasetMultilabe_Fitri Ramadhania_202255202021-20250607T051621Z-1-001/DatasetMultilabe_Fitri Ramadhania_202255202021/gambar87.jpg  \n",
            "  inflating: DatasetMultilabe_Fitri Ramadhania_202255202021-20250607T051621Z-1-001/DatasetMultilabe_Fitri Ramadhania_202255202021/gambar88.jpg  \n",
            "  inflating: DatasetMultilabe_Fitri Ramadhania_202255202021-20250607T051621Z-1-001/DatasetMultilabe_Fitri Ramadhania_202255202021/gambar89.jpg  \n",
            "  inflating: DatasetMultilabe_Fitri Ramadhania_202255202021-20250607T051621Z-1-001/DatasetMultilabe_Fitri Ramadhania_202255202021/gambar90.jpg  \n",
            "  inflating: DatasetMultilabe_Fitri Ramadhania_202255202021-20250607T051621Z-1-001/DatasetMultilabe_Fitri Ramadhania_202255202021/gambar91.jpg  \n",
            "  inflating: DatasetMultilabe_Fitri Ramadhania_202255202021-20250607T051621Z-1-001/DatasetMultilabe_Fitri Ramadhania_202255202021/gambar92.jpg  \n",
            "  inflating: DatasetMultilabe_Fitri Ramadhania_202255202021-20250607T051621Z-1-001/DatasetMultilabe_Fitri Ramadhania_202255202021/gambar93.jpg  \n",
            "  inflating: DatasetMultilabe_Fitri Ramadhania_202255202021-20250607T051621Z-1-001/DatasetMultilabe_Fitri Ramadhania_202255202021/gambar94.jpg  \n",
            "  inflating: DatasetMultilabe_Fitri Ramadhania_202255202021-20250607T051621Z-1-001/DatasetMultilabe_Fitri Ramadhania_202255202021/gambar95.jpg  \n",
            "  inflating: DatasetMultilabe_Fitri Ramadhania_202255202021-20250607T051621Z-1-001/DatasetMultilabe_Fitri Ramadhania_202255202021/gambar96.jpg  \n",
            "  inflating: DatasetMultilabe_Fitri Ramadhania_202255202021-20250607T051621Z-1-001/DatasetMultilabe_Fitri Ramadhania_202255202021/gambar97.jpg  \n",
            "  inflating: DatasetMultilabe_Fitri Ramadhania_202255202021-20250607T051621Z-1-001/DatasetMultilabe_Fitri Ramadhania_202255202021/gambar98.jpg  \n",
            "  inflating: DatasetMultilabe_Fitri Ramadhania_202255202021-20250607T051621Z-1-001/DatasetMultilabe_Fitri Ramadhania_202255202021/gambar99.jpg  \n",
            "  inflating: TrainDataset_Fitri Ramadhania_202255202021.csv  \n"
          ]
        }
      ]
    },
    {
      "cell_type": "code",
      "source": [
        "#Now let us read metadata to get our Y values (multiple lables)\n",
        "# Try reading with semicolon as delimiter\n",
        "try:\n",
        "    df = pd.read_csv('//content/TrainDataset_Fitri Ramadhania_202255202021.csv', sep=';')\n",
        "    print(\"Read with semicolon delimiter successful.\")\n",
        "except pd.errors.ParserError: # Changed to pd.errors.ParserError for clarity\n",
        "    print(\"Reading with semicolon delimiter failed. Trying default comma delimiter (might still fail).\")\n",
        "    df = pd.read_csv('/content/TrainDataset_Fitri Ramadhania_202255202021.csv')\n",
        "\n",
        "print(df.head())     # printing first five rows of the file\n",
        "print(df.columns)\n",
        "\n",
        "df = df.iloc[:2000].reset_index(drop=True)  #Loading only first 2000 datapoints and reset the index\n",
        "#Need to read images using the tag from metadata.\n",
        "#Otherwise, if read directly from the folder then images may not correspond to\n",
        "#the metadata from the csv file."
      ],
      "metadata": {
        "colab": {
          "base_uri": "https://localhost:8080/"
        },
        "id": "AGcM-NMFClXC",
        "outputId": "f5e7f0fa-21ef-419d-beea-9331cb896de7"
      },
      "execution_count": 7,
      "outputs": [
        {
          "output_type": "stream",
          "name": "stdout",
          "text": [
            "Read with semicolon delimiter successful.\n",
            "         Id                                    jenis sunscreen  \\\n",
            "0  gambar01  tinted sunscreen, sunscreen spray, sunscreen g...   \n",
            "1  gambar02  tinted sunscreen, sunscreen spray, sunscreen g...   \n",
            "2  gambar03  tinted sunscreen, sunscreen spray, sunscreen g...   \n",
            "3  gambar04  tinted sunscreen, sunscreen spray, sunscreen g...   \n",
            "4  gambar05  tinted sunscreen, sunscreen spray, sunscreen g...   \n",
            "\n",
            "   tinted sunscreen  sunscreen spray  sunscreen gel  body sunscreen  \n",
            "0                 1                1              1               1  \n",
            "1                 1                1              1               1  \n",
            "2                 1                1              1               1  \n",
            "3                 1                1              1               1  \n",
            "4                 1                1              1               1  \n",
            "Index(['Id', 'jenis sunscreen', 'tinted sunscreen', 'sunscreen spray',\n",
            "       'sunscreen gel', 'body sunscreen'],\n",
            "      dtype='object')\n"
          ]
        }
      ]
    },
    {
      "cell_type": "code",
      "source": [
        "!ls /content/sample_data/"
      ],
      "metadata": {
        "colab": {
          "base_uri": "https://localhost:8080/"
        },
        "id": "I6M9KnutsQAZ",
        "outputId": "144a505f-58ee-46bd-8b93-3cd3be5fb0bf"
      },
      "execution_count": 8,
      "outputs": [
        {
          "output_type": "stream",
          "name": "stdout",
          "text": [
            "anscombe.json\t\t      mnist_test.csv\n",
            "california_housing_test.csv   mnist_train_small.csv\n",
            "california_housing_train.csv  README.md\n"
          ]
        }
      ]
    },
    {
      "cell_type": "code",
      "source": [
        "!ls {image_directory} | head -n 20"
      ],
      "metadata": {
        "colab": {
          "base_uri": "https://localhost:8080/"
        },
        "id": "JYi5cUmysvrx",
        "outputId": "0c216314-a5db-4efb-92f6-6fe553829693"
      },
      "execution_count": 9,
      "outputs": [
        {
          "output_type": "stream",
          "name": "stdout",
          "text": [
            "ls: cannot access '{image_directory}': No such file or directory\n"
          ]
        }
      ]
    },
    {
      "cell_type": "code",
      "source": [
        "print(df.columns)\n"
      ],
      "metadata": {
        "colab": {
          "base_uri": "https://localhost:8080/"
        },
        "id": "tZFm9D0oWnBZ",
        "outputId": "748e2dbf-99d1-46ca-cb07-e18a0a4192b7"
      },
      "execution_count": 10,
      "outputs": [
        {
          "output_type": "stream",
          "name": "stdout",
          "text": [
            "Index(['Id', 'jenis sunscreen', 'tinted sunscreen', 'sunscreen spray',\n",
            "       'sunscreen gel', 'body sunscreen'],\n",
            "      dtype='object')\n"
          ]
        }
      ]
    },
    {
      "cell_type": "code",
      "source": [
        "print([col for col in df.columns if 'id' in col.lower()])\n"
      ],
      "metadata": {
        "colab": {
          "base_uri": "https://localhost:8080/"
        },
        "id": "yGW2sUg3eA1y",
        "outputId": "ece457bf-34c2-4fc8-93e6-fbb83276238f"
      },
      "execution_count": 11,
      "outputs": [
        {
          "output_type": "stream",
          "name": "stdout",
          "text": [
            "['Id']\n"
          ]
        }
      ]
    },
    {
      "cell_type": "code",
      "source": [
        "\n",
        "#print(df['Id'][500])  #This line was causing an error if index 500 does not exist\n",
        "print(df['Id'][df.shape[0] - 1]) # Accessing the 'id' of the last row"
      ],
      "metadata": {
        "colab": {
          "base_uri": "https://localhost:8080/"
        },
        "id": "4gvFMRSsdD7w",
        "outputId": "74fc4d16-371a-4139-c9b5-8056027abc32"
      },
      "execution_count": 12,
      "outputs": [
        {
          "output_type": "stream",
          "name": "stdout",
          "text": [
            "gambar300\n"
          ]
        }
      ]
    },
    {
      "cell_type": "code",
      "source": [
        "print(df['Id'].head())\n"
      ],
      "metadata": {
        "colab": {
          "base_uri": "https://localhost:8080/"
        },
        "id": "OV0KN_T_jyCa",
        "outputId": "59429ba3-bebf-4d85-fbc9-96d9cce08186"
      },
      "execution_count": 13,
      "outputs": [
        {
          "output_type": "stream",
          "name": "stdout",
          "text": [
            "0    gambar01\n",
            "1    gambar02\n",
            "2    gambar03\n",
            "3    gambar04\n",
            "4    gambar05\n",
            "Name: Id, dtype: object\n"
          ]
        }
      ]
    },
    {
      "cell_type": "code",
      "source": [
        "import os\n",
        "from tensorflow.keras.preprocessing import image\n",
        "import numpy as np\n",
        "from tqdm import tqdm\n",
        "\n",
        "SIZE = 200\n",
        "X_dataset = []\n",
        "\n",
        "# Direktori gambar\n",
        "image_directory = '/content/DatasetMultilabe_Fitri Ramadhania_202255202021/'\n",
        "\n",
        "# Looping untuk membaca gambar\n",
        "for i in tqdm(range(df.shape[0])):\n",
        "    image_id = str(df['Id'].iloc[i])  # pastikan tipe string\n",
        "    img_path = os.path.join(image_directory, image_id + '.jpg')\n",
        "\n",
        "    try:\n",
        "        img = image.load_img(img_path, target_size=(SIZE, SIZE))\n",
        "        img = image.img_to_array(img)\n",
        "        img = img / 255.0\n",
        "        X_dataset.append(img)\n",
        "    except FileNotFoundError:\n",
        "        print(f\"[WARNING] Gambar tidak ditemukan: {img_path}\")\n",
        "        continue  # lanjut ke data berikutnya jika gambar hilang\n",
        "\n",
        "# Konversi jadi array NumPy\n",
        "X = np.array(X_dataset)\n"
      ],
      "metadata": {
        "colab": {
          "base_uri": "https://localhost:8080/"
        },
        "id": "kChh4t82kVUm",
        "outputId": "580457d3-156a-47bb-cf43-89731b3d5120"
      },
      "execution_count": 14,
      "outputs": [
        {
          "output_type": "stream",
          "name": "stderr",
          "text": [
            "100%|██████████| 300/300 [00:00<00:00, 27769.49it/s]"
          ]
        },
        {
          "output_type": "stream",
          "name": "stdout",
          "text": [
            "[WARNING] Gambar tidak ditemukan: /content/DatasetMultilabe_Fitri Ramadhania_202255202021/gambar01.jpg\n",
            "[WARNING] Gambar tidak ditemukan: /content/DatasetMultilabe_Fitri Ramadhania_202255202021/gambar02.jpg\n",
            "[WARNING] Gambar tidak ditemukan: /content/DatasetMultilabe_Fitri Ramadhania_202255202021/gambar03.jpg\n",
            "[WARNING] Gambar tidak ditemukan: /content/DatasetMultilabe_Fitri Ramadhania_202255202021/gambar04.jpg\n",
            "[WARNING] Gambar tidak ditemukan: /content/DatasetMultilabe_Fitri Ramadhania_202255202021/gambar05.jpg\n",
            "[WARNING] Gambar tidak ditemukan: /content/DatasetMultilabe_Fitri Ramadhania_202255202021/gambar06.jpg\n",
            "[WARNING] Gambar tidak ditemukan: /content/DatasetMultilabe_Fitri Ramadhania_202255202021/gambar07.jpg\n",
            "[WARNING] Gambar tidak ditemukan: /content/DatasetMultilabe_Fitri Ramadhania_202255202021/gambar08.jpg\n",
            "[WARNING] Gambar tidak ditemukan: /content/DatasetMultilabe_Fitri Ramadhania_202255202021/gambar09.jpg\n",
            "[WARNING] Gambar tidak ditemukan: /content/DatasetMultilabe_Fitri Ramadhania_202255202021/gambar10.jpg\n",
            "[WARNING] Gambar tidak ditemukan: /content/DatasetMultilabe_Fitri Ramadhania_202255202021/gambar11.jpg\n",
            "[WARNING] Gambar tidak ditemukan: /content/DatasetMultilabe_Fitri Ramadhania_202255202021/gambar12.jpg\n",
            "[WARNING] Gambar tidak ditemukan: /content/DatasetMultilabe_Fitri Ramadhania_202255202021/gambar13.jpg\n",
            "[WARNING] Gambar tidak ditemukan: /content/DatasetMultilabe_Fitri Ramadhania_202255202021/gambar14.jpg\n",
            "[WARNING] Gambar tidak ditemukan: /content/DatasetMultilabe_Fitri Ramadhania_202255202021/gambar15.jpg\n",
            "[WARNING] Gambar tidak ditemukan: /content/DatasetMultilabe_Fitri Ramadhania_202255202021/gambar16.jpg\n",
            "[WARNING] Gambar tidak ditemukan: /content/DatasetMultilabe_Fitri Ramadhania_202255202021/gambar17.jpg\n",
            "[WARNING] Gambar tidak ditemukan: /content/DatasetMultilabe_Fitri Ramadhania_202255202021/gambar18.jpg\n",
            "[WARNING] Gambar tidak ditemukan: /content/DatasetMultilabe_Fitri Ramadhania_202255202021/gambar19.jpg\n",
            "[WARNING] Gambar tidak ditemukan: /content/DatasetMultilabe_Fitri Ramadhania_202255202021/gambar20.jpg\n",
            "[WARNING] Gambar tidak ditemukan: /content/DatasetMultilabe_Fitri Ramadhania_202255202021/gambar21.jpg\n",
            "[WARNING] Gambar tidak ditemukan: /content/DatasetMultilabe_Fitri Ramadhania_202255202021/gambar22.jpg\n",
            "[WARNING] Gambar tidak ditemukan: /content/DatasetMultilabe_Fitri Ramadhania_202255202021/gambar23.jpg\n",
            "[WARNING] Gambar tidak ditemukan: /content/DatasetMultilabe_Fitri Ramadhania_202255202021/gambar24.jpg\n",
            "[WARNING] Gambar tidak ditemukan: /content/DatasetMultilabe_Fitri Ramadhania_202255202021/gambar25.jpg\n",
            "[WARNING] Gambar tidak ditemukan: /content/DatasetMultilabe_Fitri Ramadhania_202255202021/gambar26.jpg\n",
            "[WARNING] Gambar tidak ditemukan: /content/DatasetMultilabe_Fitri Ramadhania_202255202021/gambar27.jpg\n",
            "[WARNING] Gambar tidak ditemukan: /content/DatasetMultilabe_Fitri Ramadhania_202255202021/gambar28.jpg\n",
            "[WARNING] Gambar tidak ditemukan: /content/DatasetMultilabe_Fitri Ramadhania_202255202021/gambar29.jpg\n",
            "[WARNING] Gambar tidak ditemukan: /content/DatasetMultilabe_Fitri Ramadhania_202255202021/gambar30.jpg\n",
            "[WARNING] Gambar tidak ditemukan: /content/DatasetMultilabe_Fitri Ramadhania_202255202021/gambar31.jpg\n",
            "[WARNING] Gambar tidak ditemukan: /content/DatasetMultilabe_Fitri Ramadhania_202255202021/gambar32.jpg\n",
            "[WARNING] Gambar tidak ditemukan: /content/DatasetMultilabe_Fitri Ramadhania_202255202021/gambar33.jpg\n",
            "[WARNING] Gambar tidak ditemukan: /content/DatasetMultilabe_Fitri Ramadhania_202255202021/gambar34.jpg\n",
            "[WARNING] Gambar tidak ditemukan: /content/DatasetMultilabe_Fitri Ramadhania_202255202021/gambar35.jpg\n",
            "[WARNING] Gambar tidak ditemukan: /content/DatasetMultilabe_Fitri Ramadhania_202255202021/gambar36.jpg\n",
            "[WARNING] Gambar tidak ditemukan: /content/DatasetMultilabe_Fitri Ramadhania_202255202021/gambar37.jpg\n",
            "[WARNING] Gambar tidak ditemukan: /content/DatasetMultilabe_Fitri Ramadhania_202255202021/gambar38.jpg\n",
            "[WARNING] Gambar tidak ditemukan: /content/DatasetMultilabe_Fitri Ramadhania_202255202021/gambar39.jpg\n",
            "[WARNING] Gambar tidak ditemukan: /content/DatasetMultilabe_Fitri Ramadhania_202255202021/gambar40.jpg\n",
            "[WARNING] Gambar tidak ditemukan: /content/DatasetMultilabe_Fitri Ramadhania_202255202021/gambar41.jpg\n",
            "[WARNING] Gambar tidak ditemukan: /content/DatasetMultilabe_Fitri Ramadhania_202255202021/gambar42.jpg\n",
            "[WARNING] Gambar tidak ditemukan: /content/DatasetMultilabe_Fitri Ramadhania_202255202021/gambar43.jpg\n",
            "[WARNING] Gambar tidak ditemukan: /content/DatasetMultilabe_Fitri Ramadhania_202255202021/gambar44.jpg\n",
            "[WARNING] Gambar tidak ditemukan: /content/DatasetMultilabe_Fitri Ramadhania_202255202021/gambar45.jpg\n",
            "[WARNING] Gambar tidak ditemukan: /content/DatasetMultilabe_Fitri Ramadhania_202255202021/gambar46.jpg\n",
            "[WARNING] Gambar tidak ditemukan: /content/DatasetMultilabe_Fitri Ramadhania_202255202021/gambar47.jpg\n",
            "[WARNING] Gambar tidak ditemukan: /content/DatasetMultilabe_Fitri Ramadhania_202255202021/gambar48.jpg\n",
            "[WARNING] Gambar tidak ditemukan: /content/DatasetMultilabe_Fitri Ramadhania_202255202021/gambar49.jpg\n",
            "[WARNING] Gambar tidak ditemukan: /content/DatasetMultilabe_Fitri Ramadhania_202255202021/gambar50.jpg\n",
            "[WARNING] Gambar tidak ditemukan: /content/DatasetMultilabe_Fitri Ramadhania_202255202021/gambar51.jpg\n",
            "[WARNING] Gambar tidak ditemukan: /content/DatasetMultilabe_Fitri Ramadhania_202255202021/gambar52.jpg\n",
            "[WARNING] Gambar tidak ditemukan: /content/DatasetMultilabe_Fitri Ramadhania_202255202021/gambar53.jpg\n",
            "[WARNING] Gambar tidak ditemukan: /content/DatasetMultilabe_Fitri Ramadhania_202255202021/gambar54.jpg\n",
            "[WARNING] Gambar tidak ditemukan: /content/DatasetMultilabe_Fitri Ramadhania_202255202021/gambar55.jpg\n",
            "[WARNING] Gambar tidak ditemukan: /content/DatasetMultilabe_Fitri Ramadhania_202255202021/gambar56.jpg\n",
            "[WARNING] Gambar tidak ditemukan: /content/DatasetMultilabe_Fitri Ramadhania_202255202021/gambar57.jpg\n",
            "[WARNING] Gambar tidak ditemukan: /content/DatasetMultilabe_Fitri Ramadhania_202255202021/gambar58.jpg\n",
            "[WARNING] Gambar tidak ditemukan: /content/DatasetMultilabe_Fitri Ramadhania_202255202021/gambar59.jpg\n",
            "[WARNING] Gambar tidak ditemukan: /content/DatasetMultilabe_Fitri Ramadhania_202255202021/gambar60.jpg\n",
            "[WARNING] Gambar tidak ditemukan: /content/DatasetMultilabe_Fitri Ramadhania_202255202021/gambar61.jpg\n",
            "[WARNING] Gambar tidak ditemukan: /content/DatasetMultilabe_Fitri Ramadhania_202255202021/gambar62.jpg\n",
            "[WARNING] Gambar tidak ditemukan: /content/DatasetMultilabe_Fitri Ramadhania_202255202021/gambar63.jpg\n",
            "[WARNING] Gambar tidak ditemukan: /content/DatasetMultilabe_Fitri Ramadhania_202255202021/gambar64.jpg\n",
            "[WARNING] Gambar tidak ditemukan: /content/DatasetMultilabe_Fitri Ramadhania_202255202021/gambar65.jpg\n",
            "[WARNING] Gambar tidak ditemukan: /content/DatasetMultilabe_Fitri Ramadhania_202255202021/gambar66.jpg\n",
            "[WARNING] Gambar tidak ditemukan: /content/DatasetMultilabe_Fitri Ramadhania_202255202021/gambar67.jpg\n",
            "[WARNING] Gambar tidak ditemukan: /content/DatasetMultilabe_Fitri Ramadhania_202255202021/gambar68.jpg\n",
            "[WARNING] Gambar tidak ditemukan: /content/DatasetMultilabe_Fitri Ramadhania_202255202021/gambar69.jpg\n",
            "[WARNING] Gambar tidak ditemukan: /content/DatasetMultilabe_Fitri Ramadhania_202255202021/gambar70.jpg\n",
            "[WARNING] Gambar tidak ditemukan: /content/DatasetMultilabe_Fitri Ramadhania_202255202021/gambar71.jpg\n",
            "[WARNING] Gambar tidak ditemukan: /content/DatasetMultilabe_Fitri Ramadhania_202255202021/gambar72.jpg\n",
            "[WARNING] Gambar tidak ditemukan: /content/DatasetMultilabe_Fitri Ramadhania_202255202021/gambar73.jpg\n",
            "[WARNING] Gambar tidak ditemukan: /content/DatasetMultilabe_Fitri Ramadhania_202255202021/gambar74.jpg\n",
            "[WARNING] Gambar tidak ditemukan: /content/DatasetMultilabe_Fitri Ramadhania_202255202021/gambar75.jpg\n",
            "[WARNING] Gambar tidak ditemukan: /content/DatasetMultilabe_Fitri Ramadhania_202255202021/gambar76.jpg\n",
            "[WARNING] Gambar tidak ditemukan: /content/DatasetMultilabe_Fitri Ramadhania_202255202021/gambar77.jpg\n",
            "[WARNING] Gambar tidak ditemukan: /content/DatasetMultilabe_Fitri Ramadhania_202255202021/gambar78.jpg\n",
            "[WARNING] Gambar tidak ditemukan: /content/DatasetMultilabe_Fitri Ramadhania_202255202021/gambar79.jpg\n",
            "[WARNING] Gambar tidak ditemukan: /content/DatasetMultilabe_Fitri Ramadhania_202255202021/gambar80.jpg\n",
            "[WARNING] Gambar tidak ditemukan: /content/DatasetMultilabe_Fitri Ramadhania_202255202021/gambar81.jpg\n",
            "[WARNING] Gambar tidak ditemukan: /content/DatasetMultilabe_Fitri Ramadhania_202255202021/gambar82.jpg\n",
            "[WARNING] Gambar tidak ditemukan: /content/DatasetMultilabe_Fitri Ramadhania_202255202021/gambar83.jpg\n",
            "[WARNING] Gambar tidak ditemukan: /content/DatasetMultilabe_Fitri Ramadhania_202255202021/gambar84.jpg\n",
            "[WARNING] Gambar tidak ditemukan: /content/DatasetMultilabe_Fitri Ramadhania_202255202021/gambar85.jpg\n",
            "[WARNING] Gambar tidak ditemukan: /content/DatasetMultilabe_Fitri Ramadhania_202255202021/gambar86.jpg\n",
            "[WARNING] Gambar tidak ditemukan: /content/DatasetMultilabe_Fitri Ramadhania_202255202021/gambar87.jpg\n",
            "[WARNING] Gambar tidak ditemukan: /content/DatasetMultilabe_Fitri Ramadhania_202255202021/gambar88.jpg\n",
            "[WARNING] Gambar tidak ditemukan: /content/DatasetMultilabe_Fitri Ramadhania_202255202021/gambar89.jpg\n",
            "[WARNING] Gambar tidak ditemukan: /content/DatasetMultilabe_Fitri Ramadhania_202255202021/gambar90.jpg\n",
            "[WARNING] Gambar tidak ditemukan: /content/DatasetMultilabe_Fitri Ramadhania_202255202021/gambar91.jpg\n",
            "[WARNING] Gambar tidak ditemukan: /content/DatasetMultilabe_Fitri Ramadhania_202255202021/gambar92.jpg\n",
            "[WARNING] Gambar tidak ditemukan: /content/DatasetMultilabe_Fitri Ramadhania_202255202021/gambar93.jpg\n",
            "[WARNING] Gambar tidak ditemukan: /content/DatasetMultilabe_Fitri Ramadhania_202255202021/gambar94.jpg\n",
            "[WARNING] Gambar tidak ditemukan: /content/DatasetMultilabe_Fitri Ramadhania_202255202021/gambar95.jpg\n",
            "[WARNING] Gambar tidak ditemukan: /content/DatasetMultilabe_Fitri Ramadhania_202255202021/gambar96.jpg\n",
            "[WARNING] Gambar tidak ditemukan: /content/DatasetMultilabe_Fitri Ramadhania_202255202021/gambar97.jpg\n",
            "[WARNING] Gambar tidak ditemukan: /content/DatasetMultilabe_Fitri Ramadhania_202255202021/gambar98.jpg\n",
            "[WARNING] Gambar tidak ditemukan: /content/DatasetMultilabe_Fitri Ramadhania_202255202021/gambar99.jpg\n",
            "[WARNING] Gambar tidak ditemukan: /content/DatasetMultilabe_Fitri Ramadhania_202255202021/gambar100.jpg\n",
            "[WARNING] Gambar tidak ditemukan: /content/DatasetMultilabe_Fitri Ramadhania_202255202021/gambar101.jpg\n",
            "[WARNING] Gambar tidak ditemukan: /content/DatasetMultilabe_Fitri Ramadhania_202255202021/gambar102.jpg\n",
            "[WARNING] Gambar tidak ditemukan: /content/DatasetMultilabe_Fitri Ramadhania_202255202021/gambar103.jpg\n",
            "[WARNING] Gambar tidak ditemukan: /content/DatasetMultilabe_Fitri Ramadhania_202255202021/gambar104.jpg\n",
            "[WARNING] Gambar tidak ditemukan: /content/DatasetMultilabe_Fitri Ramadhania_202255202021/gambar105.jpg\n",
            "[WARNING] Gambar tidak ditemukan: /content/DatasetMultilabe_Fitri Ramadhania_202255202021/gambar106.jpg\n",
            "[WARNING] Gambar tidak ditemukan: /content/DatasetMultilabe_Fitri Ramadhania_202255202021/gambar107.jpg\n",
            "[WARNING] Gambar tidak ditemukan: /content/DatasetMultilabe_Fitri Ramadhania_202255202021/gambar108.jpg\n",
            "[WARNING] Gambar tidak ditemukan: /content/DatasetMultilabe_Fitri Ramadhania_202255202021/gambar109.jpg\n",
            "[WARNING] Gambar tidak ditemukan: /content/DatasetMultilabe_Fitri Ramadhania_202255202021/gambar110.jpg\n",
            "[WARNING] Gambar tidak ditemukan: /content/DatasetMultilabe_Fitri Ramadhania_202255202021/gambar111.jpg\n",
            "[WARNING] Gambar tidak ditemukan: /content/DatasetMultilabe_Fitri Ramadhania_202255202021/gambar112.jpg\n",
            "[WARNING] Gambar tidak ditemukan: /content/DatasetMultilabe_Fitri Ramadhania_202255202021/gambar113.jpg\n",
            "[WARNING] Gambar tidak ditemukan: /content/DatasetMultilabe_Fitri Ramadhania_202255202021/gambar114.jpg\n",
            "[WARNING] Gambar tidak ditemukan: /content/DatasetMultilabe_Fitri Ramadhania_202255202021/gambar115.jpg\n",
            "[WARNING] Gambar tidak ditemukan: /content/DatasetMultilabe_Fitri Ramadhania_202255202021/gambar116.jpg\n",
            "[WARNING] Gambar tidak ditemukan: /content/DatasetMultilabe_Fitri Ramadhania_202255202021/gambar117.jpg\n",
            "[WARNING] Gambar tidak ditemukan: /content/DatasetMultilabe_Fitri Ramadhania_202255202021/gambar118.jpg\n",
            "[WARNING] Gambar tidak ditemukan: /content/DatasetMultilabe_Fitri Ramadhania_202255202021/gambar119.jpg\n",
            "[WARNING] Gambar tidak ditemukan: /content/DatasetMultilabe_Fitri Ramadhania_202255202021/gambar120.jpg\n",
            "[WARNING] Gambar tidak ditemukan: /content/DatasetMultilabe_Fitri Ramadhania_202255202021/gambar121.jpg\n",
            "[WARNING] Gambar tidak ditemukan: /content/DatasetMultilabe_Fitri Ramadhania_202255202021/gambar122.jpg\n",
            "[WARNING] Gambar tidak ditemukan: /content/DatasetMultilabe_Fitri Ramadhania_202255202021/gambar123.jpg\n",
            "[WARNING] Gambar tidak ditemukan: /content/DatasetMultilabe_Fitri Ramadhania_202255202021/gambar124.jpg\n",
            "[WARNING] Gambar tidak ditemukan: /content/DatasetMultilabe_Fitri Ramadhania_202255202021/gambar125.jpg\n",
            "[WARNING] Gambar tidak ditemukan: /content/DatasetMultilabe_Fitri Ramadhania_202255202021/gambar126.jpg\n",
            "[WARNING] Gambar tidak ditemukan: /content/DatasetMultilabe_Fitri Ramadhania_202255202021/gambar127.jpg\n",
            "[WARNING] Gambar tidak ditemukan: /content/DatasetMultilabe_Fitri Ramadhania_202255202021/gambar128.jpg\n",
            "[WARNING] Gambar tidak ditemukan: /content/DatasetMultilabe_Fitri Ramadhania_202255202021/gambar129.jpg\n",
            "[WARNING] Gambar tidak ditemukan: /content/DatasetMultilabe_Fitri Ramadhania_202255202021/gambar130.jpg\n",
            "[WARNING] Gambar tidak ditemukan: /content/DatasetMultilabe_Fitri Ramadhania_202255202021/gambar131.jpg\n",
            "[WARNING] Gambar tidak ditemukan: /content/DatasetMultilabe_Fitri Ramadhania_202255202021/gambar132.jpg\n",
            "[WARNING] Gambar tidak ditemukan: /content/DatasetMultilabe_Fitri Ramadhania_202255202021/gambar133.jpg\n",
            "[WARNING] Gambar tidak ditemukan: /content/DatasetMultilabe_Fitri Ramadhania_202255202021/gambar134.jpg\n",
            "[WARNING] Gambar tidak ditemukan: /content/DatasetMultilabe_Fitri Ramadhania_202255202021/gambar135.jpg\n",
            "[WARNING] Gambar tidak ditemukan: /content/DatasetMultilabe_Fitri Ramadhania_202255202021/gambar136.jpg\n",
            "[WARNING] Gambar tidak ditemukan: /content/DatasetMultilabe_Fitri Ramadhania_202255202021/gambar137.jpg\n",
            "[WARNING] Gambar tidak ditemukan: /content/DatasetMultilabe_Fitri Ramadhania_202255202021/gambar138.jpg\n",
            "[WARNING] Gambar tidak ditemukan: /content/DatasetMultilabe_Fitri Ramadhania_202255202021/gambar139.jpg\n",
            "[WARNING] Gambar tidak ditemukan: /content/DatasetMultilabe_Fitri Ramadhania_202255202021/gambar140.jpg\n",
            "[WARNING] Gambar tidak ditemukan: /content/DatasetMultilabe_Fitri Ramadhania_202255202021/gambar141.jpg\n",
            "[WARNING] Gambar tidak ditemukan: /content/DatasetMultilabe_Fitri Ramadhania_202255202021/gambar142.jpg\n",
            "[WARNING] Gambar tidak ditemukan: /content/DatasetMultilabe_Fitri Ramadhania_202255202021/gambar143.jpg\n",
            "[WARNING] Gambar tidak ditemukan: /content/DatasetMultilabe_Fitri Ramadhania_202255202021/gambar144.jpg\n",
            "[WARNING] Gambar tidak ditemukan: /content/DatasetMultilabe_Fitri Ramadhania_202255202021/gambar145.jpg\n",
            "[WARNING] Gambar tidak ditemukan: /content/DatasetMultilabe_Fitri Ramadhania_202255202021/gambar146.jpg\n",
            "[WARNING] Gambar tidak ditemukan: /content/DatasetMultilabe_Fitri Ramadhania_202255202021/gambar147.jpg\n",
            "[WARNING] Gambar tidak ditemukan: /content/DatasetMultilabe_Fitri Ramadhania_202255202021/gambar148.jpg\n",
            "[WARNING] Gambar tidak ditemukan: /content/DatasetMultilabe_Fitri Ramadhania_202255202021/gambar149.jpg\n",
            "[WARNING] Gambar tidak ditemukan: /content/DatasetMultilabe_Fitri Ramadhania_202255202021/gambar150.jpg\n",
            "[WARNING] Gambar tidak ditemukan: /content/DatasetMultilabe_Fitri Ramadhania_202255202021/gambar151.jpg\n",
            "[WARNING] Gambar tidak ditemukan: /content/DatasetMultilabe_Fitri Ramadhania_202255202021/gambar152.jpg\n",
            "[WARNING] Gambar tidak ditemukan: /content/DatasetMultilabe_Fitri Ramadhania_202255202021/gambar153.jpg\n",
            "[WARNING] Gambar tidak ditemukan: /content/DatasetMultilabe_Fitri Ramadhania_202255202021/gambar154.jpg\n",
            "[WARNING] Gambar tidak ditemukan: /content/DatasetMultilabe_Fitri Ramadhania_202255202021/gambar155.jpg\n",
            "[WARNING] Gambar tidak ditemukan: /content/DatasetMultilabe_Fitri Ramadhania_202255202021/gambar156.jpg\n",
            "[WARNING] Gambar tidak ditemukan: /content/DatasetMultilabe_Fitri Ramadhania_202255202021/gambar157.jpg\n",
            "[WARNING] Gambar tidak ditemukan: /content/DatasetMultilabe_Fitri Ramadhania_202255202021/gambar158.jpg\n",
            "[WARNING] Gambar tidak ditemukan: /content/DatasetMultilabe_Fitri Ramadhania_202255202021/gambar159.jpg\n",
            "[WARNING] Gambar tidak ditemukan: /content/DatasetMultilabe_Fitri Ramadhania_202255202021/gambar160.jpg\n",
            "[WARNING] Gambar tidak ditemukan: /content/DatasetMultilabe_Fitri Ramadhania_202255202021/gambar161.jpg\n",
            "[WARNING] Gambar tidak ditemukan: /content/DatasetMultilabe_Fitri Ramadhania_202255202021/gambar162.jpg\n",
            "[WARNING] Gambar tidak ditemukan: /content/DatasetMultilabe_Fitri Ramadhania_202255202021/gambar163.jpg\n",
            "[WARNING] Gambar tidak ditemukan: /content/DatasetMultilabe_Fitri Ramadhania_202255202021/gambar164.jpg\n",
            "[WARNING] Gambar tidak ditemukan: /content/DatasetMultilabe_Fitri Ramadhania_202255202021/gambar165.jpg\n",
            "[WARNING] Gambar tidak ditemukan: /content/DatasetMultilabe_Fitri Ramadhania_202255202021/gambar166.jpg\n",
            "[WARNING] Gambar tidak ditemukan: /content/DatasetMultilabe_Fitri Ramadhania_202255202021/gambar167.jpg\n",
            "[WARNING] Gambar tidak ditemukan: /content/DatasetMultilabe_Fitri Ramadhania_202255202021/gambar168.jpg\n",
            "[WARNING] Gambar tidak ditemukan: /content/DatasetMultilabe_Fitri Ramadhania_202255202021/gambar169.jpg\n",
            "[WARNING] Gambar tidak ditemukan: /content/DatasetMultilabe_Fitri Ramadhania_202255202021/gambar170.jpg\n",
            "[WARNING] Gambar tidak ditemukan: /content/DatasetMultilabe_Fitri Ramadhania_202255202021/gambar171.jpg\n",
            "[WARNING] Gambar tidak ditemukan: /content/DatasetMultilabe_Fitri Ramadhania_202255202021/gambar172.jpg\n",
            "[WARNING] Gambar tidak ditemukan: /content/DatasetMultilabe_Fitri Ramadhania_202255202021/gambar173.jpg\n",
            "[WARNING] Gambar tidak ditemukan: /content/DatasetMultilabe_Fitri Ramadhania_202255202021/gambar174.jpg\n",
            "[WARNING] Gambar tidak ditemukan: /content/DatasetMultilabe_Fitri Ramadhania_202255202021/gambar175.jpg\n",
            "[WARNING] Gambar tidak ditemukan: /content/DatasetMultilabe_Fitri Ramadhania_202255202021/gambar176.jpg\n",
            "[WARNING] Gambar tidak ditemukan: /content/DatasetMultilabe_Fitri Ramadhania_202255202021/gambar177.jpg\n",
            "[WARNING] Gambar tidak ditemukan: /content/DatasetMultilabe_Fitri Ramadhania_202255202021/gambar178.jpg\n",
            "[WARNING] Gambar tidak ditemukan: /content/DatasetMultilabe_Fitri Ramadhania_202255202021/gambar179.jpg\n",
            "[WARNING] Gambar tidak ditemukan: /content/DatasetMultilabe_Fitri Ramadhania_202255202021/gambar180.jpg\n",
            "[WARNING] Gambar tidak ditemukan: /content/DatasetMultilabe_Fitri Ramadhania_202255202021/gambar181.jpg\n",
            "[WARNING] Gambar tidak ditemukan: /content/DatasetMultilabe_Fitri Ramadhania_202255202021/gambar182.jpg\n",
            "[WARNING] Gambar tidak ditemukan: /content/DatasetMultilabe_Fitri Ramadhania_202255202021/gambar183.jpg\n",
            "[WARNING] Gambar tidak ditemukan: /content/DatasetMultilabe_Fitri Ramadhania_202255202021/gambar184.jpg\n",
            "[WARNING] Gambar tidak ditemukan: /content/DatasetMultilabe_Fitri Ramadhania_202255202021/gambar185.jpg\n",
            "[WARNING] Gambar tidak ditemukan: /content/DatasetMultilabe_Fitri Ramadhania_202255202021/gambar186.jpg\n",
            "[WARNING] Gambar tidak ditemukan: /content/DatasetMultilabe_Fitri Ramadhania_202255202021/gambar187.jpg\n",
            "[WARNING] Gambar tidak ditemukan: /content/DatasetMultilabe_Fitri Ramadhania_202255202021/gambar188.jpg\n",
            "[WARNING] Gambar tidak ditemukan: /content/DatasetMultilabe_Fitri Ramadhania_202255202021/gambar189.jpg\n",
            "[WARNING] Gambar tidak ditemukan: /content/DatasetMultilabe_Fitri Ramadhania_202255202021/gambar190.jpg\n",
            "[WARNING] Gambar tidak ditemukan: /content/DatasetMultilabe_Fitri Ramadhania_202255202021/gambar191.jpg\n",
            "[WARNING] Gambar tidak ditemukan: /content/DatasetMultilabe_Fitri Ramadhania_202255202021/gambar192.jpg\n",
            "[WARNING] Gambar tidak ditemukan: /content/DatasetMultilabe_Fitri Ramadhania_202255202021/gambar193.jpg\n",
            "[WARNING] Gambar tidak ditemukan: /content/DatasetMultilabe_Fitri Ramadhania_202255202021/gambar194.jpg\n",
            "[WARNING] Gambar tidak ditemukan: /content/DatasetMultilabe_Fitri Ramadhania_202255202021/gambar195.jpg\n",
            "[WARNING] Gambar tidak ditemukan: /content/DatasetMultilabe_Fitri Ramadhania_202255202021/gambar196.jpg\n",
            "[WARNING] Gambar tidak ditemukan: /content/DatasetMultilabe_Fitri Ramadhania_202255202021/gambar197.jpg\n",
            "[WARNING] Gambar tidak ditemukan: /content/DatasetMultilabe_Fitri Ramadhania_202255202021/gambar198.jpg\n",
            "[WARNING] Gambar tidak ditemukan: /content/DatasetMultilabe_Fitri Ramadhania_202255202021/gambar199.jpg\n",
            "[WARNING] Gambar tidak ditemukan: /content/DatasetMultilabe_Fitri Ramadhania_202255202021/gambar200.jpg\n",
            "[WARNING] Gambar tidak ditemukan: /content/DatasetMultilabe_Fitri Ramadhania_202255202021/gambar201.jpg\n",
            "[WARNING] Gambar tidak ditemukan: /content/DatasetMultilabe_Fitri Ramadhania_202255202021/gambar202.jpg\n",
            "[WARNING] Gambar tidak ditemukan: /content/DatasetMultilabe_Fitri Ramadhania_202255202021/gambar203.jpg\n",
            "[WARNING] Gambar tidak ditemukan: /content/DatasetMultilabe_Fitri Ramadhania_202255202021/gambar204.jpg\n",
            "[WARNING] Gambar tidak ditemukan: /content/DatasetMultilabe_Fitri Ramadhania_202255202021/gambar205.jpg\n",
            "[WARNING] Gambar tidak ditemukan: /content/DatasetMultilabe_Fitri Ramadhania_202255202021/gambar206.jpg\n",
            "[WARNING] Gambar tidak ditemukan: /content/DatasetMultilabe_Fitri Ramadhania_202255202021/gambar207.jpg\n",
            "[WARNING] Gambar tidak ditemukan: /content/DatasetMultilabe_Fitri Ramadhania_202255202021/gambar208.jpg\n",
            "[WARNING] Gambar tidak ditemukan: /content/DatasetMultilabe_Fitri Ramadhania_202255202021/gambar209.jpg\n",
            "[WARNING] Gambar tidak ditemukan: /content/DatasetMultilabe_Fitri Ramadhania_202255202021/gambar210.jpg\n",
            "[WARNING] Gambar tidak ditemukan: /content/DatasetMultilabe_Fitri Ramadhania_202255202021/gambar211.jpg\n",
            "[WARNING] Gambar tidak ditemukan: /content/DatasetMultilabe_Fitri Ramadhania_202255202021/gambar212.jpg\n",
            "[WARNING] Gambar tidak ditemukan: /content/DatasetMultilabe_Fitri Ramadhania_202255202021/gambar213.jpg\n",
            "[WARNING] Gambar tidak ditemukan: /content/DatasetMultilabe_Fitri Ramadhania_202255202021/gambar214.jpg\n",
            "[WARNING] Gambar tidak ditemukan: /content/DatasetMultilabe_Fitri Ramadhania_202255202021/gambar215.jpg\n",
            "[WARNING] Gambar tidak ditemukan: /content/DatasetMultilabe_Fitri Ramadhania_202255202021/gambar216.jpg\n",
            "[WARNING] Gambar tidak ditemukan: /content/DatasetMultilabe_Fitri Ramadhania_202255202021/gambar217.jpg\n",
            "[WARNING] Gambar tidak ditemukan: /content/DatasetMultilabe_Fitri Ramadhania_202255202021/gambar218.jpg\n",
            "[WARNING] Gambar tidak ditemukan: /content/DatasetMultilabe_Fitri Ramadhania_202255202021/gambar219.jpg\n",
            "[WARNING] Gambar tidak ditemukan: /content/DatasetMultilabe_Fitri Ramadhania_202255202021/gambar220.jpg\n",
            "[WARNING] Gambar tidak ditemukan: /content/DatasetMultilabe_Fitri Ramadhania_202255202021/gambar221.jpg\n",
            "[WARNING] Gambar tidak ditemukan: /content/DatasetMultilabe_Fitri Ramadhania_202255202021/gambar222.jpg\n",
            "[WARNING] Gambar tidak ditemukan: /content/DatasetMultilabe_Fitri Ramadhania_202255202021/gambar223.jpg\n",
            "[WARNING] Gambar tidak ditemukan: /content/DatasetMultilabe_Fitri Ramadhania_202255202021/gambar224.jpg\n",
            "[WARNING] Gambar tidak ditemukan: /content/DatasetMultilabe_Fitri Ramadhania_202255202021/gambar225.jpg\n",
            "[WARNING] Gambar tidak ditemukan: /content/DatasetMultilabe_Fitri Ramadhania_202255202021/gambar226.jpg\n",
            "[WARNING] Gambar tidak ditemukan: /content/DatasetMultilabe_Fitri Ramadhania_202255202021/gambar227.jpg\n",
            "[WARNING] Gambar tidak ditemukan: /content/DatasetMultilabe_Fitri Ramadhania_202255202021/gambar228.jpg\n",
            "[WARNING] Gambar tidak ditemukan: /content/DatasetMultilabe_Fitri Ramadhania_202255202021/gambar229.jpg\n",
            "[WARNING] Gambar tidak ditemukan: /content/DatasetMultilabe_Fitri Ramadhania_202255202021/gambar230.jpg\n",
            "[WARNING] Gambar tidak ditemukan: /content/DatasetMultilabe_Fitri Ramadhania_202255202021/gambar231.jpg\n",
            "[WARNING] Gambar tidak ditemukan: /content/DatasetMultilabe_Fitri Ramadhania_202255202021/gambar232.jpg\n",
            "[WARNING] Gambar tidak ditemukan: /content/DatasetMultilabe_Fitri Ramadhania_202255202021/gambar233.jpg\n",
            "[WARNING] Gambar tidak ditemukan: /content/DatasetMultilabe_Fitri Ramadhania_202255202021/gambar234.jpg\n",
            "[WARNING] Gambar tidak ditemukan: /content/DatasetMultilabe_Fitri Ramadhania_202255202021/gambar235.jpg\n",
            "[WARNING] Gambar tidak ditemukan: /content/DatasetMultilabe_Fitri Ramadhania_202255202021/gambar236.jpg\n",
            "[WARNING] Gambar tidak ditemukan: /content/DatasetMultilabe_Fitri Ramadhania_202255202021/gambar237.jpg\n",
            "[WARNING] Gambar tidak ditemukan: /content/DatasetMultilabe_Fitri Ramadhania_202255202021/gambar238.jpg\n",
            "[WARNING] Gambar tidak ditemukan: /content/DatasetMultilabe_Fitri Ramadhania_202255202021/gambar239.jpg\n",
            "[WARNING] Gambar tidak ditemukan: /content/DatasetMultilabe_Fitri Ramadhania_202255202021/gambar240.jpg\n",
            "[WARNING] Gambar tidak ditemukan: /content/DatasetMultilabe_Fitri Ramadhania_202255202021/gambar241.jpg\n",
            "[WARNING] Gambar tidak ditemukan: /content/DatasetMultilabe_Fitri Ramadhania_202255202021/gambar242.jpg\n",
            "[WARNING] Gambar tidak ditemukan: /content/DatasetMultilabe_Fitri Ramadhania_202255202021/gambar243.jpg\n",
            "[WARNING] Gambar tidak ditemukan: /content/DatasetMultilabe_Fitri Ramadhania_202255202021/gambar244.jpg\n",
            "[WARNING] Gambar tidak ditemukan: /content/DatasetMultilabe_Fitri Ramadhania_202255202021/gambar245.jpg\n",
            "[WARNING] Gambar tidak ditemukan: /content/DatasetMultilabe_Fitri Ramadhania_202255202021/gambar246.jpg\n",
            "[WARNING] Gambar tidak ditemukan: /content/DatasetMultilabe_Fitri Ramadhania_202255202021/gambar247.jpg\n",
            "[WARNING] Gambar tidak ditemukan: /content/DatasetMultilabe_Fitri Ramadhania_202255202021/gambar248.jpg\n",
            "[WARNING] Gambar tidak ditemukan: /content/DatasetMultilabe_Fitri Ramadhania_202255202021/gambar249.jpg\n",
            "[WARNING] Gambar tidak ditemukan: /content/DatasetMultilabe_Fitri Ramadhania_202255202021/gambar250.jpg\n",
            "[WARNING] Gambar tidak ditemukan: /content/DatasetMultilabe_Fitri Ramadhania_202255202021/gambar251.jpg\n",
            "[WARNING] Gambar tidak ditemukan: /content/DatasetMultilabe_Fitri Ramadhania_202255202021/gambar252.jpg\n",
            "[WARNING] Gambar tidak ditemukan: /content/DatasetMultilabe_Fitri Ramadhania_202255202021/gambar253.jpg\n",
            "[WARNING] Gambar tidak ditemukan: /content/DatasetMultilabe_Fitri Ramadhania_202255202021/gambar254.jpg\n",
            "[WARNING] Gambar tidak ditemukan: /content/DatasetMultilabe_Fitri Ramadhania_202255202021/gambar255.jpg\n",
            "[WARNING] Gambar tidak ditemukan: /content/DatasetMultilabe_Fitri Ramadhania_202255202021/gambar256.jpg\n",
            "[WARNING] Gambar tidak ditemukan: /content/DatasetMultilabe_Fitri Ramadhania_202255202021/gambar257.jpg\n",
            "[WARNING] Gambar tidak ditemukan: /content/DatasetMultilabe_Fitri Ramadhania_202255202021/gambar258.jpg\n",
            "[WARNING] Gambar tidak ditemukan: /content/DatasetMultilabe_Fitri Ramadhania_202255202021/gambar259.jpg\n",
            "[WARNING] Gambar tidak ditemukan: /content/DatasetMultilabe_Fitri Ramadhania_202255202021/gambar260.jpg\n",
            "[WARNING] Gambar tidak ditemukan: /content/DatasetMultilabe_Fitri Ramadhania_202255202021/gambar261.jpg\n",
            "[WARNING] Gambar tidak ditemukan: /content/DatasetMultilabe_Fitri Ramadhania_202255202021/gambar262.jpg\n",
            "[WARNING] Gambar tidak ditemukan: /content/DatasetMultilabe_Fitri Ramadhania_202255202021/gambar263.jpg\n",
            "[WARNING] Gambar tidak ditemukan: /content/DatasetMultilabe_Fitri Ramadhania_202255202021/gambar264.jpg\n",
            "[WARNING] Gambar tidak ditemukan: /content/DatasetMultilabe_Fitri Ramadhania_202255202021/gambar265.jpg\n",
            "[WARNING] Gambar tidak ditemukan: /content/DatasetMultilabe_Fitri Ramadhania_202255202021/gambar266.jpg\n",
            "[WARNING] Gambar tidak ditemukan: /content/DatasetMultilabe_Fitri Ramadhania_202255202021/gambar267.jpg\n",
            "[WARNING] Gambar tidak ditemukan: /content/DatasetMultilabe_Fitri Ramadhania_202255202021/gambar268.jpg\n",
            "[WARNING] Gambar tidak ditemukan: /content/DatasetMultilabe_Fitri Ramadhania_202255202021/gambar269.jpg\n",
            "[WARNING] Gambar tidak ditemukan: /content/DatasetMultilabe_Fitri Ramadhania_202255202021/gambar270.jpg\n",
            "[WARNING] Gambar tidak ditemukan: /content/DatasetMultilabe_Fitri Ramadhania_202255202021/gambar271.jpg\n",
            "[WARNING] Gambar tidak ditemukan: /content/DatasetMultilabe_Fitri Ramadhania_202255202021/gambar272.jpg\n",
            "[WARNING] Gambar tidak ditemukan: /content/DatasetMultilabe_Fitri Ramadhania_202255202021/gambar273.jpg\n",
            "[WARNING] Gambar tidak ditemukan: /content/DatasetMultilabe_Fitri Ramadhania_202255202021/gambar274.jpg\n",
            "[WARNING] Gambar tidak ditemukan: /content/DatasetMultilabe_Fitri Ramadhania_202255202021/gambar275.jpg\n",
            "[WARNING] Gambar tidak ditemukan: /content/DatasetMultilabe_Fitri Ramadhania_202255202021/gambar276.jpg\n",
            "[WARNING] Gambar tidak ditemukan: /content/DatasetMultilabe_Fitri Ramadhania_202255202021/gambar277.jpg\n",
            "[WARNING] Gambar tidak ditemukan: /content/DatasetMultilabe_Fitri Ramadhania_202255202021/gambar278.jpg\n",
            "[WARNING] Gambar tidak ditemukan: /content/DatasetMultilabe_Fitri Ramadhania_202255202021/gambar279.jpg\n",
            "[WARNING] Gambar tidak ditemukan: /content/DatasetMultilabe_Fitri Ramadhania_202255202021/gambar280.jpg\n",
            "[WARNING] Gambar tidak ditemukan: /content/DatasetMultilabe_Fitri Ramadhania_202255202021/gambar281.jpg\n",
            "[WARNING] Gambar tidak ditemukan: /content/DatasetMultilabe_Fitri Ramadhania_202255202021/gambar282.jpg\n",
            "[WARNING] Gambar tidak ditemukan: /content/DatasetMultilabe_Fitri Ramadhania_202255202021/gambar283.jpg\n",
            "[WARNING] Gambar tidak ditemukan: /content/DatasetMultilabe_Fitri Ramadhania_202255202021/gambar284.jpg\n",
            "[WARNING] Gambar tidak ditemukan: /content/DatasetMultilabe_Fitri Ramadhania_202255202021/gambar285.jpg\n",
            "[WARNING] Gambar tidak ditemukan: /content/DatasetMultilabe_Fitri Ramadhania_202255202021/gambar286.jpg\n",
            "[WARNING] Gambar tidak ditemukan: /content/DatasetMultilabe_Fitri Ramadhania_202255202021/gambar287.jpg\n",
            "[WARNING] Gambar tidak ditemukan: /content/DatasetMultilabe_Fitri Ramadhania_202255202021/gambar288.jpg\n",
            "[WARNING] Gambar tidak ditemukan: /content/DatasetMultilabe_Fitri Ramadhania_202255202021/gambar289.jpg\n",
            "[WARNING] Gambar tidak ditemukan: /content/DatasetMultilabe_Fitri Ramadhania_202255202021/gambar290.jpg\n",
            "[WARNING] Gambar tidak ditemukan: /content/DatasetMultilabe_Fitri Ramadhania_202255202021/gambar291.jpg\n",
            "[WARNING] Gambar tidak ditemukan: /content/DatasetMultilabe_Fitri Ramadhania_202255202021/gambar292.jpg\n",
            "[WARNING] Gambar tidak ditemukan: /content/DatasetMultilabe_Fitri Ramadhania_202255202021/gambar293.jpg\n",
            "[WARNING] Gambar tidak ditemukan: /content/DatasetMultilabe_Fitri Ramadhania_202255202021/gambar294.jpg\n",
            "[WARNING] Gambar tidak ditemukan: /content/DatasetMultilabe_Fitri Ramadhania_202255202021/gambar295.jpg\n",
            "[WARNING] Gambar tidak ditemukan: /content/DatasetMultilabe_Fitri Ramadhania_202255202021/gambar296.jpg\n",
            "[WARNING] Gambar tidak ditemukan: /content/DatasetMultilabe_Fitri Ramadhania_202255202021/gambar297.jpg\n",
            "[WARNING] Gambar tidak ditemukan: /content/DatasetMultilabe_Fitri Ramadhania_202255202021/gambar298.jpg\n",
            "[WARNING] Gambar tidak ditemukan: /content/DatasetMultilabe_Fitri Ramadhania_202255202021/gambar299.jpg\n",
            "[WARNING] Gambar tidak ditemukan: /content/DatasetMultilabe_Fitri Ramadhania_202255202021/gambar300.jpg\n"
          ]
        },
        {
          "output_type": "stream",
          "name": "stderr",
          "text": [
            "\n"
          ]
        }
      ]
    },
    {
      "cell_type": "code",
      "source": [
        "\n",
        "#print(df['id'][150])  #This line was causing an error if index 1500 does not exist\n",
        "print(df['Id'][df.shape[0] - 1]) # Accessing the 'id' of the last row"
      ],
      "metadata": {
        "colab": {
          "base_uri": "https://localhost:8080/"
        },
        "id": "KrapM4Iwkylw",
        "outputId": "7b1d2d8a-2a6a-413a-a62a-ed4c455dc73d"
      },
      "execution_count": 15,
      "outputs": [
        {
          "output_type": "stream",
          "name": "stdout",
          "text": [
            "gambar300\n"
          ]
        }
      ]
    },
    {
      "cell_type": "code",
      "source": [
        "#Now let us read metadata to get our Y values (multiple lables)\n",
        "# Specify the delimiter as semicolon based on the column names observed\n",
        "df = pd.read_csv('TrainDataset_Fitri Ramadhania_202255202021.csv', sep=';')\n",
        "print(df.head())     # printing first five rows of the file\n",
        "print(df.columns)\n",
        "\n",
        "df = df.iloc[:2000]  #Loading only first 2000 datapoints for memory reasons\n",
        "#Need to read images using the tag from metadata.\n",
        "#Otherwise, if read directly from the folder then images may not correspond to\n",
        "#the metadata from the csv file."
      ],
      "metadata": {
        "colab": {
          "base_uri": "https://localhost:8080/"
        },
        "id": "zIEKcvLUbh1a",
        "outputId": "c1119317-4b15-4097-bf03-846f6e8d7b5f"
      },
      "execution_count": 16,
      "outputs": [
        {
          "output_type": "stream",
          "name": "stdout",
          "text": [
            "         Id                                    jenis sunscreen  \\\n",
            "0  gambar01  tinted sunscreen, sunscreen spray, sunscreen g...   \n",
            "1  gambar02  tinted sunscreen, sunscreen spray, sunscreen g...   \n",
            "2  gambar03  tinted sunscreen, sunscreen spray, sunscreen g...   \n",
            "3  gambar04  tinted sunscreen, sunscreen spray, sunscreen g...   \n",
            "4  gambar05  tinted sunscreen, sunscreen spray, sunscreen g...   \n",
            "\n",
            "   tinted sunscreen  sunscreen spray  sunscreen gel  body sunscreen  \n",
            "0                 1                1              1               1  \n",
            "1                 1                1              1               1  \n",
            "2                 1                1              1               1  \n",
            "3                 1                1              1               1  \n",
            "4                 1                1              1               1  \n",
            "Index(['Id', 'jenis sunscreen', 'tinted sunscreen', 'sunscreen spray',\n",
            "       'sunscreen gel', 'body sunscreen'],\n",
            "      dtype='object')\n"
          ]
        }
      ]
    },
    {
      "cell_type": "code",
      "source": [
        "#\n",
        "print(df['Id'][17])  #tinted sunscreen, sunscreen spray, sunscreen gel, body sunscreen"
      ],
      "metadata": {
        "colab": {
          "base_uri": "https://localhost:8080/"
        },
        "id": "v9BW29QZCqh9",
        "outputId": "c8f74777-57e2-4403-c7b0-d29b49950baa"
      },
      "execution_count": 17,
      "outputs": [
        {
          "output_type": "stream",
          "name": "stdout",
          "text": [
            "gambar18\n"
          ]
        }
      ]
    },
    {
      "cell_type": "code",
      "source": [
        "print(df['jenis sunscreen'][4])  #Tagged as multiple Genres."
      ],
      "metadata": {
        "colab": {
          "base_uri": "https://localhost:8080/"
        },
        "id": "sbdIkkQoCtCX",
        "outputId": "c8daebc2-6b95-4c7a-8401-fa9105c8e2fc"
      },
      "execution_count": 18,
      "outputs": [
        {
          "output_type": "stream",
          "name": "stdout",
          "text": [
            "tinted sunscreen, sunscreen spray, sunscreen gel, body sunscreen\n"
          ]
        }
      ]
    },
    {
      "cell_type": "code",
      "source": [
        "from sklearn.model_selection import train_test_split\n",
        "import numpy as np\n",
        "\n",
        "# Pastikan kolom 'Id' dan 'jenis sunscreen' ada di DataFrame sebelum di-drop\n",
        "drop_cols = ['Id', 'jenis sunscreen']\n",
        "for col in drop_cols:\n",
        "    if col not in df.columns:\n",
        "        raise ValueError(f\"Kolom '{col}' tidak ditemukan di DataFrame!\")"
      ],
      "metadata": {
        "id": "_h8uuiBTcyV8"
      },
      "execution_count": 19,
      "outputs": []
    },
    {
      "cell_type": "code",
      "source": [
        "# Ambil label multilabel (yang akan diprediksi)\n",
        "y = df.drop(columns=drop_cols).values  # bentuknya array 2D"
      ],
      "metadata": {
        "id": "gn7c4zhec6vF"
      },
      "execution_count": 20,
      "outputs": []
    },
    {
      "cell_type": "code",
      "source": [
        "model = Sequential()\n",
        "\n",
        "model.add(Conv2D(filters=16, kernel_size=(5, 5), activation=\"relu\", input_shape=(SIZE,SIZE,3)))\n",
        "model.add(BatchNormalization())\n",
        "model.add(MaxPooling2D(pool_size=(2, 2)))\n",
        "model.add(Dropout(0.2))\n",
        "\n",
        "model.add(Conv2D(filters=32, kernel_size=(5, 5), activation='relu'))\n",
        "model.add(MaxPooling2D(pool_size=(2, 2)))\n",
        "model.add(BatchNormalization())\n",
        "model.add(Dropout(0.2))\n",
        "\n",
        "model.add(Conv2D(filters=64, kernel_size=(5, 5), activation=\"relu\"))\n",
        "model.add(MaxPooling2D(pool_size=(2, 2)))\n",
        "model.add(BatchNormalization())\n",
        "model.add(Dropout(0.2))\n",
        "\n",
        "model.add(Conv2D(filters=64, kernel_size=(5, 5), activation='relu'))\n",
        "model.add(MaxPooling2D(pool_size=(2, 2)))\n",
        "model.add(BatchNormalization())\n",
        "model.add(Dropout(0.2))\n",
        "\n",
        "model.add(Flatten())\n",
        "model.add(Dense(128, activation='relu'))\n",
        "model.add(Dropout(0.5))\n",
        "model.add(Dense(64, activation='relu'))\n",
        "model.add(Dropout(0.5))\n",
        "model.add(Dense(25, activation='sigmoid'))\n",
        "\n",
        "#Do not use softmax for multilabel classification\n",
        "#Softmax is useful for mutually exclusive classes, either cat or dog but not both.\n",
        "#Also, softmax outputs all add to 1. So good for multi class problems where each\n",
        "#class is given a probability and all add to 1. Highest one wins.\n",
        "\n",
        "#Sigmoid outputs probability. Can be used for non-mutually exclusive problems.\n",
        "#like multi label, in this example.\n",
        "#But, also good for binary mutually exclusive (cat or not cat).\n",
        "\n",
        "model.summary()"
      ],
      "metadata": {
        "colab": {
          "base_uri": "https://localhost:8080/",
          "height": 1000
        },
        "id": "Z0uZkzzUCxWH",
        "outputId": "303a8c8a-0129-466c-9d1f-c4d71ec2696d"
      },
      "execution_count": 21,
      "outputs": [
        {
          "output_type": "stream",
          "name": "stderr",
          "text": [
            "/usr/local/lib/python3.11/dist-packages/keras/src/layers/convolutional/base_conv.py:107: UserWarning: Do not pass an `input_shape`/`input_dim` argument to a layer. When using Sequential models, prefer using an `Input(shape)` object as the first layer in the model instead.\n",
            "  super().__init__(activity_regularizer=activity_regularizer, **kwargs)\n"
          ]
        },
        {
          "output_type": "display_data",
          "data": {
            "text/plain": [
              "\u001b[1mModel: \"sequential\"\u001b[0m\n"
            ],
            "text/html": [
              "<pre style=\"white-space:pre;overflow-x:auto;line-height:normal;font-family:Menlo,'DejaVu Sans Mono',consolas,'Courier New',monospace\"><span style=\"font-weight: bold\">Model: \"sequential\"</span>\n",
              "</pre>\n"
            ]
          },
          "metadata": {}
        },
        {
          "output_type": "display_data",
          "data": {
            "text/plain": [
              "┏━━━━━━━━━━━━━━━━━━━━━━━━━━━━━━━━━┳━━━━━━━━━━━━━━━━━━━━━━━━┳━━━━━━━━━━━━━━━┓\n",
              "┃\u001b[1m \u001b[0m\u001b[1mLayer (type)                   \u001b[0m\u001b[1m \u001b[0m┃\u001b[1m \u001b[0m\u001b[1mOutput Shape          \u001b[0m\u001b[1m \u001b[0m┃\u001b[1m \u001b[0m\u001b[1m      Param #\u001b[0m\u001b[1m \u001b[0m┃\n",
              "┡━━━━━━━━━━━━━━━━━━━━━━━━━━━━━━━━━╇━━━━━━━━━━━━━━━━━━━━━━━━╇━━━━━━━━━━━━━━━┩\n",
              "│ conv2d (\u001b[38;5;33mConv2D\u001b[0m)                 │ (\u001b[38;5;45mNone\u001b[0m, \u001b[38;5;34m196\u001b[0m, \u001b[38;5;34m196\u001b[0m, \u001b[38;5;34m16\u001b[0m)   │         \u001b[38;5;34m1,216\u001b[0m │\n",
              "├─────────────────────────────────┼────────────────────────┼───────────────┤\n",
              "│ batch_normalization             │ (\u001b[38;5;45mNone\u001b[0m, \u001b[38;5;34m196\u001b[0m, \u001b[38;5;34m196\u001b[0m, \u001b[38;5;34m16\u001b[0m)   │            \u001b[38;5;34m64\u001b[0m │\n",
              "│ (\u001b[38;5;33mBatchNormalization\u001b[0m)            │                        │               │\n",
              "├─────────────────────────────────┼────────────────────────┼───────────────┤\n",
              "│ max_pooling2d (\u001b[38;5;33mMaxPooling2D\u001b[0m)    │ (\u001b[38;5;45mNone\u001b[0m, \u001b[38;5;34m98\u001b[0m, \u001b[38;5;34m98\u001b[0m, \u001b[38;5;34m16\u001b[0m)     │             \u001b[38;5;34m0\u001b[0m │\n",
              "├─────────────────────────────────┼────────────────────────┼───────────────┤\n",
              "│ dropout (\u001b[38;5;33mDropout\u001b[0m)               │ (\u001b[38;5;45mNone\u001b[0m, \u001b[38;5;34m98\u001b[0m, \u001b[38;5;34m98\u001b[0m, \u001b[38;5;34m16\u001b[0m)     │             \u001b[38;5;34m0\u001b[0m │\n",
              "├─────────────────────────────────┼────────────────────────┼───────────────┤\n",
              "│ conv2d_1 (\u001b[38;5;33mConv2D\u001b[0m)               │ (\u001b[38;5;45mNone\u001b[0m, \u001b[38;5;34m94\u001b[0m, \u001b[38;5;34m94\u001b[0m, \u001b[38;5;34m32\u001b[0m)     │        \u001b[38;5;34m12,832\u001b[0m │\n",
              "├─────────────────────────────────┼────────────────────────┼───────────────┤\n",
              "│ max_pooling2d_1 (\u001b[38;5;33mMaxPooling2D\u001b[0m)  │ (\u001b[38;5;45mNone\u001b[0m, \u001b[38;5;34m47\u001b[0m, \u001b[38;5;34m47\u001b[0m, \u001b[38;5;34m32\u001b[0m)     │             \u001b[38;5;34m0\u001b[0m │\n",
              "├─────────────────────────────────┼────────────────────────┼───────────────┤\n",
              "│ batch_normalization_1           │ (\u001b[38;5;45mNone\u001b[0m, \u001b[38;5;34m47\u001b[0m, \u001b[38;5;34m47\u001b[0m, \u001b[38;5;34m32\u001b[0m)     │           \u001b[38;5;34m128\u001b[0m │\n",
              "│ (\u001b[38;5;33mBatchNormalization\u001b[0m)            │                        │               │\n",
              "├─────────────────────────────────┼────────────────────────┼───────────────┤\n",
              "│ dropout_1 (\u001b[38;5;33mDropout\u001b[0m)             │ (\u001b[38;5;45mNone\u001b[0m, \u001b[38;5;34m47\u001b[0m, \u001b[38;5;34m47\u001b[0m, \u001b[38;5;34m32\u001b[0m)     │             \u001b[38;5;34m0\u001b[0m │\n",
              "├─────────────────────────────────┼────────────────────────┼───────────────┤\n",
              "│ conv2d_2 (\u001b[38;5;33mConv2D\u001b[0m)               │ (\u001b[38;5;45mNone\u001b[0m, \u001b[38;5;34m43\u001b[0m, \u001b[38;5;34m43\u001b[0m, \u001b[38;5;34m64\u001b[0m)     │        \u001b[38;5;34m51,264\u001b[0m │\n",
              "├─────────────────────────────────┼────────────────────────┼───────────────┤\n",
              "│ max_pooling2d_2 (\u001b[38;5;33mMaxPooling2D\u001b[0m)  │ (\u001b[38;5;45mNone\u001b[0m, \u001b[38;5;34m21\u001b[0m, \u001b[38;5;34m21\u001b[0m, \u001b[38;5;34m64\u001b[0m)     │             \u001b[38;5;34m0\u001b[0m │\n",
              "├─────────────────────────────────┼────────────────────────┼───────────────┤\n",
              "│ batch_normalization_2           │ (\u001b[38;5;45mNone\u001b[0m, \u001b[38;5;34m21\u001b[0m, \u001b[38;5;34m21\u001b[0m, \u001b[38;5;34m64\u001b[0m)     │           \u001b[38;5;34m256\u001b[0m │\n",
              "│ (\u001b[38;5;33mBatchNormalization\u001b[0m)            │                        │               │\n",
              "├─────────────────────────────────┼────────────────────────┼───────────────┤\n",
              "│ dropout_2 (\u001b[38;5;33mDropout\u001b[0m)             │ (\u001b[38;5;45mNone\u001b[0m, \u001b[38;5;34m21\u001b[0m, \u001b[38;5;34m21\u001b[0m, \u001b[38;5;34m64\u001b[0m)     │             \u001b[38;5;34m0\u001b[0m │\n",
              "├─────────────────────────────────┼────────────────────────┼───────────────┤\n",
              "│ conv2d_3 (\u001b[38;5;33mConv2D\u001b[0m)               │ (\u001b[38;5;45mNone\u001b[0m, \u001b[38;5;34m17\u001b[0m, \u001b[38;5;34m17\u001b[0m, \u001b[38;5;34m64\u001b[0m)     │       \u001b[38;5;34m102,464\u001b[0m │\n",
              "├─────────────────────────────────┼────────────────────────┼───────────────┤\n",
              "│ max_pooling2d_3 (\u001b[38;5;33mMaxPooling2D\u001b[0m)  │ (\u001b[38;5;45mNone\u001b[0m, \u001b[38;5;34m8\u001b[0m, \u001b[38;5;34m8\u001b[0m, \u001b[38;5;34m64\u001b[0m)       │             \u001b[38;5;34m0\u001b[0m │\n",
              "├─────────────────────────────────┼────────────────────────┼───────────────┤\n",
              "│ batch_normalization_3           │ (\u001b[38;5;45mNone\u001b[0m, \u001b[38;5;34m8\u001b[0m, \u001b[38;5;34m8\u001b[0m, \u001b[38;5;34m64\u001b[0m)       │           \u001b[38;5;34m256\u001b[0m │\n",
              "│ (\u001b[38;5;33mBatchNormalization\u001b[0m)            │                        │               │\n",
              "├─────────────────────────────────┼────────────────────────┼───────────────┤\n",
              "│ dropout_3 (\u001b[38;5;33mDropout\u001b[0m)             │ (\u001b[38;5;45mNone\u001b[0m, \u001b[38;5;34m8\u001b[0m, \u001b[38;5;34m8\u001b[0m, \u001b[38;5;34m64\u001b[0m)       │             \u001b[38;5;34m0\u001b[0m │\n",
              "├─────────────────────────────────┼────────────────────────┼───────────────┤\n",
              "│ flatten (\u001b[38;5;33mFlatten\u001b[0m)               │ (\u001b[38;5;45mNone\u001b[0m, \u001b[38;5;34m4096\u001b[0m)           │             \u001b[38;5;34m0\u001b[0m │\n",
              "├─────────────────────────────────┼────────────────────────┼───────────────┤\n",
              "│ dense (\u001b[38;5;33mDense\u001b[0m)                   │ (\u001b[38;5;45mNone\u001b[0m, \u001b[38;5;34m128\u001b[0m)            │       \u001b[38;5;34m524,416\u001b[0m │\n",
              "├─────────────────────────────────┼────────────────────────┼───────────────┤\n",
              "│ dropout_4 (\u001b[38;5;33mDropout\u001b[0m)             │ (\u001b[38;5;45mNone\u001b[0m, \u001b[38;5;34m128\u001b[0m)            │             \u001b[38;5;34m0\u001b[0m │\n",
              "├─────────────────────────────────┼────────────────────────┼───────────────┤\n",
              "│ dense_1 (\u001b[38;5;33mDense\u001b[0m)                 │ (\u001b[38;5;45mNone\u001b[0m, \u001b[38;5;34m64\u001b[0m)             │         \u001b[38;5;34m8,256\u001b[0m │\n",
              "├─────────────────────────────────┼────────────────────────┼───────────────┤\n",
              "│ dropout_5 (\u001b[38;5;33mDropout\u001b[0m)             │ (\u001b[38;5;45mNone\u001b[0m, \u001b[38;5;34m64\u001b[0m)             │             \u001b[38;5;34m0\u001b[0m │\n",
              "├─────────────────────────────────┼────────────────────────┼───────────────┤\n",
              "│ dense_2 (\u001b[38;5;33mDense\u001b[0m)                 │ (\u001b[38;5;45mNone\u001b[0m, \u001b[38;5;34m25\u001b[0m)             │         \u001b[38;5;34m1,625\u001b[0m │\n",
              "└─────────────────────────────────┴────────────────────────┴───────────────┘\n"
            ],
            "text/html": [
              "<pre style=\"white-space:pre;overflow-x:auto;line-height:normal;font-family:Menlo,'DejaVu Sans Mono',consolas,'Courier New',monospace\">┏━━━━━━━━━━━━━━━━━━━━━━━━━━━━━━━━━┳━━━━━━━━━━━━━━━━━━━━━━━━┳━━━━━━━━━━━━━━━┓\n",
              "┃<span style=\"font-weight: bold\"> Layer (type)                    </span>┃<span style=\"font-weight: bold\"> Output Shape           </span>┃<span style=\"font-weight: bold\">       Param # </span>┃\n",
              "┡━━━━━━━━━━━━━━━━━━━━━━━━━━━━━━━━━╇━━━━━━━━━━━━━━━━━━━━━━━━╇━━━━━━━━━━━━━━━┩\n",
              "│ conv2d (<span style=\"color: #0087ff; text-decoration-color: #0087ff\">Conv2D</span>)                 │ (<span style=\"color: #00d7ff; text-decoration-color: #00d7ff\">None</span>, <span style=\"color: #00af00; text-decoration-color: #00af00\">196</span>, <span style=\"color: #00af00; text-decoration-color: #00af00\">196</span>, <span style=\"color: #00af00; text-decoration-color: #00af00\">16</span>)   │         <span style=\"color: #00af00; text-decoration-color: #00af00\">1,216</span> │\n",
              "├─────────────────────────────────┼────────────────────────┼───────────────┤\n",
              "│ batch_normalization             │ (<span style=\"color: #00d7ff; text-decoration-color: #00d7ff\">None</span>, <span style=\"color: #00af00; text-decoration-color: #00af00\">196</span>, <span style=\"color: #00af00; text-decoration-color: #00af00\">196</span>, <span style=\"color: #00af00; text-decoration-color: #00af00\">16</span>)   │            <span style=\"color: #00af00; text-decoration-color: #00af00\">64</span> │\n",
              "│ (<span style=\"color: #0087ff; text-decoration-color: #0087ff\">BatchNormalization</span>)            │                        │               │\n",
              "├─────────────────────────────────┼────────────────────────┼───────────────┤\n",
              "│ max_pooling2d (<span style=\"color: #0087ff; text-decoration-color: #0087ff\">MaxPooling2D</span>)    │ (<span style=\"color: #00d7ff; text-decoration-color: #00d7ff\">None</span>, <span style=\"color: #00af00; text-decoration-color: #00af00\">98</span>, <span style=\"color: #00af00; text-decoration-color: #00af00\">98</span>, <span style=\"color: #00af00; text-decoration-color: #00af00\">16</span>)     │             <span style=\"color: #00af00; text-decoration-color: #00af00\">0</span> │\n",
              "├─────────────────────────────────┼────────────────────────┼───────────────┤\n",
              "│ dropout (<span style=\"color: #0087ff; text-decoration-color: #0087ff\">Dropout</span>)               │ (<span style=\"color: #00d7ff; text-decoration-color: #00d7ff\">None</span>, <span style=\"color: #00af00; text-decoration-color: #00af00\">98</span>, <span style=\"color: #00af00; text-decoration-color: #00af00\">98</span>, <span style=\"color: #00af00; text-decoration-color: #00af00\">16</span>)     │             <span style=\"color: #00af00; text-decoration-color: #00af00\">0</span> │\n",
              "├─────────────────────────────────┼────────────────────────┼───────────────┤\n",
              "│ conv2d_1 (<span style=\"color: #0087ff; text-decoration-color: #0087ff\">Conv2D</span>)               │ (<span style=\"color: #00d7ff; text-decoration-color: #00d7ff\">None</span>, <span style=\"color: #00af00; text-decoration-color: #00af00\">94</span>, <span style=\"color: #00af00; text-decoration-color: #00af00\">94</span>, <span style=\"color: #00af00; text-decoration-color: #00af00\">32</span>)     │        <span style=\"color: #00af00; text-decoration-color: #00af00\">12,832</span> │\n",
              "├─────────────────────────────────┼────────────────────────┼───────────────┤\n",
              "│ max_pooling2d_1 (<span style=\"color: #0087ff; text-decoration-color: #0087ff\">MaxPooling2D</span>)  │ (<span style=\"color: #00d7ff; text-decoration-color: #00d7ff\">None</span>, <span style=\"color: #00af00; text-decoration-color: #00af00\">47</span>, <span style=\"color: #00af00; text-decoration-color: #00af00\">47</span>, <span style=\"color: #00af00; text-decoration-color: #00af00\">32</span>)     │             <span style=\"color: #00af00; text-decoration-color: #00af00\">0</span> │\n",
              "├─────────────────────────────────┼────────────────────────┼───────────────┤\n",
              "│ batch_normalization_1           │ (<span style=\"color: #00d7ff; text-decoration-color: #00d7ff\">None</span>, <span style=\"color: #00af00; text-decoration-color: #00af00\">47</span>, <span style=\"color: #00af00; text-decoration-color: #00af00\">47</span>, <span style=\"color: #00af00; text-decoration-color: #00af00\">32</span>)     │           <span style=\"color: #00af00; text-decoration-color: #00af00\">128</span> │\n",
              "│ (<span style=\"color: #0087ff; text-decoration-color: #0087ff\">BatchNormalization</span>)            │                        │               │\n",
              "├─────────────────────────────────┼────────────────────────┼───────────────┤\n",
              "│ dropout_1 (<span style=\"color: #0087ff; text-decoration-color: #0087ff\">Dropout</span>)             │ (<span style=\"color: #00d7ff; text-decoration-color: #00d7ff\">None</span>, <span style=\"color: #00af00; text-decoration-color: #00af00\">47</span>, <span style=\"color: #00af00; text-decoration-color: #00af00\">47</span>, <span style=\"color: #00af00; text-decoration-color: #00af00\">32</span>)     │             <span style=\"color: #00af00; text-decoration-color: #00af00\">0</span> │\n",
              "├─────────────────────────────────┼────────────────────────┼───────────────┤\n",
              "│ conv2d_2 (<span style=\"color: #0087ff; text-decoration-color: #0087ff\">Conv2D</span>)               │ (<span style=\"color: #00d7ff; text-decoration-color: #00d7ff\">None</span>, <span style=\"color: #00af00; text-decoration-color: #00af00\">43</span>, <span style=\"color: #00af00; text-decoration-color: #00af00\">43</span>, <span style=\"color: #00af00; text-decoration-color: #00af00\">64</span>)     │        <span style=\"color: #00af00; text-decoration-color: #00af00\">51,264</span> │\n",
              "├─────────────────────────────────┼────────────────────────┼───────────────┤\n",
              "│ max_pooling2d_2 (<span style=\"color: #0087ff; text-decoration-color: #0087ff\">MaxPooling2D</span>)  │ (<span style=\"color: #00d7ff; text-decoration-color: #00d7ff\">None</span>, <span style=\"color: #00af00; text-decoration-color: #00af00\">21</span>, <span style=\"color: #00af00; text-decoration-color: #00af00\">21</span>, <span style=\"color: #00af00; text-decoration-color: #00af00\">64</span>)     │             <span style=\"color: #00af00; text-decoration-color: #00af00\">0</span> │\n",
              "├─────────────────────────────────┼────────────────────────┼───────────────┤\n",
              "│ batch_normalization_2           │ (<span style=\"color: #00d7ff; text-decoration-color: #00d7ff\">None</span>, <span style=\"color: #00af00; text-decoration-color: #00af00\">21</span>, <span style=\"color: #00af00; text-decoration-color: #00af00\">21</span>, <span style=\"color: #00af00; text-decoration-color: #00af00\">64</span>)     │           <span style=\"color: #00af00; text-decoration-color: #00af00\">256</span> │\n",
              "│ (<span style=\"color: #0087ff; text-decoration-color: #0087ff\">BatchNormalization</span>)            │                        │               │\n",
              "├─────────────────────────────────┼────────────────────────┼───────────────┤\n",
              "│ dropout_2 (<span style=\"color: #0087ff; text-decoration-color: #0087ff\">Dropout</span>)             │ (<span style=\"color: #00d7ff; text-decoration-color: #00d7ff\">None</span>, <span style=\"color: #00af00; text-decoration-color: #00af00\">21</span>, <span style=\"color: #00af00; text-decoration-color: #00af00\">21</span>, <span style=\"color: #00af00; text-decoration-color: #00af00\">64</span>)     │             <span style=\"color: #00af00; text-decoration-color: #00af00\">0</span> │\n",
              "├─────────────────────────────────┼────────────────────────┼───────────────┤\n",
              "│ conv2d_3 (<span style=\"color: #0087ff; text-decoration-color: #0087ff\">Conv2D</span>)               │ (<span style=\"color: #00d7ff; text-decoration-color: #00d7ff\">None</span>, <span style=\"color: #00af00; text-decoration-color: #00af00\">17</span>, <span style=\"color: #00af00; text-decoration-color: #00af00\">17</span>, <span style=\"color: #00af00; text-decoration-color: #00af00\">64</span>)     │       <span style=\"color: #00af00; text-decoration-color: #00af00\">102,464</span> │\n",
              "├─────────────────────────────────┼────────────────────────┼───────────────┤\n",
              "│ max_pooling2d_3 (<span style=\"color: #0087ff; text-decoration-color: #0087ff\">MaxPooling2D</span>)  │ (<span style=\"color: #00d7ff; text-decoration-color: #00d7ff\">None</span>, <span style=\"color: #00af00; text-decoration-color: #00af00\">8</span>, <span style=\"color: #00af00; text-decoration-color: #00af00\">8</span>, <span style=\"color: #00af00; text-decoration-color: #00af00\">64</span>)       │             <span style=\"color: #00af00; text-decoration-color: #00af00\">0</span> │\n",
              "├─────────────────────────────────┼────────────────────────┼───────────────┤\n",
              "│ batch_normalization_3           │ (<span style=\"color: #00d7ff; text-decoration-color: #00d7ff\">None</span>, <span style=\"color: #00af00; text-decoration-color: #00af00\">8</span>, <span style=\"color: #00af00; text-decoration-color: #00af00\">8</span>, <span style=\"color: #00af00; text-decoration-color: #00af00\">64</span>)       │           <span style=\"color: #00af00; text-decoration-color: #00af00\">256</span> │\n",
              "│ (<span style=\"color: #0087ff; text-decoration-color: #0087ff\">BatchNormalization</span>)            │                        │               │\n",
              "├─────────────────────────────────┼────────────────────────┼───────────────┤\n",
              "│ dropout_3 (<span style=\"color: #0087ff; text-decoration-color: #0087ff\">Dropout</span>)             │ (<span style=\"color: #00d7ff; text-decoration-color: #00d7ff\">None</span>, <span style=\"color: #00af00; text-decoration-color: #00af00\">8</span>, <span style=\"color: #00af00; text-decoration-color: #00af00\">8</span>, <span style=\"color: #00af00; text-decoration-color: #00af00\">64</span>)       │             <span style=\"color: #00af00; text-decoration-color: #00af00\">0</span> │\n",
              "├─────────────────────────────────┼────────────────────────┼───────────────┤\n",
              "│ flatten (<span style=\"color: #0087ff; text-decoration-color: #0087ff\">Flatten</span>)               │ (<span style=\"color: #00d7ff; text-decoration-color: #00d7ff\">None</span>, <span style=\"color: #00af00; text-decoration-color: #00af00\">4096</span>)           │             <span style=\"color: #00af00; text-decoration-color: #00af00\">0</span> │\n",
              "├─────────────────────────────────┼────────────────────────┼───────────────┤\n",
              "│ dense (<span style=\"color: #0087ff; text-decoration-color: #0087ff\">Dense</span>)                   │ (<span style=\"color: #00d7ff; text-decoration-color: #00d7ff\">None</span>, <span style=\"color: #00af00; text-decoration-color: #00af00\">128</span>)            │       <span style=\"color: #00af00; text-decoration-color: #00af00\">524,416</span> │\n",
              "├─────────────────────────────────┼────────────────────────┼───────────────┤\n",
              "│ dropout_4 (<span style=\"color: #0087ff; text-decoration-color: #0087ff\">Dropout</span>)             │ (<span style=\"color: #00d7ff; text-decoration-color: #00d7ff\">None</span>, <span style=\"color: #00af00; text-decoration-color: #00af00\">128</span>)            │             <span style=\"color: #00af00; text-decoration-color: #00af00\">0</span> │\n",
              "├─────────────────────────────────┼────────────────────────┼───────────────┤\n",
              "│ dense_1 (<span style=\"color: #0087ff; text-decoration-color: #0087ff\">Dense</span>)                 │ (<span style=\"color: #00d7ff; text-decoration-color: #00d7ff\">None</span>, <span style=\"color: #00af00; text-decoration-color: #00af00\">64</span>)             │         <span style=\"color: #00af00; text-decoration-color: #00af00\">8,256</span> │\n",
              "├─────────────────────────────────┼────────────────────────┼───────────────┤\n",
              "│ dropout_5 (<span style=\"color: #0087ff; text-decoration-color: #0087ff\">Dropout</span>)             │ (<span style=\"color: #00d7ff; text-decoration-color: #00d7ff\">None</span>, <span style=\"color: #00af00; text-decoration-color: #00af00\">64</span>)             │             <span style=\"color: #00af00; text-decoration-color: #00af00\">0</span> │\n",
              "├─────────────────────────────────┼────────────────────────┼───────────────┤\n",
              "│ dense_2 (<span style=\"color: #0087ff; text-decoration-color: #0087ff\">Dense</span>)                 │ (<span style=\"color: #00d7ff; text-decoration-color: #00d7ff\">None</span>, <span style=\"color: #00af00; text-decoration-color: #00af00\">25</span>)             │         <span style=\"color: #00af00; text-decoration-color: #00af00\">1,625</span> │\n",
              "└─────────────────────────────────┴────────────────────────┴───────────────┘\n",
              "</pre>\n"
            ]
          },
          "metadata": {}
        },
        {
          "output_type": "display_data",
          "data": {
            "text/plain": [
              "\u001b[1m Total params: \u001b[0m\u001b[38;5;34m702,777\u001b[0m (2.68 MB)\n"
            ],
            "text/html": [
              "<pre style=\"white-space:pre;overflow-x:auto;line-height:normal;font-family:Menlo,'DejaVu Sans Mono',consolas,'Courier New',monospace\"><span style=\"font-weight: bold\"> Total params: </span><span style=\"color: #00af00; text-decoration-color: #00af00\">702,777</span> (2.68 MB)\n",
              "</pre>\n"
            ]
          },
          "metadata": {}
        },
        {
          "output_type": "display_data",
          "data": {
            "text/plain": [
              "\u001b[1m Trainable params: \u001b[0m\u001b[38;5;34m702,425\u001b[0m (2.68 MB)\n"
            ],
            "text/html": [
              "<pre style=\"white-space:pre;overflow-x:auto;line-height:normal;font-family:Menlo,'DejaVu Sans Mono',consolas,'Courier New',monospace\"><span style=\"font-weight: bold\"> Trainable params: </span><span style=\"color: #00af00; text-decoration-color: #00af00\">702,425</span> (2.68 MB)\n",
              "</pre>\n"
            ]
          },
          "metadata": {}
        },
        {
          "output_type": "display_data",
          "data": {
            "text/plain": [
              "\u001b[1m Non-trainable params: \u001b[0m\u001b[38;5;34m352\u001b[0m (1.38 KB)\n"
            ],
            "text/html": [
              "<pre style=\"white-space:pre;overflow-x:auto;line-height:normal;font-family:Menlo,'DejaVu Sans Mono',consolas,'Courier New',monospace\"><span style=\"font-weight: bold\"> Non-trainable params: </span><span style=\"color: #00af00; text-decoration-color: #00af00\">352</span> (1.38 KB)\n",
              "</pre>\n"
            ]
          },
          "metadata": {}
        }
      ]
    },
    {
      "cell_type": "code",
      "source": [
        "#Binary cross entropy of each label. So no really a binary classification problem but\n",
        "#Calculating binary cross entropy for each label.\n",
        "model.compile(optimizer='adam', loss='binary_crossentropy', metrics=['accuracy'])\n"
      ],
      "metadata": {
        "id": "8dMlRIhsC0kn"
      },
      "execution_count": 22,
      "outputs": []
    },
    {
      "cell_type": "code",
      "source": [
        "# Direktori gambar\n",
        "image_directory = '/content/DatasetMultilabe_Fitri Ramadhania_202255202021/'\n"
      ],
      "metadata": {
        "id": "V4GaSKwdsv0C"
      },
      "execution_count": 23,
      "outputs": []
    },
    {
      "cell_type": "code",
      "source": [
        "# Looping untuk membaca gambar\n",
        "for i in tqdm(range(df.shape[0])):\n",
        "    image_id = str(df['Id'].iloc[i])  # pastikan tipe string\n",
        "    img_path = os.path.join(image_directory, image_id + '.jpg')\n",
        "\n",
        "    try:\n",
        "        img = image.load_img(img_path, target_size=(SIZE, SIZE))\n",
        "        img = image.img_to_array(img)\n",
        "        img = img / 255.0\n",
        "        X_dataset.append(img)\n",
        "    except FileNotFoundError:\n",
        "        print(f\"[WARNING] Gambar tidak ditemukan: {img_path}\")\n",
        "        continue  # lanjut ke data berikutnya jika gambar hilang\n"
      ],
      "metadata": {
        "colab": {
          "base_uri": "https://localhost:8080/"
        },
        "id": "W2PFvPA0s1Z1",
        "outputId": "5287f6e8-0d6c-42ab-8b3a-740f83353e55"
      },
      "execution_count": 24,
      "outputs": [
        {
          "output_type": "stream",
          "name": "stderr",
          "text": [
            "100%|██████████| 300/300 [00:00<00:00, 18059.18it/s]"
          ]
        },
        {
          "output_type": "stream",
          "name": "stdout",
          "text": [
            "[WARNING] Gambar tidak ditemukan: /content/DatasetMultilabe_Fitri Ramadhania_202255202021/gambar01.jpg\n",
            "[WARNING] Gambar tidak ditemukan: /content/DatasetMultilabe_Fitri Ramadhania_202255202021/gambar02.jpg\n",
            "[WARNING] Gambar tidak ditemukan: /content/DatasetMultilabe_Fitri Ramadhania_202255202021/gambar03.jpg\n",
            "[WARNING] Gambar tidak ditemukan: /content/DatasetMultilabe_Fitri Ramadhania_202255202021/gambar04.jpg\n",
            "[WARNING] Gambar tidak ditemukan: /content/DatasetMultilabe_Fitri Ramadhania_202255202021/gambar05.jpg\n",
            "[WARNING] Gambar tidak ditemukan: /content/DatasetMultilabe_Fitri Ramadhania_202255202021/gambar06.jpg\n",
            "[WARNING] Gambar tidak ditemukan: /content/DatasetMultilabe_Fitri Ramadhania_202255202021/gambar07.jpg\n",
            "[WARNING] Gambar tidak ditemukan: /content/DatasetMultilabe_Fitri Ramadhania_202255202021/gambar08.jpg\n",
            "[WARNING] Gambar tidak ditemukan: /content/DatasetMultilabe_Fitri Ramadhania_202255202021/gambar09.jpg\n",
            "[WARNING] Gambar tidak ditemukan: /content/DatasetMultilabe_Fitri Ramadhania_202255202021/gambar10.jpg\n",
            "[WARNING] Gambar tidak ditemukan: /content/DatasetMultilabe_Fitri Ramadhania_202255202021/gambar11.jpg\n",
            "[WARNING] Gambar tidak ditemukan: /content/DatasetMultilabe_Fitri Ramadhania_202255202021/gambar12.jpg\n",
            "[WARNING] Gambar tidak ditemukan: /content/DatasetMultilabe_Fitri Ramadhania_202255202021/gambar13.jpg\n",
            "[WARNING] Gambar tidak ditemukan: /content/DatasetMultilabe_Fitri Ramadhania_202255202021/gambar14.jpg\n",
            "[WARNING] Gambar tidak ditemukan: /content/DatasetMultilabe_Fitri Ramadhania_202255202021/gambar15.jpg\n",
            "[WARNING] Gambar tidak ditemukan: /content/DatasetMultilabe_Fitri Ramadhania_202255202021/gambar16.jpg\n",
            "[WARNING] Gambar tidak ditemukan: /content/DatasetMultilabe_Fitri Ramadhania_202255202021/gambar17.jpg\n",
            "[WARNING] Gambar tidak ditemukan: /content/DatasetMultilabe_Fitri Ramadhania_202255202021/gambar18.jpg\n",
            "[WARNING] Gambar tidak ditemukan: /content/DatasetMultilabe_Fitri Ramadhania_202255202021/gambar19.jpg\n",
            "[WARNING] Gambar tidak ditemukan: /content/DatasetMultilabe_Fitri Ramadhania_202255202021/gambar20.jpg\n",
            "[WARNING] Gambar tidak ditemukan: /content/DatasetMultilabe_Fitri Ramadhania_202255202021/gambar21.jpg\n",
            "[WARNING] Gambar tidak ditemukan: /content/DatasetMultilabe_Fitri Ramadhania_202255202021/gambar22.jpg\n",
            "[WARNING] Gambar tidak ditemukan: /content/DatasetMultilabe_Fitri Ramadhania_202255202021/gambar23.jpg\n",
            "[WARNING] Gambar tidak ditemukan: /content/DatasetMultilabe_Fitri Ramadhania_202255202021/gambar24.jpg\n",
            "[WARNING] Gambar tidak ditemukan: /content/DatasetMultilabe_Fitri Ramadhania_202255202021/gambar25.jpg\n",
            "[WARNING] Gambar tidak ditemukan: /content/DatasetMultilabe_Fitri Ramadhania_202255202021/gambar26.jpg\n",
            "[WARNING] Gambar tidak ditemukan: /content/DatasetMultilabe_Fitri Ramadhania_202255202021/gambar27.jpg\n",
            "[WARNING] Gambar tidak ditemukan: /content/DatasetMultilabe_Fitri Ramadhania_202255202021/gambar28.jpg\n",
            "[WARNING] Gambar tidak ditemukan: /content/DatasetMultilabe_Fitri Ramadhania_202255202021/gambar29.jpg\n",
            "[WARNING] Gambar tidak ditemukan: /content/DatasetMultilabe_Fitri Ramadhania_202255202021/gambar30.jpg\n",
            "[WARNING] Gambar tidak ditemukan: /content/DatasetMultilabe_Fitri Ramadhania_202255202021/gambar31.jpg\n",
            "[WARNING] Gambar tidak ditemukan: /content/DatasetMultilabe_Fitri Ramadhania_202255202021/gambar32.jpg\n",
            "[WARNING] Gambar tidak ditemukan: /content/DatasetMultilabe_Fitri Ramadhania_202255202021/gambar33.jpg\n",
            "[WARNING] Gambar tidak ditemukan: /content/DatasetMultilabe_Fitri Ramadhania_202255202021/gambar34.jpg\n",
            "[WARNING] Gambar tidak ditemukan: /content/DatasetMultilabe_Fitri Ramadhania_202255202021/gambar35.jpg\n",
            "[WARNING] Gambar tidak ditemukan: /content/DatasetMultilabe_Fitri Ramadhania_202255202021/gambar36.jpg\n",
            "[WARNING] Gambar tidak ditemukan: /content/DatasetMultilabe_Fitri Ramadhania_202255202021/gambar37.jpg\n",
            "[WARNING] Gambar tidak ditemukan: /content/DatasetMultilabe_Fitri Ramadhania_202255202021/gambar38.jpg\n",
            "[WARNING] Gambar tidak ditemukan: /content/DatasetMultilabe_Fitri Ramadhania_202255202021/gambar39.jpg\n",
            "[WARNING] Gambar tidak ditemukan: /content/DatasetMultilabe_Fitri Ramadhania_202255202021/gambar40.jpg\n",
            "[WARNING] Gambar tidak ditemukan: /content/DatasetMultilabe_Fitri Ramadhania_202255202021/gambar41.jpg\n",
            "[WARNING] Gambar tidak ditemukan: /content/DatasetMultilabe_Fitri Ramadhania_202255202021/gambar42.jpg\n",
            "[WARNING] Gambar tidak ditemukan: /content/DatasetMultilabe_Fitri Ramadhania_202255202021/gambar43.jpg\n",
            "[WARNING] Gambar tidak ditemukan: /content/DatasetMultilabe_Fitri Ramadhania_202255202021/gambar44.jpg\n",
            "[WARNING] Gambar tidak ditemukan: /content/DatasetMultilabe_Fitri Ramadhania_202255202021/gambar45.jpg\n",
            "[WARNING] Gambar tidak ditemukan: /content/DatasetMultilabe_Fitri Ramadhania_202255202021/gambar46.jpg\n",
            "[WARNING] Gambar tidak ditemukan: /content/DatasetMultilabe_Fitri Ramadhania_202255202021/gambar47.jpg\n",
            "[WARNING] Gambar tidak ditemukan: /content/DatasetMultilabe_Fitri Ramadhania_202255202021/gambar48.jpg\n",
            "[WARNING] Gambar tidak ditemukan: /content/DatasetMultilabe_Fitri Ramadhania_202255202021/gambar49.jpg\n",
            "[WARNING] Gambar tidak ditemukan: /content/DatasetMultilabe_Fitri Ramadhania_202255202021/gambar50.jpg\n",
            "[WARNING] Gambar tidak ditemukan: /content/DatasetMultilabe_Fitri Ramadhania_202255202021/gambar51.jpg\n",
            "[WARNING] Gambar tidak ditemukan: /content/DatasetMultilabe_Fitri Ramadhania_202255202021/gambar52.jpg\n",
            "[WARNING] Gambar tidak ditemukan: /content/DatasetMultilabe_Fitri Ramadhania_202255202021/gambar53.jpg\n",
            "[WARNING] Gambar tidak ditemukan: /content/DatasetMultilabe_Fitri Ramadhania_202255202021/gambar54.jpg\n",
            "[WARNING] Gambar tidak ditemukan: /content/DatasetMultilabe_Fitri Ramadhania_202255202021/gambar55.jpg\n",
            "[WARNING] Gambar tidak ditemukan: /content/DatasetMultilabe_Fitri Ramadhania_202255202021/gambar56.jpg\n",
            "[WARNING] Gambar tidak ditemukan: /content/DatasetMultilabe_Fitri Ramadhania_202255202021/gambar57.jpg\n",
            "[WARNING] Gambar tidak ditemukan: /content/DatasetMultilabe_Fitri Ramadhania_202255202021/gambar58.jpg\n",
            "[WARNING] Gambar tidak ditemukan: /content/DatasetMultilabe_Fitri Ramadhania_202255202021/gambar59.jpg\n",
            "[WARNING] Gambar tidak ditemukan: /content/DatasetMultilabe_Fitri Ramadhania_202255202021/gambar60.jpg\n",
            "[WARNING] Gambar tidak ditemukan: /content/DatasetMultilabe_Fitri Ramadhania_202255202021/gambar61.jpg\n",
            "[WARNING] Gambar tidak ditemukan: /content/DatasetMultilabe_Fitri Ramadhania_202255202021/gambar62.jpg\n",
            "[WARNING] Gambar tidak ditemukan: /content/DatasetMultilabe_Fitri Ramadhania_202255202021/gambar63.jpg\n",
            "[WARNING] Gambar tidak ditemukan: /content/DatasetMultilabe_Fitri Ramadhania_202255202021/gambar64.jpg\n",
            "[WARNING] Gambar tidak ditemukan: /content/DatasetMultilabe_Fitri Ramadhania_202255202021/gambar65.jpg\n",
            "[WARNING] Gambar tidak ditemukan: /content/DatasetMultilabe_Fitri Ramadhania_202255202021/gambar66.jpg\n",
            "[WARNING] Gambar tidak ditemukan: /content/DatasetMultilabe_Fitri Ramadhania_202255202021/gambar67.jpg\n",
            "[WARNING] Gambar tidak ditemukan: /content/DatasetMultilabe_Fitri Ramadhania_202255202021/gambar68.jpg\n",
            "[WARNING] Gambar tidak ditemukan: /content/DatasetMultilabe_Fitri Ramadhania_202255202021/gambar69.jpg\n",
            "[WARNING] Gambar tidak ditemukan: /content/DatasetMultilabe_Fitri Ramadhania_202255202021/gambar70.jpg\n",
            "[WARNING] Gambar tidak ditemukan: /content/DatasetMultilabe_Fitri Ramadhania_202255202021/gambar71.jpg\n",
            "[WARNING] Gambar tidak ditemukan: /content/DatasetMultilabe_Fitri Ramadhania_202255202021/gambar72.jpg\n",
            "[WARNING] Gambar tidak ditemukan: /content/DatasetMultilabe_Fitri Ramadhania_202255202021/gambar73.jpg\n",
            "[WARNING] Gambar tidak ditemukan: /content/DatasetMultilabe_Fitri Ramadhania_202255202021/gambar74.jpg\n",
            "[WARNING] Gambar tidak ditemukan: /content/DatasetMultilabe_Fitri Ramadhania_202255202021/gambar75.jpg\n",
            "[WARNING] Gambar tidak ditemukan: /content/DatasetMultilabe_Fitri Ramadhania_202255202021/gambar76.jpg\n",
            "[WARNING] Gambar tidak ditemukan: /content/DatasetMultilabe_Fitri Ramadhania_202255202021/gambar77.jpg\n",
            "[WARNING] Gambar tidak ditemukan: /content/DatasetMultilabe_Fitri Ramadhania_202255202021/gambar78.jpg\n",
            "[WARNING] Gambar tidak ditemukan: /content/DatasetMultilabe_Fitri Ramadhania_202255202021/gambar79.jpg\n",
            "[WARNING] Gambar tidak ditemukan: /content/DatasetMultilabe_Fitri Ramadhania_202255202021/gambar80.jpg\n",
            "[WARNING] Gambar tidak ditemukan: /content/DatasetMultilabe_Fitri Ramadhania_202255202021/gambar81.jpg\n",
            "[WARNING] Gambar tidak ditemukan: /content/DatasetMultilabe_Fitri Ramadhania_202255202021/gambar82.jpg\n",
            "[WARNING] Gambar tidak ditemukan: /content/DatasetMultilabe_Fitri Ramadhania_202255202021/gambar83.jpg\n",
            "[WARNING] Gambar tidak ditemukan: /content/DatasetMultilabe_Fitri Ramadhania_202255202021/gambar84.jpg\n",
            "[WARNING] Gambar tidak ditemukan: /content/DatasetMultilabe_Fitri Ramadhania_202255202021/gambar85.jpg\n",
            "[WARNING] Gambar tidak ditemukan: /content/DatasetMultilabe_Fitri Ramadhania_202255202021/gambar86.jpg\n",
            "[WARNING] Gambar tidak ditemukan: /content/DatasetMultilabe_Fitri Ramadhania_202255202021/gambar87.jpg\n",
            "[WARNING] Gambar tidak ditemukan: /content/DatasetMultilabe_Fitri Ramadhania_202255202021/gambar88.jpg\n",
            "[WARNING] Gambar tidak ditemukan: /content/DatasetMultilabe_Fitri Ramadhania_202255202021/gambar89.jpg\n",
            "[WARNING] Gambar tidak ditemukan: /content/DatasetMultilabe_Fitri Ramadhania_202255202021/gambar90.jpg\n",
            "[WARNING] Gambar tidak ditemukan: /content/DatasetMultilabe_Fitri Ramadhania_202255202021/gambar91.jpg\n",
            "[WARNING] Gambar tidak ditemukan: /content/DatasetMultilabe_Fitri Ramadhania_202255202021/gambar92.jpg\n",
            "[WARNING] Gambar tidak ditemukan: /content/DatasetMultilabe_Fitri Ramadhania_202255202021/gambar93.jpg\n",
            "[WARNING] Gambar tidak ditemukan: /content/DatasetMultilabe_Fitri Ramadhania_202255202021/gambar94.jpg\n",
            "[WARNING] Gambar tidak ditemukan: /content/DatasetMultilabe_Fitri Ramadhania_202255202021/gambar95.jpg\n",
            "[WARNING] Gambar tidak ditemukan: /content/DatasetMultilabe_Fitri Ramadhania_202255202021/gambar96.jpg\n",
            "[WARNING] Gambar tidak ditemukan: /content/DatasetMultilabe_Fitri Ramadhania_202255202021/gambar97.jpg\n",
            "[WARNING] Gambar tidak ditemukan: /content/DatasetMultilabe_Fitri Ramadhania_202255202021/gambar98.jpg\n",
            "[WARNING] Gambar tidak ditemukan: /content/DatasetMultilabe_Fitri Ramadhania_202255202021/gambar99.jpg\n",
            "[WARNING] Gambar tidak ditemukan: /content/DatasetMultilabe_Fitri Ramadhania_202255202021/gambar100.jpg\n",
            "[WARNING] Gambar tidak ditemukan: /content/DatasetMultilabe_Fitri Ramadhania_202255202021/gambar101.jpg\n",
            "[WARNING] Gambar tidak ditemukan: /content/DatasetMultilabe_Fitri Ramadhania_202255202021/gambar102.jpg\n",
            "[WARNING] Gambar tidak ditemukan: /content/DatasetMultilabe_Fitri Ramadhania_202255202021/gambar103.jpg\n",
            "[WARNING] Gambar tidak ditemukan: /content/DatasetMultilabe_Fitri Ramadhania_202255202021/gambar104.jpg\n",
            "[WARNING] Gambar tidak ditemukan: /content/DatasetMultilabe_Fitri Ramadhania_202255202021/gambar105.jpg\n",
            "[WARNING] Gambar tidak ditemukan: /content/DatasetMultilabe_Fitri Ramadhania_202255202021/gambar106.jpg\n",
            "[WARNING] Gambar tidak ditemukan: /content/DatasetMultilabe_Fitri Ramadhania_202255202021/gambar107.jpg\n",
            "[WARNING] Gambar tidak ditemukan: /content/DatasetMultilabe_Fitri Ramadhania_202255202021/gambar108.jpg\n",
            "[WARNING] Gambar tidak ditemukan: /content/DatasetMultilabe_Fitri Ramadhania_202255202021/gambar109.jpg\n",
            "[WARNING] Gambar tidak ditemukan: /content/DatasetMultilabe_Fitri Ramadhania_202255202021/gambar110.jpg\n",
            "[WARNING] Gambar tidak ditemukan: /content/DatasetMultilabe_Fitri Ramadhania_202255202021/gambar111.jpg\n",
            "[WARNING] Gambar tidak ditemukan: /content/DatasetMultilabe_Fitri Ramadhania_202255202021/gambar112.jpg\n",
            "[WARNING] Gambar tidak ditemukan: /content/DatasetMultilabe_Fitri Ramadhania_202255202021/gambar113.jpg\n",
            "[WARNING] Gambar tidak ditemukan: /content/DatasetMultilabe_Fitri Ramadhania_202255202021/gambar114.jpg\n",
            "[WARNING] Gambar tidak ditemukan: /content/DatasetMultilabe_Fitri Ramadhania_202255202021/gambar115.jpg\n",
            "[WARNING] Gambar tidak ditemukan: /content/DatasetMultilabe_Fitri Ramadhania_202255202021/gambar116.jpg\n",
            "[WARNING] Gambar tidak ditemukan: /content/DatasetMultilabe_Fitri Ramadhania_202255202021/gambar117.jpg\n",
            "[WARNING] Gambar tidak ditemukan: /content/DatasetMultilabe_Fitri Ramadhania_202255202021/gambar118.jpg\n",
            "[WARNING] Gambar tidak ditemukan: /content/DatasetMultilabe_Fitri Ramadhania_202255202021/gambar119.jpg\n",
            "[WARNING] Gambar tidak ditemukan: /content/DatasetMultilabe_Fitri Ramadhania_202255202021/gambar120.jpg\n",
            "[WARNING] Gambar tidak ditemukan: /content/DatasetMultilabe_Fitri Ramadhania_202255202021/gambar121.jpg\n",
            "[WARNING] Gambar tidak ditemukan: /content/DatasetMultilabe_Fitri Ramadhania_202255202021/gambar122.jpg\n",
            "[WARNING] Gambar tidak ditemukan: /content/DatasetMultilabe_Fitri Ramadhania_202255202021/gambar123.jpg\n",
            "[WARNING] Gambar tidak ditemukan: /content/DatasetMultilabe_Fitri Ramadhania_202255202021/gambar124.jpg\n",
            "[WARNING] Gambar tidak ditemukan: /content/DatasetMultilabe_Fitri Ramadhania_202255202021/gambar125.jpg\n",
            "[WARNING] Gambar tidak ditemukan: /content/DatasetMultilabe_Fitri Ramadhania_202255202021/gambar126.jpg\n",
            "[WARNING] Gambar tidak ditemukan: /content/DatasetMultilabe_Fitri Ramadhania_202255202021/gambar127.jpg\n",
            "[WARNING] Gambar tidak ditemukan: /content/DatasetMultilabe_Fitri Ramadhania_202255202021/gambar128.jpg\n",
            "[WARNING] Gambar tidak ditemukan: /content/DatasetMultilabe_Fitri Ramadhania_202255202021/gambar129.jpg\n",
            "[WARNING] Gambar tidak ditemukan: /content/DatasetMultilabe_Fitri Ramadhania_202255202021/gambar130.jpg\n",
            "[WARNING] Gambar tidak ditemukan: /content/DatasetMultilabe_Fitri Ramadhania_202255202021/gambar131.jpg\n",
            "[WARNING] Gambar tidak ditemukan: /content/DatasetMultilabe_Fitri Ramadhania_202255202021/gambar132.jpg\n",
            "[WARNING] Gambar tidak ditemukan: /content/DatasetMultilabe_Fitri Ramadhania_202255202021/gambar133.jpg\n",
            "[WARNING] Gambar tidak ditemukan: /content/DatasetMultilabe_Fitri Ramadhania_202255202021/gambar134.jpg\n",
            "[WARNING] Gambar tidak ditemukan: /content/DatasetMultilabe_Fitri Ramadhania_202255202021/gambar135.jpg\n",
            "[WARNING] Gambar tidak ditemukan: /content/DatasetMultilabe_Fitri Ramadhania_202255202021/gambar136.jpg\n",
            "[WARNING] Gambar tidak ditemukan: /content/DatasetMultilabe_Fitri Ramadhania_202255202021/gambar137.jpg\n",
            "[WARNING] Gambar tidak ditemukan: /content/DatasetMultilabe_Fitri Ramadhania_202255202021/gambar138.jpg\n",
            "[WARNING] Gambar tidak ditemukan: /content/DatasetMultilabe_Fitri Ramadhania_202255202021/gambar139.jpg\n",
            "[WARNING] Gambar tidak ditemukan: /content/DatasetMultilabe_Fitri Ramadhania_202255202021/gambar140.jpg\n",
            "[WARNING] Gambar tidak ditemukan: /content/DatasetMultilabe_Fitri Ramadhania_202255202021/gambar141.jpg\n",
            "[WARNING] Gambar tidak ditemukan: /content/DatasetMultilabe_Fitri Ramadhania_202255202021/gambar142.jpg\n",
            "[WARNING] Gambar tidak ditemukan: /content/DatasetMultilabe_Fitri Ramadhania_202255202021/gambar143.jpg\n",
            "[WARNING] Gambar tidak ditemukan: /content/DatasetMultilabe_Fitri Ramadhania_202255202021/gambar144.jpg\n",
            "[WARNING] Gambar tidak ditemukan: /content/DatasetMultilabe_Fitri Ramadhania_202255202021/gambar145.jpg\n",
            "[WARNING] Gambar tidak ditemukan: /content/DatasetMultilabe_Fitri Ramadhania_202255202021/gambar146.jpg\n",
            "[WARNING] Gambar tidak ditemukan: /content/DatasetMultilabe_Fitri Ramadhania_202255202021/gambar147.jpg\n",
            "[WARNING] Gambar tidak ditemukan: /content/DatasetMultilabe_Fitri Ramadhania_202255202021/gambar148.jpg\n",
            "[WARNING] Gambar tidak ditemukan: /content/DatasetMultilabe_Fitri Ramadhania_202255202021/gambar149.jpg\n",
            "[WARNING] Gambar tidak ditemukan: /content/DatasetMultilabe_Fitri Ramadhania_202255202021/gambar150.jpg\n",
            "[WARNING] Gambar tidak ditemukan: /content/DatasetMultilabe_Fitri Ramadhania_202255202021/gambar151.jpg\n",
            "[WARNING] Gambar tidak ditemukan: /content/DatasetMultilabe_Fitri Ramadhania_202255202021/gambar152.jpg\n",
            "[WARNING] Gambar tidak ditemukan: /content/DatasetMultilabe_Fitri Ramadhania_202255202021/gambar153.jpg\n",
            "[WARNING] Gambar tidak ditemukan: /content/DatasetMultilabe_Fitri Ramadhania_202255202021/gambar154.jpg\n",
            "[WARNING] Gambar tidak ditemukan: /content/DatasetMultilabe_Fitri Ramadhania_202255202021/gambar155.jpg\n",
            "[WARNING] Gambar tidak ditemukan: /content/DatasetMultilabe_Fitri Ramadhania_202255202021/gambar156.jpg\n",
            "[WARNING] Gambar tidak ditemukan: /content/DatasetMultilabe_Fitri Ramadhania_202255202021/gambar157.jpg\n",
            "[WARNING] Gambar tidak ditemukan: /content/DatasetMultilabe_Fitri Ramadhania_202255202021/gambar158.jpg\n",
            "[WARNING] Gambar tidak ditemukan: /content/DatasetMultilabe_Fitri Ramadhania_202255202021/gambar159.jpg\n",
            "[WARNING] Gambar tidak ditemukan: /content/DatasetMultilabe_Fitri Ramadhania_202255202021/gambar160.jpg\n",
            "[WARNING] Gambar tidak ditemukan: /content/DatasetMultilabe_Fitri Ramadhania_202255202021/gambar161.jpg\n",
            "[WARNING] Gambar tidak ditemukan: /content/DatasetMultilabe_Fitri Ramadhania_202255202021/gambar162.jpg\n",
            "[WARNING] Gambar tidak ditemukan: /content/DatasetMultilabe_Fitri Ramadhania_202255202021/gambar163.jpg\n",
            "[WARNING] Gambar tidak ditemukan: /content/DatasetMultilabe_Fitri Ramadhania_202255202021/gambar164.jpg\n",
            "[WARNING] Gambar tidak ditemukan: /content/DatasetMultilabe_Fitri Ramadhania_202255202021/gambar165.jpg\n",
            "[WARNING] Gambar tidak ditemukan: /content/DatasetMultilabe_Fitri Ramadhania_202255202021/gambar166.jpg\n",
            "[WARNING] Gambar tidak ditemukan: /content/DatasetMultilabe_Fitri Ramadhania_202255202021/gambar167.jpg\n",
            "[WARNING] Gambar tidak ditemukan: /content/DatasetMultilabe_Fitri Ramadhania_202255202021/gambar168.jpg\n",
            "[WARNING] Gambar tidak ditemukan: /content/DatasetMultilabe_Fitri Ramadhania_202255202021/gambar169.jpg\n",
            "[WARNING] Gambar tidak ditemukan: /content/DatasetMultilabe_Fitri Ramadhania_202255202021/gambar170.jpg\n",
            "[WARNING] Gambar tidak ditemukan: /content/DatasetMultilabe_Fitri Ramadhania_202255202021/gambar171.jpg\n",
            "[WARNING] Gambar tidak ditemukan: /content/DatasetMultilabe_Fitri Ramadhania_202255202021/gambar172.jpg\n",
            "[WARNING] Gambar tidak ditemukan: /content/DatasetMultilabe_Fitri Ramadhania_202255202021/gambar173.jpg\n",
            "[WARNING] Gambar tidak ditemukan: /content/DatasetMultilabe_Fitri Ramadhania_202255202021/gambar174.jpg\n",
            "[WARNING] Gambar tidak ditemukan: /content/DatasetMultilabe_Fitri Ramadhania_202255202021/gambar175.jpg\n",
            "[WARNING] Gambar tidak ditemukan: /content/DatasetMultilabe_Fitri Ramadhania_202255202021/gambar176.jpg\n",
            "[WARNING] Gambar tidak ditemukan: /content/DatasetMultilabe_Fitri Ramadhania_202255202021/gambar177.jpg\n",
            "[WARNING] Gambar tidak ditemukan: /content/DatasetMultilabe_Fitri Ramadhania_202255202021/gambar178.jpg\n",
            "[WARNING] Gambar tidak ditemukan: /content/DatasetMultilabe_Fitri Ramadhania_202255202021/gambar179.jpg\n",
            "[WARNING] Gambar tidak ditemukan: /content/DatasetMultilabe_Fitri Ramadhania_202255202021/gambar180.jpg\n",
            "[WARNING] Gambar tidak ditemukan: /content/DatasetMultilabe_Fitri Ramadhania_202255202021/gambar181.jpg\n",
            "[WARNING] Gambar tidak ditemukan: /content/DatasetMultilabe_Fitri Ramadhania_202255202021/gambar182.jpg\n",
            "[WARNING] Gambar tidak ditemukan: /content/DatasetMultilabe_Fitri Ramadhania_202255202021/gambar183.jpg\n",
            "[WARNING] Gambar tidak ditemukan: /content/DatasetMultilabe_Fitri Ramadhania_202255202021/gambar184.jpg\n",
            "[WARNING] Gambar tidak ditemukan: /content/DatasetMultilabe_Fitri Ramadhania_202255202021/gambar185.jpg\n",
            "[WARNING] Gambar tidak ditemukan: /content/DatasetMultilabe_Fitri Ramadhania_202255202021/gambar186.jpg\n",
            "[WARNING] Gambar tidak ditemukan: /content/DatasetMultilabe_Fitri Ramadhania_202255202021/gambar187.jpg\n",
            "[WARNING] Gambar tidak ditemukan: /content/DatasetMultilabe_Fitri Ramadhania_202255202021/gambar188.jpg\n",
            "[WARNING] Gambar tidak ditemukan: /content/DatasetMultilabe_Fitri Ramadhania_202255202021/gambar189.jpg\n",
            "[WARNING] Gambar tidak ditemukan: /content/DatasetMultilabe_Fitri Ramadhania_202255202021/gambar190.jpg\n",
            "[WARNING] Gambar tidak ditemukan: /content/DatasetMultilabe_Fitri Ramadhania_202255202021/gambar191.jpg\n",
            "[WARNING] Gambar tidak ditemukan: /content/DatasetMultilabe_Fitri Ramadhania_202255202021/gambar192.jpg\n",
            "[WARNING] Gambar tidak ditemukan: /content/DatasetMultilabe_Fitri Ramadhania_202255202021/gambar193.jpg\n",
            "[WARNING] Gambar tidak ditemukan: /content/DatasetMultilabe_Fitri Ramadhania_202255202021/gambar194.jpg\n",
            "[WARNING] Gambar tidak ditemukan: /content/DatasetMultilabe_Fitri Ramadhania_202255202021/gambar195.jpg\n",
            "[WARNING] Gambar tidak ditemukan: /content/DatasetMultilabe_Fitri Ramadhania_202255202021/gambar196.jpg\n",
            "[WARNING] Gambar tidak ditemukan: /content/DatasetMultilabe_Fitri Ramadhania_202255202021/gambar197.jpg\n",
            "[WARNING] Gambar tidak ditemukan: /content/DatasetMultilabe_Fitri Ramadhania_202255202021/gambar198.jpg\n",
            "[WARNING] Gambar tidak ditemukan: /content/DatasetMultilabe_Fitri Ramadhania_202255202021/gambar199.jpg\n",
            "[WARNING] Gambar tidak ditemukan: /content/DatasetMultilabe_Fitri Ramadhania_202255202021/gambar200.jpg\n",
            "[WARNING] Gambar tidak ditemukan: /content/DatasetMultilabe_Fitri Ramadhania_202255202021/gambar201.jpg\n",
            "[WARNING] Gambar tidak ditemukan: /content/DatasetMultilabe_Fitri Ramadhania_202255202021/gambar202.jpg\n",
            "[WARNING] Gambar tidak ditemukan: /content/DatasetMultilabe_Fitri Ramadhania_202255202021/gambar203.jpg\n",
            "[WARNING] Gambar tidak ditemukan: /content/DatasetMultilabe_Fitri Ramadhania_202255202021/gambar204.jpg\n",
            "[WARNING] Gambar tidak ditemukan: /content/DatasetMultilabe_Fitri Ramadhania_202255202021/gambar205.jpg\n",
            "[WARNING] Gambar tidak ditemukan: /content/DatasetMultilabe_Fitri Ramadhania_202255202021/gambar206.jpg\n",
            "[WARNING] Gambar tidak ditemukan: /content/DatasetMultilabe_Fitri Ramadhania_202255202021/gambar207.jpg\n",
            "[WARNING] Gambar tidak ditemukan: /content/DatasetMultilabe_Fitri Ramadhania_202255202021/gambar208.jpg\n",
            "[WARNING] Gambar tidak ditemukan: /content/DatasetMultilabe_Fitri Ramadhania_202255202021/gambar209.jpg\n",
            "[WARNING] Gambar tidak ditemukan: /content/DatasetMultilabe_Fitri Ramadhania_202255202021/gambar210.jpg\n",
            "[WARNING] Gambar tidak ditemukan: /content/DatasetMultilabe_Fitri Ramadhania_202255202021/gambar211.jpg\n",
            "[WARNING] Gambar tidak ditemukan: /content/DatasetMultilabe_Fitri Ramadhania_202255202021/gambar212.jpg\n",
            "[WARNING] Gambar tidak ditemukan: /content/DatasetMultilabe_Fitri Ramadhania_202255202021/gambar213.jpg\n",
            "[WARNING] Gambar tidak ditemukan: /content/DatasetMultilabe_Fitri Ramadhania_202255202021/gambar214.jpg\n",
            "[WARNING] Gambar tidak ditemukan: /content/DatasetMultilabe_Fitri Ramadhania_202255202021/gambar215.jpg\n",
            "[WARNING] Gambar tidak ditemukan: /content/DatasetMultilabe_Fitri Ramadhania_202255202021/gambar216.jpg\n",
            "[WARNING] Gambar tidak ditemukan: /content/DatasetMultilabe_Fitri Ramadhania_202255202021/gambar217.jpg\n",
            "[WARNING] Gambar tidak ditemukan: /content/DatasetMultilabe_Fitri Ramadhania_202255202021/gambar218.jpg\n",
            "[WARNING] Gambar tidak ditemukan: /content/DatasetMultilabe_Fitri Ramadhania_202255202021/gambar219.jpg\n",
            "[WARNING] Gambar tidak ditemukan: /content/DatasetMultilabe_Fitri Ramadhania_202255202021/gambar220.jpg\n",
            "[WARNING] Gambar tidak ditemukan: /content/DatasetMultilabe_Fitri Ramadhania_202255202021/gambar221.jpg\n",
            "[WARNING] Gambar tidak ditemukan: /content/DatasetMultilabe_Fitri Ramadhania_202255202021/gambar222.jpg\n",
            "[WARNING] Gambar tidak ditemukan: /content/DatasetMultilabe_Fitri Ramadhania_202255202021/gambar223.jpg\n",
            "[WARNING] Gambar tidak ditemukan: /content/DatasetMultilabe_Fitri Ramadhania_202255202021/gambar224.jpg\n",
            "[WARNING] Gambar tidak ditemukan: /content/DatasetMultilabe_Fitri Ramadhania_202255202021/gambar225.jpg\n",
            "[WARNING] Gambar tidak ditemukan: /content/DatasetMultilabe_Fitri Ramadhania_202255202021/gambar226.jpg\n",
            "[WARNING] Gambar tidak ditemukan: /content/DatasetMultilabe_Fitri Ramadhania_202255202021/gambar227.jpg\n",
            "[WARNING] Gambar tidak ditemukan: /content/DatasetMultilabe_Fitri Ramadhania_202255202021/gambar228.jpg\n",
            "[WARNING] Gambar tidak ditemukan: /content/DatasetMultilabe_Fitri Ramadhania_202255202021/gambar229.jpg\n",
            "[WARNING] Gambar tidak ditemukan: /content/DatasetMultilabe_Fitri Ramadhania_202255202021/gambar230.jpg\n",
            "[WARNING] Gambar tidak ditemukan: /content/DatasetMultilabe_Fitri Ramadhania_202255202021/gambar231.jpg\n",
            "[WARNING] Gambar tidak ditemukan: /content/DatasetMultilabe_Fitri Ramadhania_202255202021/gambar232.jpg\n",
            "[WARNING] Gambar tidak ditemukan: /content/DatasetMultilabe_Fitri Ramadhania_202255202021/gambar233.jpg\n",
            "[WARNING] Gambar tidak ditemukan: /content/DatasetMultilabe_Fitri Ramadhania_202255202021/gambar234.jpg\n",
            "[WARNING] Gambar tidak ditemukan: /content/DatasetMultilabe_Fitri Ramadhania_202255202021/gambar235.jpg\n",
            "[WARNING] Gambar tidak ditemukan: /content/DatasetMultilabe_Fitri Ramadhania_202255202021/gambar236.jpg\n",
            "[WARNING] Gambar tidak ditemukan: /content/DatasetMultilabe_Fitri Ramadhania_202255202021/gambar237.jpg\n",
            "[WARNING] Gambar tidak ditemukan: /content/DatasetMultilabe_Fitri Ramadhania_202255202021/gambar238.jpg\n",
            "[WARNING] Gambar tidak ditemukan: /content/DatasetMultilabe_Fitri Ramadhania_202255202021/gambar239.jpg\n",
            "[WARNING] Gambar tidak ditemukan: /content/DatasetMultilabe_Fitri Ramadhania_202255202021/gambar240.jpg\n",
            "[WARNING] Gambar tidak ditemukan: /content/DatasetMultilabe_Fitri Ramadhania_202255202021/gambar241.jpg\n",
            "[WARNING] Gambar tidak ditemukan: /content/DatasetMultilabe_Fitri Ramadhania_202255202021/gambar242.jpg\n",
            "[WARNING] Gambar tidak ditemukan: /content/DatasetMultilabe_Fitri Ramadhania_202255202021/gambar243.jpg\n",
            "[WARNING] Gambar tidak ditemukan: /content/DatasetMultilabe_Fitri Ramadhania_202255202021/gambar244.jpg\n",
            "[WARNING] Gambar tidak ditemukan: /content/DatasetMultilabe_Fitri Ramadhania_202255202021/gambar245.jpg\n",
            "[WARNING] Gambar tidak ditemukan: /content/DatasetMultilabe_Fitri Ramadhania_202255202021/gambar246.jpg\n",
            "[WARNING] Gambar tidak ditemukan: /content/DatasetMultilabe_Fitri Ramadhania_202255202021/gambar247.jpg\n",
            "[WARNING] Gambar tidak ditemukan: /content/DatasetMultilabe_Fitri Ramadhania_202255202021/gambar248.jpg\n",
            "[WARNING] Gambar tidak ditemukan: /content/DatasetMultilabe_Fitri Ramadhania_202255202021/gambar249.jpg\n",
            "[WARNING] Gambar tidak ditemukan: /content/DatasetMultilabe_Fitri Ramadhania_202255202021/gambar250.jpg\n",
            "[WARNING] Gambar tidak ditemukan: /content/DatasetMultilabe_Fitri Ramadhania_202255202021/gambar251.jpg\n",
            "[WARNING] Gambar tidak ditemukan: /content/DatasetMultilabe_Fitri Ramadhania_202255202021/gambar252.jpg\n",
            "[WARNING] Gambar tidak ditemukan: /content/DatasetMultilabe_Fitri Ramadhania_202255202021/gambar253.jpg\n",
            "[WARNING] Gambar tidak ditemukan: /content/DatasetMultilabe_Fitri Ramadhania_202255202021/gambar254.jpg\n",
            "[WARNING] Gambar tidak ditemukan: /content/DatasetMultilabe_Fitri Ramadhania_202255202021/gambar255.jpg\n",
            "[WARNING] Gambar tidak ditemukan: /content/DatasetMultilabe_Fitri Ramadhania_202255202021/gambar256.jpg\n",
            "[WARNING] Gambar tidak ditemukan: /content/DatasetMultilabe_Fitri Ramadhania_202255202021/gambar257.jpg\n",
            "[WARNING] Gambar tidak ditemukan: /content/DatasetMultilabe_Fitri Ramadhania_202255202021/gambar258.jpg\n",
            "[WARNING] Gambar tidak ditemukan: /content/DatasetMultilabe_Fitri Ramadhania_202255202021/gambar259.jpg\n",
            "[WARNING] Gambar tidak ditemukan: /content/DatasetMultilabe_Fitri Ramadhania_202255202021/gambar260.jpg\n",
            "[WARNING] Gambar tidak ditemukan: /content/DatasetMultilabe_Fitri Ramadhania_202255202021/gambar261.jpg\n",
            "[WARNING] Gambar tidak ditemukan: /content/DatasetMultilabe_Fitri Ramadhania_202255202021/gambar262.jpg\n",
            "[WARNING] Gambar tidak ditemukan: /content/DatasetMultilabe_Fitri Ramadhania_202255202021/gambar263.jpg\n",
            "[WARNING] Gambar tidak ditemukan: /content/DatasetMultilabe_Fitri Ramadhania_202255202021/gambar264.jpg\n",
            "[WARNING] Gambar tidak ditemukan: /content/DatasetMultilabe_Fitri Ramadhania_202255202021/gambar265.jpg\n",
            "[WARNING] Gambar tidak ditemukan: /content/DatasetMultilabe_Fitri Ramadhania_202255202021/gambar266.jpg\n",
            "[WARNING] Gambar tidak ditemukan: /content/DatasetMultilabe_Fitri Ramadhania_202255202021/gambar267.jpg\n",
            "[WARNING] Gambar tidak ditemukan: /content/DatasetMultilabe_Fitri Ramadhania_202255202021/gambar268.jpg\n",
            "[WARNING] Gambar tidak ditemukan: /content/DatasetMultilabe_Fitri Ramadhania_202255202021/gambar269.jpg\n",
            "[WARNING] Gambar tidak ditemukan: /content/DatasetMultilabe_Fitri Ramadhania_202255202021/gambar270.jpg\n",
            "[WARNING] Gambar tidak ditemukan: /content/DatasetMultilabe_Fitri Ramadhania_202255202021/gambar271.jpg\n",
            "[WARNING] Gambar tidak ditemukan: /content/DatasetMultilabe_Fitri Ramadhania_202255202021/gambar272.jpg\n",
            "[WARNING] Gambar tidak ditemukan: /content/DatasetMultilabe_Fitri Ramadhania_202255202021/gambar273.jpg\n",
            "[WARNING] Gambar tidak ditemukan: /content/DatasetMultilabe_Fitri Ramadhania_202255202021/gambar274.jpg\n",
            "[WARNING] Gambar tidak ditemukan: /content/DatasetMultilabe_Fitri Ramadhania_202255202021/gambar275.jpg\n",
            "[WARNING] Gambar tidak ditemukan: /content/DatasetMultilabe_Fitri Ramadhania_202255202021/gambar276.jpg\n",
            "[WARNING] Gambar tidak ditemukan: /content/DatasetMultilabe_Fitri Ramadhania_202255202021/gambar277.jpg\n",
            "[WARNING] Gambar tidak ditemukan: /content/DatasetMultilabe_Fitri Ramadhania_202255202021/gambar278.jpg\n",
            "[WARNING] Gambar tidak ditemukan: /content/DatasetMultilabe_Fitri Ramadhania_202255202021/gambar279.jpg\n",
            "[WARNING] Gambar tidak ditemukan: /content/DatasetMultilabe_Fitri Ramadhania_202255202021/gambar280.jpg\n",
            "[WARNING] Gambar tidak ditemukan: /content/DatasetMultilabe_Fitri Ramadhania_202255202021/gambar281.jpg\n",
            "[WARNING] Gambar tidak ditemukan: /content/DatasetMultilabe_Fitri Ramadhania_202255202021/gambar282.jpg\n",
            "[WARNING] Gambar tidak ditemukan: /content/DatasetMultilabe_Fitri Ramadhania_202255202021/gambar283.jpg\n",
            "[WARNING] Gambar tidak ditemukan: /content/DatasetMultilabe_Fitri Ramadhania_202255202021/gambar284.jpg\n",
            "[WARNING] Gambar tidak ditemukan: /content/DatasetMultilabe_Fitri Ramadhania_202255202021/gambar285.jpg\n",
            "[WARNING] Gambar tidak ditemukan: /content/DatasetMultilabe_Fitri Ramadhania_202255202021/gambar286.jpg\n",
            "[WARNING] Gambar tidak ditemukan: /content/DatasetMultilabe_Fitri Ramadhania_202255202021/gambar287.jpg\n",
            "[WARNING] Gambar tidak ditemukan: /content/DatasetMultilabe_Fitri Ramadhania_202255202021/gambar288.jpg\n",
            "[WARNING] Gambar tidak ditemukan: /content/DatasetMultilabe_Fitri Ramadhania_202255202021/gambar289.jpg\n",
            "[WARNING] Gambar tidak ditemukan: /content/DatasetMultilabe_Fitri Ramadhania_202255202021/gambar290.jpg\n",
            "[WARNING] Gambar tidak ditemukan: /content/DatasetMultilabe_Fitri Ramadhania_202255202021/gambar291.jpg\n",
            "[WARNING] Gambar tidak ditemukan: /content/DatasetMultilabe_Fitri Ramadhania_202255202021/gambar292.jpg\n",
            "[WARNING] Gambar tidak ditemukan: /content/DatasetMultilabe_Fitri Ramadhania_202255202021/gambar293.jpg\n",
            "[WARNING] Gambar tidak ditemukan: /content/DatasetMultilabe_Fitri Ramadhania_202255202021/gambar294.jpg\n",
            "[WARNING] Gambar tidak ditemukan: /content/DatasetMultilabe_Fitri Ramadhania_202255202021/gambar295.jpg\n",
            "[WARNING] Gambar tidak ditemukan: /content/DatasetMultilabe_Fitri Ramadhania_202255202021/gambar296.jpg\n",
            "[WARNING] Gambar tidak ditemukan: /content/DatasetMultilabe_Fitri Ramadhania_202255202021/gambar297.jpg\n",
            "[WARNING] Gambar tidak ditemukan: /content/DatasetMultilabe_Fitri Ramadhania_202255202021/gambar298.jpg\n",
            "[WARNING] Gambar tidak ditemukan: /content/DatasetMultilabe_Fitri Ramadhania_202255202021/gambar299.jpg\n",
            "[WARNING] Gambar tidak ditemukan: /content/DatasetMultilabe_Fitri Ramadhania_202255202021/gambar300.jpg\n"
          ]
        },
        {
          "output_type": "stream",
          "name": "stderr",
          "text": [
            "\n"
          ]
        }
      ]
    },
    {
      "cell_type": "code",
      "source": [
        "# Konversi jadi array NumPy\n",
        "X = np.array(X_dataset)\n"
      ],
      "metadata": {
        "id": "2VUaD9BltCai"
      },
      "execution_count": 26,
      "outputs": []
    },
    {
      "cell_type": "code",
      "source": [
        "# Ambil semua label unik dari kolom 'jenis sunscreen'\n",
        "all_labels = set()\n",
        "for labels_str in df['jenis sunscreen']:\n",
        "    labels = [label.strip() for label in labels_str.split(',')]\n",
        "    all_labels.update(labels)\n"
      ],
      "metadata": {
        "id": "sSiVFiNNrwXM"
      },
      "execution_count": 28,
      "outputs": []
    },
    {
      "cell_type": "code",
      "source": [
        "# Tampilkan jumlah label unik\n",
        "num_unique_labels = len(all_labels)\n",
        "print(f\"Jumlah label unik yang ditemukan: {num_unique_labels}\")\n"
      ],
      "metadata": {
        "colab": {
          "base_uri": "https://localhost:8080/"
        },
        "id": "Xpu3Xgo4r2Qc",
        "outputId": "283c78e0-5671-4d5b-9a92-6b670d58b96e"
      },
      "execution_count": 29,
      "outputs": [
        {
          "output_type": "stream",
          "name": "stdout",
          "text": [
            "Jumlah label unik yang ditemukan: 4\n"
          ]
        }
      ]
    },
    {
      "cell_type": "code",
      "source": [
        "# %%\n",
        "from sklearn.model_selection import train_test_split\n",
        "import numpy as np\n"
      ],
      "metadata": {
        "id": "hYSecrLgtQ-q"
      },
      "execution_count": 30,
      "outputs": []
    },
    {
      "cell_type": "code",
      "source": [
        "# Pastikan kolom 'Id' dan 'jenis sunscreen' ada di DataFrame sebelum di-drop\n",
        "drop_cols = ['Id', 'jenis sunscreen']\n",
        "for col in drop_cols:\n",
        "    if col not in df.columns:\n",
        "        raise ValueError(f\"Kolom '{col}' tidak ditemukan di DataFrame!\")\n"
      ],
      "metadata": {
        "id": "0WMmc98htWfQ"
      },
      "execution_count": 31,
      "outputs": []
    },
    {
      "cell_type": "code",
      "source": [
        "# %%\n",
        "# Ambil label multilabel (yang akan diprediksi)\n",
        "y = df.drop(columns=drop_cols).values  # bentuknya array 2D\n"
      ],
      "metadata": {
        "id": "muWiCVb5tdXo"
      },
      "execution_count": 32,
      "outputs": []
    },
    {
      "cell_type": "code",
      "source": [
        "# %%\n",
        "model = Sequential()\n",
        "\n",
        "model.add(Conv2D(filters=16, kernel_size=(5, 5), activation=\"relu\", input_shape=(SIZE,SIZE,3)))\n",
        "model.add(BatchNormalization())\n",
        "model.add(MaxPooling2D(pool_size=(2, 2)))\n",
        "model.add(Dropout(0.2))\n",
        "\n",
        "model.add(Conv2D(filters=32, kernel_size=(5, 5), activation='relu'))\n",
        "model.add(MaxPooling2D(pool_size=(2, 2)))\n",
        "model.add(BatchNormalization())\n",
        "model.add(Dropout(0.2))\n",
        "\n",
        "model.add(Conv2D(filters=64, kernel_size=(5, 5), activation=\"relu\"))\n",
        "model.add(MaxPooling2D(pool_size=(2, 2)))\n",
        "model.add(BatchNormalization())\n",
        "model.add(Dropout(0.2))\n",
        "\n",
        "model.add(Conv2D(filters=64, kernel_size=(5, 5), activation='relu'))\n",
        "model.add(MaxPooling2D(pool_size=(2, 2)))\n",
        "model.add(BatchNormalization())\n",
        "model.add(Dropout(0.2))\n",
        "\n",
        "model.add(Flatten())\n",
        "model.add(Dense(128, activation='relu'))\n",
        "model.add(Dropout(0.5))\n",
        "model.add(Dense(64, activation='relu'))\n",
        "model.add(Dropout(0.5))\n",
        "model.add(Dense(25, activation='sigmoid'))\n"
      ],
      "metadata": {
        "colab": {
          "base_uri": "https://localhost:8080/"
        },
        "id": "YhmqI6hAtijV",
        "outputId": "3d0ab863-b18c-48f2-d3d9-86d049abac38"
      },
      "execution_count": 33,
      "outputs": [
        {
          "output_type": "stream",
          "name": "stderr",
          "text": [
            "/usr/local/lib/python3.11/dist-packages/keras/src/layers/convolutional/base_conv.py:107: UserWarning: Do not pass an `input_shape`/`input_dim` argument to a layer. When using Sequential models, prefer using an `Input(shape)` object as the first layer in the model instead.\n",
            "  super().__init__(activity_regularizer=activity_regularizer, **kwargs)\n"
          ]
        }
      ]
    },
    {
      "cell_type": "code",
      "source": [
        "#Do not use softmax for multilabel classification\n",
        "#Softmax is useful for mutually exclusive classes, either cat or dog but not both.\n",
        "#Also, softmax outputs all add to 1. So good for multi class problems where each\n",
        "#class is given a probability and all add to 1. Highest one wins.\n",
        "\n",
        "#Sigmoid outputs probability. Can be used for non-mutually exclusive problems.\n",
        "#like multi label, in this example.\n",
        "#But, also good for binary mutually exclusive (cat or not cat).\n",
        "\n",
        "model.summary()"
      ],
      "metadata": {
        "colab": {
          "base_uri": "https://localhost:8080/",
          "height": 970
        },
        "id": "ySO4JbFltnm9",
        "outputId": "afbbf160-e9f1-499b-c935-41edbcfbef86"
      },
      "execution_count": 34,
      "outputs": [
        {
          "output_type": "display_data",
          "data": {
            "text/plain": [
              "\u001b[1mModel: \"sequential_1\"\u001b[0m\n"
            ],
            "text/html": [
              "<pre style=\"white-space:pre;overflow-x:auto;line-height:normal;font-family:Menlo,'DejaVu Sans Mono',consolas,'Courier New',monospace\"><span style=\"font-weight: bold\">Model: \"sequential_1\"</span>\n",
              "</pre>\n"
            ]
          },
          "metadata": {}
        },
        {
          "output_type": "display_data",
          "data": {
            "text/plain": [
              "┏━━━━━━━━━━━━━━━━━━━━━━━━━━━━━━━━━┳━━━━━━━━━━━━━━━━━━━━━━━━┳━━━━━━━━━━━━━━━┓\n",
              "┃\u001b[1m \u001b[0m\u001b[1mLayer (type)                   \u001b[0m\u001b[1m \u001b[0m┃\u001b[1m \u001b[0m\u001b[1mOutput Shape          \u001b[0m\u001b[1m \u001b[0m┃\u001b[1m \u001b[0m\u001b[1m      Param #\u001b[0m\u001b[1m \u001b[0m┃\n",
              "┡━━━━━━━━━━━━━━━━━━━━━━━━━━━━━━━━━╇━━━━━━━━━━━━━━━━━━━━━━━━╇━━━━━━━━━━━━━━━┩\n",
              "│ conv2d_4 (\u001b[38;5;33mConv2D\u001b[0m)               │ (\u001b[38;5;45mNone\u001b[0m, \u001b[38;5;34m196\u001b[0m, \u001b[38;5;34m196\u001b[0m, \u001b[38;5;34m16\u001b[0m)   │         \u001b[38;5;34m1,216\u001b[0m │\n",
              "├─────────────────────────────────┼────────────────────────┼───────────────┤\n",
              "│ batch_normalization_4           │ (\u001b[38;5;45mNone\u001b[0m, \u001b[38;5;34m196\u001b[0m, \u001b[38;5;34m196\u001b[0m, \u001b[38;5;34m16\u001b[0m)   │            \u001b[38;5;34m64\u001b[0m │\n",
              "│ (\u001b[38;5;33mBatchNormalization\u001b[0m)            │                        │               │\n",
              "├─────────────────────────────────┼────────────────────────┼───────────────┤\n",
              "│ max_pooling2d_4 (\u001b[38;5;33mMaxPooling2D\u001b[0m)  │ (\u001b[38;5;45mNone\u001b[0m, \u001b[38;5;34m98\u001b[0m, \u001b[38;5;34m98\u001b[0m, \u001b[38;5;34m16\u001b[0m)     │             \u001b[38;5;34m0\u001b[0m │\n",
              "├─────────────────────────────────┼────────────────────────┼───────────────┤\n",
              "│ dropout_6 (\u001b[38;5;33mDropout\u001b[0m)             │ (\u001b[38;5;45mNone\u001b[0m, \u001b[38;5;34m98\u001b[0m, \u001b[38;5;34m98\u001b[0m, \u001b[38;5;34m16\u001b[0m)     │             \u001b[38;5;34m0\u001b[0m │\n",
              "├─────────────────────────────────┼────────────────────────┼───────────────┤\n",
              "│ conv2d_5 (\u001b[38;5;33mConv2D\u001b[0m)               │ (\u001b[38;5;45mNone\u001b[0m, \u001b[38;5;34m94\u001b[0m, \u001b[38;5;34m94\u001b[0m, \u001b[38;5;34m32\u001b[0m)     │        \u001b[38;5;34m12,832\u001b[0m │\n",
              "├─────────────────────────────────┼────────────────────────┼───────────────┤\n",
              "│ max_pooling2d_5 (\u001b[38;5;33mMaxPooling2D\u001b[0m)  │ (\u001b[38;5;45mNone\u001b[0m, \u001b[38;5;34m47\u001b[0m, \u001b[38;5;34m47\u001b[0m, \u001b[38;5;34m32\u001b[0m)     │             \u001b[38;5;34m0\u001b[0m │\n",
              "├─────────────────────────────────┼────────────────────────┼───────────────┤\n",
              "│ batch_normalization_5           │ (\u001b[38;5;45mNone\u001b[0m, \u001b[38;5;34m47\u001b[0m, \u001b[38;5;34m47\u001b[0m, \u001b[38;5;34m32\u001b[0m)     │           \u001b[38;5;34m128\u001b[0m │\n",
              "│ (\u001b[38;5;33mBatchNormalization\u001b[0m)            │                        │               │\n",
              "├─────────────────────────────────┼────────────────────────┼───────────────┤\n",
              "│ dropout_7 (\u001b[38;5;33mDropout\u001b[0m)             │ (\u001b[38;5;45mNone\u001b[0m, \u001b[38;5;34m47\u001b[0m, \u001b[38;5;34m47\u001b[0m, \u001b[38;5;34m32\u001b[0m)     │             \u001b[38;5;34m0\u001b[0m │\n",
              "├─────────────────────────────────┼────────────────────────┼───────────────┤\n",
              "│ conv2d_6 (\u001b[38;5;33mConv2D\u001b[0m)               │ (\u001b[38;5;45mNone\u001b[0m, \u001b[38;5;34m43\u001b[0m, \u001b[38;5;34m43\u001b[0m, \u001b[38;5;34m64\u001b[0m)     │        \u001b[38;5;34m51,264\u001b[0m │\n",
              "├─────────────────────────────────┼────────────────────────┼───────────────┤\n",
              "│ max_pooling2d_6 (\u001b[38;5;33mMaxPooling2D\u001b[0m)  │ (\u001b[38;5;45mNone\u001b[0m, \u001b[38;5;34m21\u001b[0m, \u001b[38;5;34m21\u001b[0m, \u001b[38;5;34m64\u001b[0m)     │             \u001b[38;5;34m0\u001b[0m │\n",
              "├─────────────────────────────────┼────────────────────────┼───────────────┤\n",
              "│ batch_normalization_6           │ (\u001b[38;5;45mNone\u001b[0m, \u001b[38;5;34m21\u001b[0m, \u001b[38;5;34m21\u001b[0m, \u001b[38;5;34m64\u001b[0m)     │           \u001b[38;5;34m256\u001b[0m │\n",
              "│ (\u001b[38;5;33mBatchNormalization\u001b[0m)            │                        │               │\n",
              "├─────────────────────────────────┼────────────────────────┼───────────────┤\n",
              "│ dropout_8 (\u001b[38;5;33mDropout\u001b[0m)             │ (\u001b[38;5;45mNone\u001b[0m, \u001b[38;5;34m21\u001b[0m, \u001b[38;5;34m21\u001b[0m, \u001b[38;5;34m64\u001b[0m)     │             \u001b[38;5;34m0\u001b[0m │\n",
              "├─────────────────────────────────┼────────────────────────┼───────────────┤\n",
              "│ conv2d_7 (\u001b[38;5;33mConv2D\u001b[0m)               │ (\u001b[38;5;45mNone\u001b[0m, \u001b[38;5;34m17\u001b[0m, \u001b[38;5;34m17\u001b[0m, \u001b[38;5;34m64\u001b[0m)     │       \u001b[38;5;34m102,464\u001b[0m │\n",
              "├─────────────────────────────────┼────────────────────────┼───────────────┤\n",
              "│ max_pooling2d_7 (\u001b[38;5;33mMaxPooling2D\u001b[0m)  │ (\u001b[38;5;45mNone\u001b[0m, \u001b[38;5;34m8\u001b[0m, \u001b[38;5;34m8\u001b[0m, \u001b[38;5;34m64\u001b[0m)       │             \u001b[38;5;34m0\u001b[0m │\n",
              "├─────────────────────────────────┼────────────────────────┼───────────────┤\n",
              "│ batch_normalization_7           │ (\u001b[38;5;45mNone\u001b[0m, \u001b[38;5;34m8\u001b[0m, \u001b[38;5;34m8\u001b[0m, \u001b[38;5;34m64\u001b[0m)       │           \u001b[38;5;34m256\u001b[0m │\n",
              "│ (\u001b[38;5;33mBatchNormalization\u001b[0m)            │                        │               │\n",
              "├─────────────────────────────────┼────────────────────────┼───────────────┤\n",
              "│ dropout_9 (\u001b[38;5;33mDropout\u001b[0m)             │ (\u001b[38;5;45mNone\u001b[0m, \u001b[38;5;34m8\u001b[0m, \u001b[38;5;34m8\u001b[0m, \u001b[38;5;34m64\u001b[0m)       │             \u001b[38;5;34m0\u001b[0m │\n",
              "├─────────────────────────────────┼────────────────────────┼───────────────┤\n",
              "│ flatten_1 (\u001b[38;5;33mFlatten\u001b[0m)             │ (\u001b[38;5;45mNone\u001b[0m, \u001b[38;5;34m4096\u001b[0m)           │             \u001b[38;5;34m0\u001b[0m │\n",
              "├─────────────────────────────────┼────────────────────────┼───────────────┤\n",
              "│ dense_3 (\u001b[38;5;33mDense\u001b[0m)                 │ (\u001b[38;5;45mNone\u001b[0m, \u001b[38;5;34m128\u001b[0m)            │       \u001b[38;5;34m524,416\u001b[0m │\n",
              "├─────────────────────────────────┼────────────────────────┼───────────────┤\n",
              "│ dropout_10 (\u001b[38;5;33mDropout\u001b[0m)            │ (\u001b[38;5;45mNone\u001b[0m, \u001b[38;5;34m128\u001b[0m)            │             \u001b[38;5;34m0\u001b[0m │\n",
              "├─────────────────────────────────┼────────────────────────┼───────────────┤\n",
              "│ dense_4 (\u001b[38;5;33mDense\u001b[0m)                 │ (\u001b[38;5;45mNone\u001b[0m, \u001b[38;5;34m64\u001b[0m)             │         \u001b[38;5;34m8,256\u001b[0m │\n",
              "├─────────────────────────────────┼────────────────────────┼───────────────┤\n",
              "│ dropout_11 (\u001b[38;5;33mDropout\u001b[0m)            │ (\u001b[38;5;45mNone\u001b[0m, \u001b[38;5;34m64\u001b[0m)             │             \u001b[38;5;34m0\u001b[0m │\n",
              "├─────────────────────────────────┼────────────────────────┼───────────────┤\n",
              "│ dense_5 (\u001b[38;5;33mDense\u001b[0m)                 │ (\u001b[38;5;45mNone\u001b[0m, \u001b[38;5;34m25\u001b[0m)             │         \u001b[38;5;34m1,625\u001b[0m │\n",
              "└─────────────────────────────────┴────────────────────────┴───────────────┘\n"
            ],
            "text/html": [
              "<pre style=\"white-space:pre;overflow-x:auto;line-height:normal;font-family:Menlo,'DejaVu Sans Mono',consolas,'Courier New',monospace\">┏━━━━━━━━━━━━━━━━━━━━━━━━━━━━━━━━━┳━━━━━━━━━━━━━━━━━━━━━━━━┳━━━━━━━━━━━━━━━┓\n",
              "┃<span style=\"font-weight: bold\"> Layer (type)                    </span>┃<span style=\"font-weight: bold\"> Output Shape           </span>┃<span style=\"font-weight: bold\">       Param # </span>┃\n",
              "┡━━━━━━━━━━━━━━━━━━━━━━━━━━━━━━━━━╇━━━━━━━━━━━━━━━━━━━━━━━━╇━━━━━━━━━━━━━━━┩\n",
              "│ conv2d_4 (<span style=\"color: #0087ff; text-decoration-color: #0087ff\">Conv2D</span>)               │ (<span style=\"color: #00d7ff; text-decoration-color: #00d7ff\">None</span>, <span style=\"color: #00af00; text-decoration-color: #00af00\">196</span>, <span style=\"color: #00af00; text-decoration-color: #00af00\">196</span>, <span style=\"color: #00af00; text-decoration-color: #00af00\">16</span>)   │         <span style=\"color: #00af00; text-decoration-color: #00af00\">1,216</span> │\n",
              "├─────────────────────────────────┼────────────────────────┼───────────────┤\n",
              "│ batch_normalization_4           │ (<span style=\"color: #00d7ff; text-decoration-color: #00d7ff\">None</span>, <span style=\"color: #00af00; text-decoration-color: #00af00\">196</span>, <span style=\"color: #00af00; text-decoration-color: #00af00\">196</span>, <span style=\"color: #00af00; text-decoration-color: #00af00\">16</span>)   │            <span style=\"color: #00af00; text-decoration-color: #00af00\">64</span> │\n",
              "│ (<span style=\"color: #0087ff; text-decoration-color: #0087ff\">BatchNormalization</span>)            │                        │               │\n",
              "├─────────────────────────────────┼────────────────────────┼───────────────┤\n",
              "│ max_pooling2d_4 (<span style=\"color: #0087ff; text-decoration-color: #0087ff\">MaxPooling2D</span>)  │ (<span style=\"color: #00d7ff; text-decoration-color: #00d7ff\">None</span>, <span style=\"color: #00af00; text-decoration-color: #00af00\">98</span>, <span style=\"color: #00af00; text-decoration-color: #00af00\">98</span>, <span style=\"color: #00af00; text-decoration-color: #00af00\">16</span>)     │             <span style=\"color: #00af00; text-decoration-color: #00af00\">0</span> │\n",
              "├─────────────────────────────────┼────────────────────────┼───────────────┤\n",
              "│ dropout_6 (<span style=\"color: #0087ff; text-decoration-color: #0087ff\">Dropout</span>)             │ (<span style=\"color: #00d7ff; text-decoration-color: #00d7ff\">None</span>, <span style=\"color: #00af00; text-decoration-color: #00af00\">98</span>, <span style=\"color: #00af00; text-decoration-color: #00af00\">98</span>, <span style=\"color: #00af00; text-decoration-color: #00af00\">16</span>)     │             <span style=\"color: #00af00; text-decoration-color: #00af00\">0</span> │\n",
              "├─────────────────────────────────┼────────────────────────┼───────────────┤\n",
              "│ conv2d_5 (<span style=\"color: #0087ff; text-decoration-color: #0087ff\">Conv2D</span>)               │ (<span style=\"color: #00d7ff; text-decoration-color: #00d7ff\">None</span>, <span style=\"color: #00af00; text-decoration-color: #00af00\">94</span>, <span style=\"color: #00af00; text-decoration-color: #00af00\">94</span>, <span style=\"color: #00af00; text-decoration-color: #00af00\">32</span>)     │        <span style=\"color: #00af00; text-decoration-color: #00af00\">12,832</span> │\n",
              "├─────────────────────────────────┼────────────────────────┼───────────────┤\n",
              "│ max_pooling2d_5 (<span style=\"color: #0087ff; text-decoration-color: #0087ff\">MaxPooling2D</span>)  │ (<span style=\"color: #00d7ff; text-decoration-color: #00d7ff\">None</span>, <span style=\"color: #00af00; text-decoration-color: #00af00\">47</span>, <span style=\"color: #00af00; text-decoration-color: #00af00\">47</span>, <span style=\"color: #00af00; text-decoration-color: #00af00\">32</span>)     │             <span style=\"color: #00af00; text-decoration-color: #00af00\">0</span> │\n",
              "├─────────────────────────────────┼────────────────────────┼───────────────┤\n",
              "│ batch_normalization_5           │ (<span style=\"color: #00d7ff; text-decoration-color: #00d7ff\">None</span>, <span style=\"color: #00af00; text-decoration-color: #00af00\">47</span>, <span style=\"color: #00af00; text-decoration-color: #00af00\">47</span>, <span style=\"color: #00af00; text-decoration-color: #00af00\">32</span>)     │           <span style=\"color: #00af00; text-decoration-color: #00af00\">128</span> │\n",
              "│ (<span style=\"color: #0087ff; text-decoration-color: #0087ff\">BatchNormalization</span>)            │                        │               │\n",
              "├─────────────────────────────────┼────────────────────────┼───────────────┤\n",
              "│ dropout_7 (<span style=\"color: #0087ff; text-decoration-color: #0087ff\">Dropout</span>)             │ (<span style=\"color: #00d7ff; text-decoration-color: #00d7ff\">None</span>, <span style=\"color: #00af00; text-decoration-color: #00af00\">47</span>, <span style=\"color: #00af00; text-decoration-color: #00af00\">47</span>, <span style=\"color: #00af00; text-decoration-color: #00af00\">32</span>)     │             <span style=\"color: #00af00; text-decoration-color: #00af00\">0</span> │\n",
              "├─────────────────────────────────┼────────────────────────┼───────────────┤\n",
              "│ conv2d_6 (<span style=\"color: #0087ff; text-decoration-color: #0087ff\">Conv2D</span>)               │ (<span style=\"color: #00d7ff; text-decoration-color: #00d7ff\">None</span>, <span style=\"color: #00af00; text-decoration-color: #00af00\">43</span>, <span style=\"color: #00af00; text-decoration-color: #00af00\">43</span>, <span style=\"color: #00af00; text-decoration-color: #00af00\">64</span>)     │        <span style=\"color: #00af00; text-decoration-color: #00af00\">51,264</span> │\n",
              "├─────────────────────────────────┼────────────────────────┼───────────────┤\n",
              "│ max_pooling2d_6 (<span style=\"color: #0087ff; text-decoration-color: #0087ff\">MaxPooling2D</span>)  │ (<span style=\"color: #00d7ff; text-decoration-color: #00d7ff\">None</span>, <span style=\"color: #00af00; text-decoration-color: #00af00\">21</span>, <span style=\"color: #00af00; text-decoration-color: #00af00\">21</span>, <span style=\"color: #00af00; text-decoration-color: #00af00\">64</span>)     │             <span style=\"color: #00af00; text-decoration-color: #00af00\">0</span> │\n",
              "├─────────────────────────────────┼────────────────────────┼───────────────┤\n",
              "│ batch_normalization_6           │ (<span style=\"color: #00d7ff; text-decoration-color: #00d7ff\">None</span>, <span style=\"color: #00af00; text-decoration-color: #00af00\">21</span>, <span style=\"color: #00af00; text-decoration-color: #00af00\">21</span>, <span style=\"color: #00af00; text-decoration-color: #00af00\">64</span>)     │           <span style=\"color: #00af00; text-decoration-color: #00af00\">256</span> │\n",
              "│ (<span style=\"color: #0087ff; text-decoration-color: #0087ff\">BatchNormalization</span>)            │                        │               │\n",
              "├─────────────────────────────────┼────────────────────────┼───────────────┤\n",
              "│ dropout_8 (<span style=\"color: #0087ff; text-decoration-color: #0087ff\">Dropout</span>)             │ (<span style=\"color: #00d7ff; text-decoration-color: #00d7ff\">None</span>, <span style=\"color: #00af00; text-decoration-color: #00af00\">21</span>, <span style=\"color: #00af00; text-decoration-color: #00af00\">21</span>, <span style=\"color: #00af00; text-decoration-color: #00af00\">64</span>)     │             <span style=\"color: #00af00; text-decoration-color: #00af00\">0</span> │\n",
              "├─────────────────────────────────┼────────────────────────┼───────────────┤\n",
              "│ conv2d_7 (<span style=\"color: #0087ff; text-decoration-color: #0087ff\">Conv2D</span>)               │ (<span style=\"color: #00d7ff; text-decoration-color: #00d7ff\">None</span>, <span style=\"color: #00af00; text-decoration-color: #00af00\">17</span>, <span style=\"color: #00af00; text-decoration-color: #00af00\">17</span>, <span style=\"color: #00af00; text-decoration-color: #00af00\">64</span>)     │       <span style=\"color: #00af00; text-decoration-color: #00af00\">102,464</span> │\n",
              "├─────────────────────────────────┼────────────────────────┼───────────────┤\n",
              "│ max_pooling2d_7 (<span style=\"color: #0087ff; text-decoration-color: #0087ff\">MaxPooling2D</span>)  │ (<span style=\"color: #00d7ff; text-decoration-color: #00d7ff\">None</span>, <span style=\"color: #00af00; text-decoration-color: #00af00\">8</span>, <span style=\"color: #00af00; text-decoration-color: #00af00\">8</span>, <span style=\"color: #00af00; text-decoration-color: #00af00\">64</span>)       │             <span style=\"color: #00af00; text-decoration-color: #00af00\">0</span> │\n",
              "├─────────────────────────────────┼────────────────────────┼───────────────┤\n",
              "│ batch_normalization_7           │ (<span style=\"color: #00d7ff; text-decoration-color: #00d7ff\">None</span>, <span style=\"color: #00af00; text-decoration-color: #00af00\">8</span>, <span style=\"color: #00af00; text-decoration-color: #00af00\">8</span>, <span style=\"color: #00af00; text-decoration-color: #00af00\">64</span>)       │           <span style=\"color: #00af00; text-decoration-color: #00af00\">256</span> │\n",
              "│ (<span style=\"color: #0087ff; text-decoration-color: #0087ff\">BatchNormalization</span>)            │                        │               │\n",
              "├─────────────────────────────────┼────────────────────────┼───────────────┤\n",
              "│ dropout_9 (<span style=\"color: #0087ff; text-decoration-color: #0087ff\">Dropout</span>)             │ (<span style=\"color: #00d7ff; text-decoration-color: #00d7ff\">None</span>, <span style=\"color: #00af00; text-decoration-color: #00af00\">8</span>, <span style=\"color: #00af00; text-decoration-color: #00af00\">8</span>, <span style=\"color: #00af00; text-decoration-color: #00af00\">64</span>)       │             <span style=\"color: #00af00; text-decoration-color: #00af00\">0</span> │\n",
              "├─────────────────────────────────┼────────────────────────┼───────────────┤\n",
              "│ flatten_1 (<span style=\"color: #0087ff; text-decoration-color: #0087ff\">Flatten</span>)             │ (<span style=\"color: #00d7ff; text-decoration-color: #00d7ff\">None</span>, <span style=\"color: #00af00; text-decoration-color: #00af00\">4096</span>)           │             <span style=\"color: #00af00; text-decoration-color: #00af00\">0</span> │\n",
              "├─────────────────────────────────┼────────────────────────┼───────────────┤\n",
              "│ dense_3 (<span style=\"color: #0087ff; text-decoration-color: #0087ff\">Dense</span>)                 │ (<span style=\"color: #00d7ff; text-decoration-color: #00d7ff\">None</span>, <span style=\"color: #00af00; text-decoration-color: #00af00\">128</span>)            │       <span style=\"color: #00af00; text-decoration-color: #00af00\">524,416</span> │\n",
              "├─────────────────────────────────┼────────────────────────┼───────────────┤\n",
              "│ dropout_10 (<span style=\"color: #0087ff; text-decoration-color: #0087ff\">Dropout</span>)            │ (<span style=\"color: #00d7ff; text-decoration-color: #00d7ff\">None</span>, <span style=\"color: #00af00; text-decoration-color: #00af00\">128</span>)            │             <span style=\"color: #00af00; text-decoration-color: #00af00\">0</span> │\n",
              "├─────────────────────────────────┼────────────────────────┼───────────────┤\n",
              "│ dense_4 (<span style=\"color: #0087ff; text-decoration-color: #0087ff\">Dense</span>)                 │ (<span style=\"color: #00d7ff; text-decoration-color: #00d7ff\">None</span>, <span style=\"color: #00af00; text-decoration-color: #00af00\">64</span>)             │         <span style=\"color: #00af00; text-decoration-color: #00af00\">8,256</span> │\n",
              "├─────────────────────────────────┼────────────────────────┼───────────────┤\n",
              "│ dropout_11 (<span style=\"color: #0087ff; text-decoration-color: #0087ff\">Dropout</span>)            │ (<span style=\"color: #00d7ff; text-decoration-color: #00d7ff\">None</span>, <span style=\"color: #00af00; text-decoration-color: #00af00\">64</span>)             │             <span style=\"color: #00af00; text-decoration-color: #00af00\">0</span> │\n",
              "├─────────────────────────────────┼────────────────────────┼───────────────┤\n",
              "│ dense_5 (<span style=\"color: #0087ff; text-decoration-color: #0087ff\">Dense</span>)                 │ (<span style=\"color: #00d7ff; text-decoration-color: #00d7ff\">None</span>, <span style=\"color: #00af00; text-decoration-color: #00af00\">25</span>)             │         <span style=\"color: #00af00; text-decoration-color: #00af00\">1,625</span> │\n",
              "└─────────────────────────────────┴────────────────────────┴───────────────┘\n",
              "</pre>\n"
            ]
          },
          "metadata": {}
        },
        {
          "output_type": "display_data",
          "data": {
            "text/plain": [
              "\u001b[1m Total params: \u001b[0m\u001b[38;5;34m702,777\u001b[0m (2.68 MB)\n"
            ],
            "text/html": [
              "<pre style=\"white-space:pre;overflow-x:auto;line-height:normal;font-family:Menlo,'DejaVu Sans Mono',consolas,'Courier New',monospace\"><span style=\"font-weight: bold\"> Total params: </span><span style=\"color: #00af00; text-decoration-color: #00af00\">702,777</span> (2.68 MB)\n",
              "</pre>\n"
            ]
          },
          "metadata": {}
        },
        {
          "output_type": "display_data",
          "data": {
            "text/plain": [
              "\u001b[1m Trainable params: \u001b[0m\u001b[38;5;34m702,425\u001b[0m (2.68 MB)\n"
            ],
            "text/html": [
              "<pre style=\"white-space:pre;overflow-x:auto;line-height:normal;font-family:Menlo,'DejaVu Sans Mono',consolas,'Courier New',monospace\"><span style=\"font-weight: bold\"> Trainable params: </span><span style=\"color: #00af00; text-decoration-color: #00af00\">702,425</span> (2.68 MB)\n",
              "</pre>\n"
            ]
          },
          "metadata": {}
        },
        {
          "output_type": "display_data",
          "data": {
            "text/plain": [
              "\u001b[1m Non-trainable params: \u001b[0m\u001b[38;5;34m352\u001b[0m (1.38 KB)\n"
            ],
            "text/html": [
              "<pre style=\"white-space:pre;overflow-x:auto;line-height:normal;font-family:Menlo,'DejaVu Sans Mono',consolas,'Courier New',monospace\"><span style=\"font-weight: bold\"> Non-trainable params: </span><span style=\"color: #00af00; text-decoration-color: #00af00\">352</span> (1.38 KB)\n",
              "</pre>\n"
            ]
          },
          "metadata": {}
        }
      ]
    },
    {
      "cell_type": "code",
      "source": [
        "# %%\n",
        "#Binary cross entropy of each label. So no really a binary classification problem but\n",
        "#Calculating binary cross entropy for each label.\n",
        "model.compile(optimizer='adam', loss='binary_crossentropy', metrics=['accuracy'])\n"
      ],
      "metadata": {
        "id": "3YG3_NpetsTt"
      },
      "execution_count": 35,
      "outputs": []
    },
    {
      "cell_type": "code",
      "source": [
        "# %%\n",
        "# Kompilasi model\n",
        "import tensorflow as tf # Import tensorflow needed for optimizers\n",
        "\n",
        "model.compile(\n",
        "    optimizer=tf.keras.optimizers.Adam(learning_rate=1e-4),\n",
        "    loss='binary_crossentropy',        # Untuk multilabel classification\n",
        "    metrics=['accuracy']\n",
        ")"
      ],
      "metadata": {
        "id": "5bWXVSiet02X"
      },
      "execution_count": 36,
      "outputs": []
    },
    {
      "cell_type": "code",
      "source": [
        "# %%\n",
        "# Ambil semua label unik dari kolom 'jenis sunscreen'\n",
        "all_labels = set()\n",
        "for labels_str in df['jenis sunscreen']:\n",
        "    labels = [label.strip() for label in labels_str.split(',')]\n",
        "    all_labels.update(labels)\n"
      ],
      "metadata": {
        "id": "s4iGMrmgt5KV"
      },
      "execution_count": 37,
      "outputs": []
    },
    {
      "cell_type": "code",
      "source": [
        "# %%\n",
        "# Tampilkan jumlah label unik\n",
        "num_unique_labels = len(all_labels)\n",
        "print(f\"Jumlah label unik yang ditemukan: {num_unique_labels}\")\n"
      ],
      "metadata": {
        "colab": {
          "base_uri": "https://localhost:8080/"
        },
        "id": "ln43G3uFt9C_",
        "outputId": "eba7bf83-5fec-46f2-a567-e3dbddf17901"
      },
      "execution_count": 38,
      "outputs": [
        {
          "output_type": "stream",
          "name": "stdout",
          "text": [
            "Jumlah label unik yang ditemukan: 4\n"
          ]
        }
      ]
    },
    {
      "cell_type": "code",
      "source": [
        "# %%\n",
        "# Proses label ke format multilabel (multi-hot encoding)\n",
        "from sklearn.preprocessing import MultiLabelBinarizer # Import MultiLabelBinarizer\n",
        "\n",
        "mlb = MultiLabelBinarizer()\n",
        "df['label_list'] = df['jenis sunscreen'].apply(lambda x: [label.strip() for label in x.split(',')])\n",
        "y = mlb.fit_transform(df['label_list'])\n"
      ],
      "metadata": {
        "id": "iUOQBXL3uC-h"
      },
      "execution_count": 39,
      "outputs": []
    },
    {
      "cell_type": "code",
      "source": [
        "# %%\n",
        "#plot the training and validation accuracy and loss at each epoch\n",
        "# history variable is not defined in this context, assuming it will be defined by model training later\n",
        "# loss = history.history['loss']\n",
        "# val_loss = history.history['val_loss']\n",
        "# epochs = range(1, len(loss) + 1)\n",
        "# plt.plot(epochs, loss, 'y', label='Training loss')\n",
        "# plt.plot(epochs, val_loss, 'r', label='Validation loss')\n",
        "# plt.title('Training and validation loss')\n",
        "# plt.xlabel('Epochs')\n",
        "# plt.ylabel('Loss')\n",
        "# plt.legend()\n",
        "# plt.show()"
      ],
      "metadata": {
        "id": "DY1UMYRauvl3"
      },
      "execution_count": 40,
      "outputs": []
    },
    {
      "cell_type": "code",
      "source": [
        "# %%\n",
        "# acc = history.history['accuracy']\n",
        "# val_acc = history.history['val_accuracy']\n",
        "# plt.plot(epochs, acc, 'y', label='Training acc')\n",
        "# plt.plot(epochs, val_acc, 'r', label='Validation acc')\n",
        "# plt.title('Training and validation accuracy')\n",
        "# plt.xlabel('Epochs')\n",
        "# plt.ylabel('Accuracy')\n",
        "# plt.legend()\n",
        "# plt.show()"
      ],
      "metadata": {
        "id": "7EbucLUXu1rU"
      },
      "execution_count": 41,
      "outputs": []
    },
    {
      "cell_type": "code",
      "source": [
        "# %%\n",
        "###################################################\n",
        "\n",
        "# X_test and y_test are not defined in this context, assuming they will be defined by train_test_split later\n",
        "# _, acc = model.evaluate(X_test, y_test)\n",
        "# print(\"Accuracy = \", (acc * 100.0), \"%\")\n",
        "\n",
        "################################################################\n"
      ],
      "metadata": {
        "id": "0MdbFKvoFR04"
      },
      "execution_count": 45,
      "outputs": []
    },
    {
      "cell_type": "code",
      "source": [
        "# %%\n",
        "# prompt: berikan code evaluasi model\n",
        "\n",
        "from sklearn.metrics import classification_report, confusion_matrix\n",
        "from sklearn.model_selection import train_test_split # Ensure train_test_split is imported if not already\n"
      ],
      "metadata": {
        "id": "4yplh_nbFnAf"
      },
      "execution_count": 47,
      "outputs": []
    },
    {
      "cell_type": "code",
      "source": [
        "# Proses label ke format multilabel (multi-hot encoding)\n",
        "mlb = MultiLabelBinarizer()\n",
        "df['label_list'] = df['jenis sunscreen'].apply(lambda x: [label.strip() for label in x.split(',')])\n",
        "y = mlb.fit_transform(df['label_list'])\n"
      ],
      "metadata": {
        "id": "qU-jyBPjsGip"
      },
      "execution_count": 51,
      "outputs": []
    },
    {
      "cell_type": "code",
      "source": [
        "SIZE = 200  # Ukuran target gambar\n",
        "image_directory = '/content/DatasetMultilabe_Fitri Ramadhania_202255202021l'\n",
        "csv_path = '/content/TrainDataset_Fitri Ramadhania_202255202021.csv'  # Ubah sesuai nama file CSV kamu\n"
      ],
      "metadata": {
        "id": "rJ5d14q8JE8Y"
      },
      "execution_count": 58,
      "outputs": []
    },
    {
      "cell_type": "code",
      "source": [
        "df = pd.read_csv(csv_path)"
      ],
      "metadata": {
        "id": "2PZhI5XbJP7l"
      },
      "execution_count": 59,
      "outputs": []
    },
    {
      "cell_type": "code",
      "source": [
        "#plot the training and validation accuracy and loss at each epoch\n",
        "# Ensure 'history' variable is available after model training\n",
        "# For example, if you train the model like this:\n",
        "# history = model.fit(X_train, y_train, epochs=10, validation_data=(X_test, y_test))\n",
        "\n",
        "if 'history' in locals():\n",
        "    loss = history.history['loss']\n",
        "    val_loss = history.history['val_loss']\n",
        "    epochs = range(1, len(loss) + 1)\n",
        "    plt.plot(epochs, loss, 'y', label='Training loss')\n",
        "    plt.plot(epochs, val_loss, 'r', label='Validation loss')\n",
        "    plt.title('Training and validation loss')\n",
        "    plt.xlabel('Epochs')\n",
        "    plt.ylabel('Loss')\n",
        "    plt.legend()\n",
        "    plt.show()\n",
        "else:\n",
        "    print(\"Error: 'history' variable not found. Please train the model first.\")"
      ],
      "metadata": {
        "colab": {
          "base_uri": "https://localhost:8080/"
        },
        "id": "NMbccplMC_-J",
        "outputId": "c64dfb99-c976-4feb-a79e-d39d58cb042d"
      },
      "execution_count": 65,
      "outputs": [
        {
          "output_type": "stream",
          "name": "stdout",
          "text": [
            "Error: 'history' variable not found. Please train the model first.\n"
          ]
        }
      ]
    },
    {
      "cell_type": "code",
      "source": [
        "# plot the training and validation accuracy\n",
        "# Ensure 'history' variable is available after model training\n",
        "# Ensure 'epochs' variable is available (calculated from the length of loss/accuracy)\n",
        "if 'history' in locals():\n",
        "    acc = history.history['accuracy']\n",
        "    val_acc = history.history['val_accuracy']\n",
        "    # Re-calculate epochs just in case, though it should be the same as for loss\n",
        "    epochs = range(1, len(acc) + 1)\n",
        "    plt.plot(epochs, acc, 'y', label='Training acc')\n",
        "    plt.plot(epochs, val_acc, 'r', label='Validation acc')\n",
        "    plt.title('Training and validation accuracy')\n",
        "    plt.xlabel('Epochs')\n",
        "    plt.ylabel('Accuracy')\n",
        "    plt.legend()\n",
        "    plt.show()\n",
        "else:\n",
        "    print(\"Error: 'history' variable not found. Please train the model first.\")"
      ],
      "metadata": {
        "colab": {
          "base_uri": "https://localhost:8080/"
        },
        "id": "AkfOyewkDB9F",
        "outputId": "cf6f932b-e806-4e08-a7dd-63130fb3f040"
      },
      "execution_count": 67,
      "outputs": [
        {
          "output_type": "stream",
          "name": "stdout",
          "text": [
            "Error: 'history' variable not found. Please train the model first.\n"
          ]
        }
      ]
    },
    {
      "cell_type": "code",
      "source": [
        "#Validate on an image\n",
        "# Update image path to be within the extracted dataset directory\n",
        "# Replace 'YOUR_IMAGE_FILENAME.jpg' with an actual image filename from your dataset\n",
        "# You need to find a valid image file within the extracted dataset directory.\n",
        "# For example, you could try listing files in that directory to find one.\n",
        "# Example: !ls /content/DatasetMultilabe_Fitri Ramadhania_202255202021/\n",
        "# Once you find a filename, replace 'YOUR_IMAGE_FILENAME.jpg' with it.\n",
        "img_path_to_validate = '/content/DatasetMultilabe_Fitri Ramadhania_202255202021/YOUR_IMAGE_FILENAME.jpg' # <--- Ganti dengan nama file gambar yang sebenarnya\n",
        "\n",
        "try:\n",
        "    img = image.load_img(img_path_to_validate, target_size=(SIZE, SIZE))\n",
        "\n",
        "    img = image.img_to_array(img)\n",
        "    img = img/255.\n",
        "    plt.imshow(img)\n",
        "    plt.show() # Tampilkan gambar\n",
        "    img = np.expand_dims(img, axis=0)\n",
        "\n",
        "    # Ensure classes are correctly derived from the binarizer after fitting\n",
        "    # Assuming mlb (MultiLabelBinarizer) has been fitted earlier in the code\n",
        "    if 'mlb' in globals() and hasattr(mlb, 'classes_'):\n",
        "        classes = mlb.classes_\n",
        "        proba = model.predict(img)  #Get probabilities for each class\n",
        "        sorted_categories = np.argsort(proba[0])[:-11:-1]  #Get class names for top 10 categories\n",
        "\n",
        "        # Print classes and corresponding probabilities\n",
        "        print(\"Top 10 predicted categories:\")\n",
        "        for i in range(10):\n",
        "            print(\"{}\".format(classes[sorted_categories[i]])+\" ({:.3})\".format(proba[0][sorted_categories[i]]))\n",
        "    else:\n",
        "        print(\"Error: MultiLabelBinarizer (mlb) not fitted. Please run the cell to process labels first.\")\n",
        "\n",
        "except FileNotFoundError:\n",
        "    print(f\"Error: Image file not found at {img_path_to_validate}. Please ensure the path and filename are correct.\")\n",
        "except Exception as e:\n",
        "    print(f\"An error occurred: {e}\")"
      ],
      "metadata": {
        "colab": {
          "base_uri": "https://localhost:8080/"
        },
        "id": "p98oEw0rDCoK",
        "outputId": "05ebf104-aace-47fe-f18a-4800ab103903"
      },
      "execution_count": 69,
      "outputs": [
        {
          "output_type": "stream",
          "name": "stdout",
          "text": [
            "Error: Image file not found at /content/DatasetMultilabe_Fitri Ramadhania_202255202021/YOUR_IMAGE_FILENAME.jpg. Please ensure the path and filename are correct.\n"
          ]
        }
      ]
    },
    {
      "cell_type": "code",
      "source": [
        "#Print classes and corresponding probabilities\n",
        "# This block assumes that 'classes', 'sorted_categories', and 'proba'\n",
        "# were successfully generated in the previous cell block (Validate on an image).\n",
        "# It is good practice to include error handling or checks if this cell\n",
        "# can be run independently.\n",
        "\n",
        "# Check if the necessary variables exist before attempting to print\n",
        "if 'classes' in locals() and 'sorted_categories' in locals() and 'proba' in locals():\n",
        "    print(\"Top 10 predicted categories:\") # Add a header for clarity\n",
        "    for i in range(10):\n",
        "        print(\"{}\".format(classes[sorted_categories[i]])+\" ({:.3})\".format(proba[0][sorted_categories[i]]))\n",
        "else:\n",
        "    print(\"Error: Necessary variables (classes, sorted_categories, proba) not found. Please run the 'Validate on an image' cell first.\")"
      ],
      "metadata": {
        "colab": {
          "base_uri": "https://localhost:8080/"
        },
        "id": "WIl4cyolDGCX",
        "outputId": "b08adff4-34bf-4a13-9b6e-88627b6a0801"
      },
      "execution_count": 71,
      "outputs": [
        {
          "output_type": "stream",
          "name": "stdout",
          "text": [
            "Error: Necessary variables (classes, sorted_categories, proba) not found. Please run the 'Validate on an image' cell first.\n"
          ]
        }
      ]
    },
    {
      "cell_type": "code",
      "source": [
        "###################################################\n",
        "\n",
        "# X_test and y_test are not defined in this context, assuming they will be defined by train_test_split later\n",
        "if 'X_test' in locals() and 'y_test' in locals():\n",
        "    _, acc = model.evaluate(X_test, y_test, verbose=0) # Added verbose=0 to prevent printing progress bar\n",
        "    print(\"Accuracy = \", (acc * 100.0), \"%\")\n",
        "else:\n",
        "    print(\"Error: X_test and y_test are not defined. Please ensure train_test_split has been run.\")\n",
        "\n",
        "################################################################"
      ],
      "metadata": {
        "colab": {
          "base_uri": "https://localhost:8080/"
        },
        "id": "_Tp1-FawDI_p",
        "outputId": "6aa314a0-158a-4ed3-8684-8b554dec2db7"
      },
      "execution_count": 74,
      "outputs": [
        {
          "output_type": "stream",
          "name": "stdout",
          "text": [
            "Error: X_test and y_test are not defined. Please ensure train_test_split has been run.\n"
          ]
        }
      ]
    },
    {
      "cell_type": "code",
      "source": [
        "# prompt: berikan code evaluasi model\n",
        "\n",
        "from sklearn.metrics import classification_report, confusion_matrix\n",
        "from sklearn.model_selection import train_test_split\n",
        "from sklearn.preprocessing import MultiLabelBinarizer\n",
        "import numpy as np\n",
        "import pandas as pd\n",
        "import os\n",
        "from tensorflow.keras.preprocessing import image\n",
        "\n",
        "# Define SIZE and image_directory (assuming these are set earlier in your notebook)\n",
        "SIZE = 200  # Example size, adjust as needed\n",
        "image_directory = '/content/DatasetMultilabe_Fitri Ramadhania_202255202021/' # Example directory, adjust as needed\n",
        "csv_path = '/content/TrainDataset_Fitri Ramadhania_202255202021.csv' # Example path, adjust as needed\n",
        "\n",
        "# --- Start: Ensure X and y are properly loaded and processed ---\n",
        "# Re-load the dataframe to be absolutely sure\n",
        "try:\n",
        "    df = pd.read_csv(csv_path, sep=';')\n",
        "except pd.errors.ParserError:\n",
        "    df = pd.read_csv(csv_path)\n",
        "\n",
        "# Limit to 2000 datapoints and reset index if that was your intention\n",
        "df = df.iloc[:2000].reset_index(drop=True)\n",
        "\n",
        "# Process images to create X\n",
        "X_dataset = []\n",
        "print(\"Loading images for evaluation...\")\n",
        "for i in tqdm(range(df.shape[0])):\n",
        "    image_id = str(df['Id'].iloc[i])\n",
        "    img_path = os.path.join(image_directory, image_id + '.jpg')\n",
        "\n",
        "    try:\n",
        "        img = image.load_img(img_path, target_size=(SIZE, SIZE))\n",
        "        img = image.img_to_array(img)\n",
        "        img = img / 255.0\n",
        "        X_dataset.append(img)\n",
        "    except FileNotFoundError:\n",
        "        # This warning was already in your code, keeping it\n",
        "        # print(f\"[WARNING] Gambar tidak ditemukan: {img_path}\")\n",
        "        continue\n",
        "\n",
        "X = np.array(X_dataset)\n",
        "print(f\"Finished loading {X.shape[0]} images.\")\n",
        "\n",
        "\n",
        "# Process labels to create y using MultiLabelBinarizer\n",
        "if 'jenis sunscreen' in df.columns:\n",
        "    mlb = MultiLabelBinarizer()\n",
        "    df['label_list'] = df['jenis sunscreen'].apply(lambda x: [label.strip() for label in x.split(',')])\n",
        "    y = mlb.fit_transform(df['label_list'])\n",
        "    print(f\"Finished processing labels. y shape: {y.shape}\")\n",
        "else:\n",
        "    print(\"Error: 'jenis sunscreen' column not found in the DataFrame. Cannot process labels.\")\n",
        "    # You might want to exit or handle this error more explicitly\n",
        "    # For now, setting y to None to prevent further errors if the column is missing\n",
        "    y = None\n",
        "\n",
        "\n",
        "# --- End: Ensure X and y are properly loaded and processed ---\n",
        "\n",
        "\n",
        "# Now, perform the train-test split and evaluation only if X and y are available\n",
        "if 'X' in locals() and X is not None and 'y' in locals() and y is not None:\n",
        "    print(\"Performing train-test split and evaluation...\")\n",
        "    X_train, X_test, y_train, y_test = train_test_split(X, y, test_size=0.2, random_state=42)\n",
        "\n",
        "    # Make predictions on the test set\n",
        "    y_pred = model.predict(X_test)\n",
        "\n",
        "    # Convert probabilities to class labels (e.g., using a threshold)\n",
        "    y_pred_classes = (y_pred > 0.5).astype(int)  # Assuming 0.5 as the threshold\n",
        "\n",
        "    # Calculate and print the classification report\n",
        "    # Ensure target_names are the actual class names from your MultiLabelBinarizer\n",
        "    if 'mlb' in globals() and hasattr(mlb, 'classes_'):\n",
        "        print(\"\\nClassification Report:\")\n",
        "        print(classification_report(y_test, y_pred_classes, target_names=mlb.classes_))\n",
        "\n",
        "        # Calculate and print the confusion matrix for each label\n",
        "        print(\"\\nConfusion Matrices per Label:\")\n",
        "        for i in range(len(mlb.classes_)):\n",
        "            print(f\"\\nConfusion Matrix for {mlb.classes_[i]}:\")\n",
        "            print(confusion_matrix(y_test[:,i], y_pred_classes[:,i]))\n",
        "    else:\n",
        "        print(\"\\nError: MultiLabelBinarizer (mlb) not fitted. Cannot get class names for evaluation.\")\n",
        "\n",
        "else:\n",
        "    print(\"\\nError: X or y are not defined or are None. Please ensure data loading and preprocessing steps have been completed successfully.\")"
      ],
      "metadata": {
        "colab": {
          "base_uri": "https://localhost:8080/",
          "height": 443
        },
        "id": "2gQ4kZi2916_",
        "outputId": "756fb7f3-df8f-4247-9653-6c8a4849a5fd"
      },
      "execution_count": 79,
      "outputs": [
        {
          "output_type": "stream",
          "name": "stdout",
          "text": [
            "Loading images for evaluation...\n"
          ]
        },
        {
          "output_type": "stream",
          "name": "stderr",
          "text": [
            "100%|██████████| 300/300 [00:00<00:00, 31913.65it/s]"
          ]
        },
        {
          "output_type": "stream",
          "name": "stdout",
          "text": [
            "Finished loading 0 images.\n",
            "Finished processing labels. y shape: (300, 4)\n",
            "Performing train-test split and evaluation...\n"
          ]
        },
        {
          "output_type": "stream",
          "name": "stderr",
          "text": [
            "\n"
          ]
        },
        {
          "output_type": "error",
          "ename": "ValueError",
          "evalue": "Found input variables with inconsistent numbers of samples: [0, 300]",
          "traceback": [
            "\u001b[0;31m---------------------------------------------------------------------------\u001b[0m",
            "\u001b[0;31mValueError\u001b[0m                                Traceback (most recent call last)",
            "\u001b[0;32m<ipython-input-79-7d9ed6a678c4>\u001b[0m in \u001b[0;36m<cell line: 0>\u001b[0;34m()\u001b[0m\n\u001b[1;32m     64\u001b[0m \u001b[0;32mif\u001b[0m \u001b[0;34m'X'\u001b[0m \u001b[0;32min\u001b[0m \u001b[0mlocals\u001b[0m\u001b[0;34m(\u001b[0m\u001b[0;34m)\u001b[0m \u001b[0;32mand\u001b[0m \u001b[0mX\u001b[0m \u001b[0;32mis\u001b[0m \u001b[0;32mnot\u001b[0m \u001b[0;32mNone\u001b[0m \u001b[0;32mand\u001b[0m \u001b[0;34m'y'\u001b[0m \u001b[0;32min\u001b[0m \u001b[0mlocals\u001b[0m\u001b[0;34m(\u001b[0m\u001b[0;34m)\u001b[0m \u001b[0;32mand\u001b[0m \u001b[0my\u001b[0m \u001b[0;32mis\u001b[0m \u001b[0;32mnot\u001b[0m \u001b[0;32mNone\u001b[0m\u001b[0;34m:\u001b[0m\u001b[0;34m\u001b[0m\u001b[0;34m\u001b[0m\u001b[0m\n\u001b[1;32m     65\u001b[0m     \u001b[0mprint\u001b[0m\u001b[0;34m(\u001b[0m\u001b[0;34m\"Performing train-test split and evaluation...\"\u001b[0m\u001b[0;34m)\u001b[0m\u001b[0;34m\u001b[0m\u001b[0;34m\u001b[0m\u001b[0m\n\u001b[0;32m---> 66\u001b[0;31m     \u001b[0mX_train\u001b[0m\u001b[0;34m,\u001b[0m \u001b[0mX_test\u001b[0m\u001b[0;34m,\u001b[0m \u001b[0my_train\u001b[0m\u001b[0;34m,\u001b[0m \u001b[0my_test\u001b[0m \u001b[0;34m=\u001b[0m \u001b[0mtrain_test_split\u001b[0m\u001b[0;34m(\u001b[0m\u001b[0mX\u001b[0m\u001b[0;34m,\u001b[0m \u001b[0my\u001b[0m\u001b[0;34m,\u001b[0m \u001b[0mtest_size\u001b[0m\u001b[0;34m=\u001b[0m\u001b[0;36m0.2\u001b[0m\u001b[0;34m,\u001b[0m \u001b[0mrandom_state\u001b[0m\u001b[0;34m=\u001b[0m\u001b[0;36m42\u001b[0m\u001b[0;34m)\u001b[0m\u001b[0;34m\u001b[0m\u001b[0;34m\u001b[0m\u001b[0m\n\u001b[0m\u001b[1;32m     67\u001b[0m \u001b[0;34m\u001b[0m\u001b[0m\n\u001b[1;32m     68\u001b[0m     \u001b[0;31m# Make predictions on the test set\u001b[0m\u001b[0;34m\u001b[0m\u001b[0;34m\u001b[0m\u001b[0m\n",
            "\u001b[0;32m/usr/local/lib/python3.11/dist-packages/sklearn/utils/_param_validation.py\u001b[0m in \u001b[0;36mwrapper\u001b[0;34m(*args, **kwargs)\u001b[0m\n\u001b[1;32m    214\u001b[0m                     )\n\u001b[1;32m    215\u001b[0m                 ):\n\u001b[0;32m--> 216\u001b[0;31m                     \u001b[0;32mreturn\u001b[0m \u001b[0mfunc\u001b[0m\u001b[0;34m(\u001b[0m\u001b[0;34m*\u001b[0m\u001b[0margs\u001b[0m\u001b[0;34m,\u001b[0m \u001b[0;34m**\u001b[0m\u001b[0mkwargs\u001b[0m\u001b[0;34m)\u001b[0m\u001b[0;34m\u001b[0m\u001b[0;34m\u001b[0m\u001b[0m\n\u001b[0m\u001b[1;32m    217\u001b[0m             \u001b[0;32mexcept\u001b[0m \u001b[0mInvalidParameterError\u001b[0m \u001b[0;32mas\u001b[0m \u001b[0me\u001b[0m\u001b[0;34m:\u001b[0m\u001b[0;34m\u001b[0m\u001b[0;34m\u001b[0m\u001b[0m\n\u001b[1;32m    218\u001b[0m                 \u001b[0;31m# When the function is just a wrapper around an estimator, we allow\u001b[0m\u001b[0;34m\u001b[0m\u001b[0;34m\u001b[0m\u001b[0m\n",
            "\u001b[0;32m/usr/local/lib/python3.11/dist-packages/sklearn/model_selection/_split.py\u001b[0m in \u001b[0;36mtrain_test_split\u001b[0;34m(test_size, train_size, random_state, shuffle, stratify, *arrays)\u001b[0m\n\u001b[1;32m   2846\u001b[0m         \u001b[0;32mraise\u001b[0m \u001b[0mValueError\u001b[0m\u001b[0;34m(\u001b[0m\u001b[0;34m\"At least one array required as input\"\u001b[0m\u001b[0;34m)\u001b[0m\u001b[0;34m\u001b[0m\u001b[0;34m\u001b[0m\u001b[0m\n\u001b[1;32m   2847\u001b[0m \u001b[0;34m\u001b[0m\u001b[0m\n\u001b[0;32m-> 2848\u001b[0;31m     \u001b[0marrays\u001b[0m \u001b[0;34m=\u001b[0m \u001b[0mindexable\u001b[0m\u001b[0;34m(\u001b[0m\u001b[0;34m*\u001b[0m\u001b[0marrays\u001b[0m\u001b[0;34m)\u001b[0m\u001b[0;34m\u001b[0m\u001b[0;34m\u001b[0m\u001b[0m\n\u001b[0m\u001b[1;32m   2849\u001b[0m \u001b[0;34m\u001b[0m\u001b[0m\n\u001b[1;32m   2850\u001b[0m     \u001b[0mn_samples\u001b[0m \u001b[0;34m=\u001b[0m \u001b[0m_num_samples\u001b[0m\u001b[0;34m(\u001b[0m\u001b[0marrays\u001b[0m\u001b[0;34m[\u001b[0m\u001b[0;36m0\u001b[0m\u001b[0;34m]\u001b[0m\u001b[0;34m)\u001b[0m\u001b[0;34m\u001b[0m\u001b[0;34m\u001b[0m\u001b[0m\n",
            "\u001b[0;32m/usr/local/lib/python3.11/dist-packages/sklearn/utils/validation.py\u001b[0m in \u001b[0;36mindexable\u001b[0;34m(*iterables)\u001b[0m\n\u001b[1;32m    530\u001b[0m \u001b[0;34m\u001b[0m\u001b[0m\n\u001b[1;32m    531\u001b[0m     \u001b[0mresult\u001b[0m \u001b[0;34m=\u001b[0m \u001b[0;34m[\u001b[0m\u001b[0m_make_indexable\u001b[0m\u001b[0;34m(\u001b[0m\u001b[0mX\u001b[0m\u001b[0;34m)\u001b[0m \u001b[0;32mfor\u001b[0m \u001b[0mX\u001b[0m \u001b[0;32min\u001b[0m \u001b[0miterables\u001b[0m\u001b[0;34m]\u001b[0m\u001b[0;34m\u001b[0m\u001b[0;34m\u001b[0m\u001b[0m\n\u001b[0;32m--> 532\u001b[0;31m     \u001b[0mcheck_consistent_length\u001b[0m\u001b[0;34m(\u001b[0m\u001b[0;34m*\u001b[0m\u001b[0mresult\u001b[0m\u001b[0;34m)\u001b[0m\u001b[0;34m\u001b[0m\u001b[0;34m\u001b[0m\u001b[0m\n\u001b[0m\u001b[1;32m    533\u001b[0m     \u001b[0;32mreturn\u001b[0m \u001b[0mresult\u001b[0m\u001b[0;34m\u001b[0m\u001b[0;34m\u001b[0m\u001b[0m\n\u001b[1;32m    534\u001b[0m \u001b[0;34m\u001b[0m\u001b[0m\n",
            "\u001b[0;32m/usr/local/lib/python3.11/dist-packages/sklearn/utils/validation.py\u001b[0m in \u001b[0;36mcheck_consistent_length\u001b[0;34m(*arrays)\u001b[0m\n\u001b[1;32m    473\u001b[0m     \u001b[0muniques\u001b[0m \u001b[0;34m=\u001b[0m \u001b[0mnp\u001b[0m\u001b[0;34m.\u001b[0m\u001b[0munique\u001b[0m\u001b[0;34m(\u001b[0m\u001b[0mlengths\u001b[0m\u001b[0;34m)\u001b[0m\u001b[0;34m\u001b[0m\u001b[0;34m\u001b[0m\u001b[0m\n\u001b[1;32m    474\u001b[0m     \u001b[0;32mif\u001b[0m \u001b[0mlen\u001b[0m\u001b[0;34m(\u001b[0m\u001b[0muniques\u001b[0m\u001b[0;34m)\u001b[0m \u001b[0;34m>\u001b[0m \u001b[0;36m1\u001b[0m\u001b[0;34m:\u001b[0m\u001b[0;34m\u001b[0m\u001b[0;34m\u001b[0m\u001b[0m\n\u001b[0;32m--> 475\u001b[0;31m         raise ValueError(\n\u001b[0m\u001b[1;32m    476\u001b[0m             \u001b[0;34m\"Found input variables with inconsistent numbers of samples: %r\"\u001b[0m\u001b[0;34m\u001b[0m\u001b[0;34m\u001b[0m\u001b[0m\n\u001b[1;32m    477\u001b[0m             \u001b[0;34m%\u001b[0m \u001b[0;34m[\u001b[0m\u001b[0mint\u001b[0m\u001b[0;34m(\u001b[0m\u001b[0ml\u001b[0m\u001b[0;34m)\u001b[0m \u001b[0;32mfor\u001b[0m \u001b[0ml\u001b[0m \u001b[0;32min\u001b[0m \u001b[0mlengths\u001b[0m\u001b[0;34m]\u001b[0m\u001b[0;34m\u001b[0m\u001b[0;34m\u001b[0m\u001b[0m\n",
            "\u001b[0;31mValueError\u001b[0m: Found input variables with inconsistent numbers of samples: [0, 300]"
          ]
        }
      ]
    }
  ]
}